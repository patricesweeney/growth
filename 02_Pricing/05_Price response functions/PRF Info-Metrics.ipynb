{
 "cells": [
  {
   "cell_type": "markdown",
   "id": "0cfb477a-1035-43f5-b262-ff0e0bec70e4",
   "metadata": {},
   "source": [
    "# Single parameter"
   ]
  },
  {
   "cell_type": "code",
   "execution_count": null,
   "id": "2ec76815-0d88-4948-b822-a6450b5ba231",
   "metadata": {},
   "outputs": [],
   "source": []
  }
 ],
 "metadata": {
  "kernelspec": {
   "display_name": "Python (EconML)",
   "language": "python",
   "name": "econml"
  },
  "language_info": {
   "codemirror_mode": {
    "name": "ipython",
    "version": 3
   },
   "file_extension": ".py",
   "mimetype": "text/x-python",
   "name": "python",
   "nbconvert_exporter": "python",
   "pygments_lexer": "ipython3",
   "version": "3.11.5"
  }
 },
 "nbformat": 4,
 "nbformat_minor": 5
}
