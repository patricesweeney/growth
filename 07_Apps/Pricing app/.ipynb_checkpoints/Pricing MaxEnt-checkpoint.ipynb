{
 "cells": [
  {
   "cell_type": "markdown",
   "id": "ccaadb8f-28d9-454b-a4b9-ae0d1c93845d",
   "metadata": {},
   "source": [
    "# MaxEnt Mixed Logit"
   ]
  },
  {
   "cell_type": "markdown",
   "id": "657d7889-388f-440c-aa26-2f89c8be1b6a",
   "metadata": {},
   "source": [
    "### Choice probabilities"
   ]
  },
  {
   "cell_type": "markdown",
   "id": "db99224a-a2b5-4e05-b879-f70c70e2d019",
   "metadata": {},
   "source": [
    "Probability Function: \n",
    "$$\n",
    "P(y_i | X_i, \\alpha_j, \\beta_i) = \\frac{e^{\\alpha_j + X_{i}' \\beta_i}}{\\sum_{k \\in C} e^{\\alpha_k + X_{ik}' \\beta_i}}\n",
    "$$\n",
    "\n",
    "- $P(y_i | X_i, \\alpha_j, \\beta_i)$: Probability of individual $i$ choosing a particular alternative.\n",
    "- $y_i$: Choice outcome for individual $i$.\n",
    "- $X_i$: Set of explanatory variables for individual $i$.\n",
    "- $\\alpha_j$: Intercept term for choice $j$, assumed to be a random variable varying across choices.\n",
    "- $\\beta_i$: Coefficient vector for individual $i$, assumed to be a random variable varying across individuals.\n",
    "- $C$: Set of available choices.\n",
    "\n",
    "\n",
    "The price betas vary across each customer, with the same mean and sigma for each product.\n",
    "\n",
    "$$ \\beta_i = \\beta + \\sigma v_i$$\n",
    "\n",
    "The alpha betas vary across each customer, with a different mean and sigma for each product.\n",
    "\n",
    "$$ \\alpha_{ij} = \\alpha_{j} + \\sigma_j v_i $$\n",
    "\n",
    "Because beta is a random variable, having several betas creates a random vector $\\phi$ with a joint probability distribution.\n",
    "\n",
    "Assuming independence (i.e. $X$ are not substitutes or complements)\n",
    "\n",
    "$$\\phi_i = \\phi + \\Gamma v_i$$\n",
    "\n",
    "where $\\Gamma$ is the standard deviation matrix with the sigmas on the main diagonal.\n",
    "\n",
    "With correlation, the covariance matrix becomes\n",
    "\n",
    "$$ \\Sigma = \\Gamma \\Gamma' $$\n",
    "\n",
    "where the elements below the main diagonal $\\neq 0.$\n",
    "\n",
    "**Dealing with $\\alpha$**\n",
    "\n",
    "We can rewrite the utility function $U = \\alpha + \\beta X$ as \n",
    "\n",
    "$$ U = \\alpha \\cdot 1 + \\beta \\cdot X $$\n",
    "\n",
    "and then pretend that $\\alpha$ is just another beta, and that the 1 is a dummy variable which is true when the product of interest is (potentially?) being chosen."
   ]
  },
  {
   "cell_type": "markdown",
   "id": "956fae03-f256-491e-b832-dd485a5d1464",
   "metadata": {
    "jp-MarkdownHeadingCollapsed": true
   },
   "source": [
    "### Likelihood function\n",
    "Likelihood Function for MNL Model:\n",
    "$$\n",
    "L(\\beta) = \\prod_{i=1}^{N} \\left( \\frac{e^{X_{i}' \\beta}}{\\sum_{j \\in C} e^{X_{ij}' \\beta}} \\right)^{y_{ij}}\n",
    "$$\n",
    "\n",
    "- $L(\\beta)$: Likelihood function for the coefficient vector $\\beta$.\n",
    "- $N$: Total number of observations (or individuals).\n",
    "- $X_i$: Set of explanatory variables for individual $i$.\n",
    "- $\\beta$: Coefficient vector for the explanatory variables.\n",
    "- $C$: Set of all available choices.\n",
    "- $y_{ij}$: Indicator variable that is 1 if individual $i$ chooses alternative $j$, and 0 otherwise.\n",
    "\n",
    "Explanation:\n",
    "- For each individual $i$, the probability of choosing the observed alternative is calculated.\n",
    "- These probabilities are then multiplied across all individuals to get the likelihood of observing the entire set of choices given the parameters $\\beta$.\n",
    "- This function is typically maximized to estimate the $\\beta$ coefficients in MNL models.\n"
   ]
  },
  {
   "cell_type": "markdown",
   "id": "1d112e7d-e3e4-4330-9189-02c5d257c5b1",
   "metadata": {},
   "source": [
    "# MaxEnt form"
   ]
  },
  {
   "cell_type": "markdown",
   "id": "a1616c30-9b0a-4e19-b279-039aa8231b42",
   "metadata": {},
   "source": [
    "$$ y_{i} = F(X_{i}' \\beta) + \\epsilon_{i}$$\n",
    "\n",
    "where \n",
    "- $y_i$ is the binary (1/0) choice data of what actually happened.\n",
    "- $F( \\cdot )$ is a link function.\n",
    "\n",
    "$$ y_{i} = p_i \\epsilon_{i}$$\n",
    "\n",
    "Simplifying, the choice that actually happened is just the predicted probability plus some error $\\epsilon_i$.\n",
    "\n",
    "Because $0 < p_i < 1$ and $y_i$ is either $0$ or $1$, the error term is bounded between $[-1,1]$.\n",
    "\n",
    "### Revenue cross-moments\n",
    "\n",
    "$\\sum_i y_i x_i$ is the total number of choices made (seats purchased) times the price—namely, the total actual revenue.\n",
    "\n",
    "$\\sum_i p_i x_i$ is the total predicted choices (fractional seats purchased) times the price—namely, the total predicted revenue.\n",
    "\n",
    "$\\sum_i \\epsilon_i x_i$ is the total predicted choice error times the price—namely, the total revenue error.\n",
    "\n",
    "$$\\sum_i y_i x_i = \\sum_i p_i x_i + \\sum_i \\epsilon_i x_i $$\n",
    "\n",
    "Or more intuitively, total revenue equals predicted revenue plus revenue error.\n",
    "\n",
    "### Making probabilities and error random variables\n",
    "\n",
    "Let $p_i$ be the average of discrete random variable $s$, whose values can range $[0,1]$. \n",
    "\n",
    "$$ \\langle s \\rangle  = p_i $$\n",
    "\n",
    "The true PMF of $s$ is $\\pi$, such that every potential value of s $[0,1]$, multiplied by that value's probability $\\pi$ equals the expected value.\n",
    "\n",
    "$$ \\langle s \\rangle  = \\sum_m s_m \\pi_m $$\n",
    "\n",
    "\n",
    "\n",
    "Let $\\epsilon_i$ be the average of a discrete random variable $u$, whose values can range from $[-1,1]$. \n",
    "\n",
    "$$  \\langle u \\rangle = \\epsilon_i $$\n",
    "\n",
    "The true PMF of $u$ is $w$ and the same logic as before holds.\n",
    "\n",
    "$$ \\langle u \\rangle  = \\sum_h u_h w_h $$\n",
    "\n",
    "\n",
    "### Revisiting revenue cross-moments\n",
    "\n",
    "We substitute in our new definitions of $p_i$ and $\\epsilon_i$.\n",
    "\n",
    "$$\\sum_i y_i x_i = \\sum_i \\left( \\sum_m s_m \\pi_m \\right) x_i + \\sum_i \\left( \\sum_h u_h w_h \\right) x_i$$\n",
    "\n",
    "\n",
    "Our goal is to estimate the probability distributions of $p_i$ ($\\pi_m$) and $\\epsilon_i$ ($w_h$) simultaneously by maximising their joint entropy, subject to the constraint above and the usual sum to one constraints. \n",
    "\n",
    "\n",
    "\n",
    "$$ \\max_{\\pi, w} H(\\pi, w) = H(\\pi) + H(w)$$\n",
    "\n",
    "s.t. \n",
    "\n",
    "Revenue equalling the sum of predicted revenue and total revenue:\n",
    "\n",
    "$$\\sum_i y_i x_i = \\sum_i \\left( \\sum_m s_m \\pi_m \\right) x_i + \\sum_i \\left( \\sum_h u_h w_h \\right) x_i$$\n",
    "\n",
    "The $p_i$ and $\\epsilon_i$ RV probabilities adding up to 1.\n",
    "\n",
    "$$ \\sum_m \\pi_m = 1$$\n",
    "\n",
    "$$ \\sum_h w_h = 1$$\n",
    "\n"
   ]
  },
  {
   "cell_type": "markdown",
   "id": "8f794b78-7bde-4e0d-8c7d-4ea253eb7255",
   "metadata": {},
   "source": [
    "# Lagrangeans"
   ]
  },
  {
   "cell_type": "markdown",
   "id": "e7f24f25-f6ab-40ca-b6ec-2eaf743c131e",
   "metadata": {},
   "source": [
    "$$ \\hat{\\pi} $$\n",
    "\n",
    "$$ \\hat{w} $$\n"
   ]
  },
  {
   "cell_type": "markdown",
   "id": "97853e05-00f6-49ed-9b27-93a936dd37ca",
   "metadata": {},
   "source": [
    "# References"
   ]
  },
  {
   "cell_type": "markdown",
   "id": "fe58ed9e-043a-46a2-9079-d11527082f23",
   "metadata": {},
   "source": [
    "Manzini, P., Mariotti, M., & Ülkü, L. (2019). Stochastic complementarity. The Economic Journal, 129(619), 1343-1363.\n",
    "\n",
    "Golan, A., & Greene, W. H. (2016). An Information Theoretic Estimator for the Mixed Discrete Choice Model. Handbook of Empirical Economics and Finance, 90-105.\n",
    "\n",
    "Yan, Z., Natarajan, K., Teo, C. P., & Cheng, C. (2022). A representative consumer model in data-driven multiproduct pricing optimization. Management Science, 68(8), 5798-5827."
   ]
  },
  {
   "cell_type": "code",
   "execution_count": null,
   "id": "c13875d5-21ef-4d46-bfbf-1697021f855f",
   "metadata": {},
   "outputs": [],
   "source": []
  }
 ],
 "metadata": {
  "kernelspec": {
   "display_name": "Python (EconML)",
   "language": "python",
   "name": "econml"
  },
  "language_info": {
   "codemirror_mode": {
    "name": "ipython",
    "version": 3
   },
   "file_extension": ".py",
   "mimetype": "text/x-python",
   "name": "python",
   "nbconvert_exporter": "python",
   "pygments_lexer": "ipython3",
   "version": "3.11.5"
  }
 },
 "nbformat": 4,
 "nbformat_minor": 5
}
