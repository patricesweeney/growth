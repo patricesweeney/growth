{
 "cells": [
  {
   "cell_type": "markdown",
   "id": "a79e3f34",
   "metadata": {},
   "source": [
    "# Pat's startup"
   ]
  },
  {
   "cell_type": "code",
   "execution_count": null,
   "id": "d3f1169a-b817-4945-b615-115a912b6baf",
   "metadata": {},
   "outputs": [],
   "source": []
  },
  {
   "cell_type": "markdown",
   "id": "2028988c-fe8e-48d0-8792-1699609a0962",
   "metadata": {
    "jp-MarkdownHeadingCollapsed": true
   },
   "source": [
    "# Product and market"
   ]
  },
  {
   "cell_type": "markdown",
   "id": "61498997-21fd-4835-838f-c5920cc1cce8",
   "metadata": {},
   "source": [
    "\n",
    "Our product is a straightforward, AI-driven tool for optimizing pricing in Series A/B SaaS companies. It quickly determines the most profitable prices, addressing key challenges faced by CEOs in this sector.\n",
    "\n",
    "**Core Functionality**\n",
    "Uses AI and econometrics to set Bayes-optimal prices.\n",
    "Delivers results in minutes, not months.\n",
    "\n",
    "**Problem's Solved:**\n",
    "Tackles the opportunity cost of ineffective pricing.\n",
    "Eliminates the need for expensive consultants.\n",
    "Reduces the risk of revenue loss or growth slowdown due to poor pricing.\n",
    "\n",
    "**User Experience:**\n",
    "Designed for ease of use, making complex pricing strategies accessible.\n",
    "Addresses concerns about data privacy and method trustworthiness.\n",
    "\n",
    "**Risk Management:**\n",
    "Offers a money-back guarantee if it doesn't lead to immediate revenue uplift.\n",
    "Demonstrated effectiveness through case studies from companies X, Y, and Z.\n",
    "\n",
    "This tool empowers CEOs to make informed, data-backed pricing decisions efficiently, ensuring competitiveness in a fast-paced market."
   ]
  },
  {
   "cell_type": "markdown",
   "id": "01cd2777-61b2-411b-bd2e-fae77d01f5a4",
   "metadata": {
    "jp-MarkdownHeadingCollapsed": true
   },
   "source": [
    "# Problem definition"
   ]
  },
  {
   "cell_type": "code",
   "execution_count": null,
   "id": "da3ad974-2ccb-4109-88f8-67ee163d9368",
   "metadata": {
    "scrolled": true
   },
   "outputs": [],
   "source": [
    "import matplotlib.pyplot as plt\n",
    "import networkx as nx\n",
    "\n",
    "# Create a directed graph\n",
    "G = nx.DiGraph()\n",
    "\n",
    "# Define nodes and edges\n",
    "nodes = [\"Price\", \"Choice\", \"Product Attributes\", \"Macro\", \"Budget Constraint\", \"Error Term\"]\n",
    "edges = [\n",
    "    (\"Price\", \"Choice\"),\n",
    "    (\"Product Attributes\", \"Choice\"),\n",
    "    (\"Product Attributes\", \"Price\"),\n",
    "    (\"Macro\", \"Budget Constraint\"),\n",
    "    (\"Budget Constraint\", \"Choice\"),\n",
    "    (\"Error Term\", \"Choice\")\n",
    "]\n",
    "\n",
    "# Add nodes and edges to the graph\n",
    "G.add_nodes_from(nodes)\n",
    "G.add_edges_from(edges)\n",
    "\n",
    "# Define positions for a DAG-like structure\n",
    "pos = {\n",
    "    \"Price\": (1, 1),\n",
    "    \"Choice\": (2, 0),\n",
    "    \"Product Attributes\": (0, 0),\n",
    "    \"Macro\": (0, -1),\n",
    "    \"Budget Constraint\": (1, -1),\n",
    "    \"Error Term\": (3, 0)\n",
    "}\n",
    "\n",
    "# Define edge colors\n",
    "edge_colors = [\"green\" if edge == (\"Price\", \"Choice\") else \"red\" for edge in G.edges()]\n",
    "\n",
    "# Draw the graph\n",
    "plt.figure(figsize=(8, 5))\n",
    "nx.draw(G, pos, with_labels=True, node_color=\"skyblue\", edge_color=edge_colors, arrows=True, width=2, node_size=3000, font_size=10)\n",
    "plt.title(\"Pricing Problem (DAG) with Error Term\")\n",
    "plt.show()\n"
   ]
  },
  {
   "cell_type": "markdown",
   "id": "07b0d786-bd5b-4815-91c9-c653503ca5c1",
   "metadata": {
    "jp-MarkdownHeadingCollapsed": true
   },
   "source": [
    "# Value of information"
   ]
  },
  {
   "cell_type": "markdown",
   "id": "1a80d049-094a-4bf7-b849-c6917a367705",
   "metadata": {},
   "source": [
    "### Under expected utility theory"
   ]
  },
  {
   "cell_type": "markdown",
   "id": "99d69905-8d97-4652-a16a-7bf1f49bd517",
   "metadata": {},
   "source": [
    "\n",
    "**Risk-Averse Utility Function:**  \n",
    "\n",
    "$$ U(\\pi) = -e^{-a\\pi} $$\n",
    "\n",
    "- $\\pi$ is the expected payoff.\n",
    "- $a > 0$ is a parameter indicating the degree of risk aversion.\n",
    "- Higher $a$ implies greater risk aversion.\n",
    "- This function shows diminishing marginal utility of wealth.\n",
    "\n",
    "**Risk-Seeking Utility Function:**  \n",
    "\n",
    "$$ U(\\pi) = e^{b\\pi} $$\n",
    "\n",
    "- $\\pi$ is the expected payoff.\n",
    "- $b > 0$ indicates a propensity towards risk-seeking behavior.\n",
    "- Higher $b$ implies greater risk-seeking.\n",
    "- This function shows increasing marginal utility with wealth.\n",
    "\n",
    "**Utility Function Considering Risk:**  \n",
    "\n",
    "$$ U(\\pi, \\sigma) = \\pi - \\frac{\\lambda \\sigma^2}{2} $$\n",
    "\n",
    "- $\\pi$ is the expected payoff.\n",
    "- $\\sigma$ represents the risk (standard deviation or variance of the payoff).\n",
    "- $\\lambda$ represents the degree of risk aversion.\n",
    "- Higher $\\lambda$ indicates greater risk aversion.\n",
    "- This function captures a trade-off between expected payoff and associated risk.\n"
   ]
  },
  {
   "cell_type": "code",
   "execution_count": null,
   "id": "6cc419ea-46f3-4973-9c8e-ed3dd9277d9a",
   "metadata": {},
   "outputs": [],
   "source": [
    "import numpy as np\n",
    "import matplotlib.pyplot as plt\n",
    "\n",
    "# Fixed expected payoff (pi)\n",
    "pi = 10\n",
    "\n",
    "# Range of standard deviations (sigma) limited to a maximum of 4\n",
    "sigmas_reduced = np.linspace(0, 4, 100)\n",
    "\n",
    "# Different values of lambda for risk aversion\n",
    "lambdas = [0.5, 1, 1.5, 2]\n",
    "\n",
    "# Normalized utility calculation\n",
    "def normalized_utility(pi, sigma, lambda_val):\n",
    "    risk_free_utility = pi - (lambda_val * 0**2) / 2  # Utility at sigma = 0\n",
    "    return (pi - (lambda_val * sigma**2) / 2) * 100 / risk_free_utility\n",
    "\n",
    "# Plotting the normalized utility function with reduced sigma range\n",
    "plt.figure(figsize=(10, 6))\n",
    "for lambda_val in lambdas:\n",
    "    normalized_util = normalized_utility(pi, sigmas_reduced, lambda_val)\n",
    "    plt.plot(sigmas_reduced, normalized_util, label=f'λ = {lambda_val}')\n",
    "\n",
    "plt.xlabel('Standard Deviation (σ)')\n",
    "plt.ylabel('Normalized Utility (U)')\n",
    "plt.title('Normalized Utility Function with σ up to 4 for Different Levels of Risk Aversion')\n",
    "plt.legend()\n",
    "plt.grid(True)\n",
    "plt.show()\n"
   ]
  },
  {
   "cell_type": "markdown",
   "id": "eb981df0-bd49-4456-977b-08de3f95de76",
   "metadata": {},
   "source": [
    "### Under prospect theory"
   ]
  },
  {
   "cell_type": "markdown",
   "id": "042fe231-ddf4-4ec4-ad44-0bd9648cd5fc",
   "metadata": {},
   "source": [
    "To calculate the value of a lottery under Prospect Theory for a decision maker with a reference payoff $\\pi$, let's consider a lottery that offers a Gaussian-distributed payoff with an expected value $\\pi + \\Delta$ and standard deviation $\\sigma$. We'll go through this in two steps: first, transforming the probabilities, and then applying the value function.\n",
    "\n",
    "**Step 1: Transforming the Probabilities**\n",
    "\n",
    "The lottery's payoff distribution is Gaussian. The decision maker perceives these probabilities through a distorted lens due to the probability weighting function. If $f(x)$ is the probability density function of the Gaussian distribution, the transformed probability density function $g(x)$ would be:\n",
    "\n",
    "$$ g(x) = w(f(x)) $$\n",
    "\n",
    "where $w(p)$ is the probability weighting function of Prospect Theory. A common form for this function is:\n",
    "\n",
    "$$ w(p) = \\frac{p^\\gamma}{(p^\\gamma + (1 - p)^\\gamma)^{1/\\gamma}} $$\n",
    "\n",
    "with $\\gamma$ typically less than 1, reflecting the distortion in perception of probabilities.\n",
    "\n",
    "**Step 2: Applying the Value Function**\n",
    "\n",
    "Next, we apply the value function to each outcome. Let $v(x)$ be the Prospect Theory value function relative to the reference point $\\pi$. For a given outcome $x$, the gain or loss relative to $\\pi$ is $x - \\pi$. The value function might take the form:\n",
    "\n",
    "$$\n",
    "v(x - \\pi) = \n",
    "\\begin{cases} \n",
    "(x - \\pi)^\\alpha & \\text{if } x \\geq \\pi \\\\\n",
    "- \\lambda \\cdot (- (x - \\pi))^\\beta & \\text{if } x < \\pi\n",
    "\\end{cases}\n",
    "$$\n",
    "\n",
    "where $\\alpha$ and $\\beta$ capture diminishing sensitivity, and $\\lambda$ represents loss aversion.\n",
    "\n",
    "**Valuing the Lottery**\n",
    "\n",
    "The overall value of the lottery under Prospect Theory would be the expectation of the value function applied to the outcomes, weighted by the transformed probabilities. Mathematically, this is:\n",
    "\n",
    "$$ E[v] = \\int_{-\\infty}^{\\infty} v(x - \\pi) \\cdot g(x) \\, dx $$\n",
    "\n",
    "This integral calculates the expected utility of the lottery, taking into account both the distortion of probabilities and the asymmetric valuation of gains and losses relative to the reference point.\n"
   ]
  },
  {
   "cell_type": "markdown",
   "id": "69482aa1-3978-41ee-a8fe-1a25ba5eede8",
   "metadata": {
    "jp-MarkdownHeadingCollapsed": true
   },
   "source": [
    "# Discrete choice and random utility models"
   ]
  },
  {
   "cell_type": "markdown",
   "id": "cac48229-0de1-42b1-ba22-e3132dae245d",
   "metadata": {},
   "source": [
    "\n",
    "### General specification\n",
    "\n",
    "Discrete choice models the probability of a consumer choosing $j$ MECE choices as a function of some attribute. A natural attribute is price.\n",
    "In the context product choice, this usually means an $N+1$-dimesional demand system with $N$ inside goods and 1 additional 'Other' or 'No purchase' option.\n",
    "\n",
    "In the eyes of the decision maker, each choice $i$ is associated with a utility $U_i$. The decision maker will choose the alternative with the highest $U$.\n",
    "\n",
    "However, $U$ is not entirely determinstic, so the 'choice' is expressed as a probability distribution over the alternatives. Total utility $U$ can be decomposed into a deterministic component $V_j$ (observable to researcher), and an unobserved random variable $\\epsilon_j$ which is Gumbel distributed.\n",
    "\n",
    "Define the utility for each individual $n$ and alternative $i$:\n",
    "$$\n",
    "U_{ni} = \\mathbf{X}_{ni} \\boldsymbol{\\beta}_n + \\epsilon_{ni}\n",
    "$$\n",
    "where:\n",
    "- $\\mathbf{X}_{ni}$ is a vector of observed variables for alternative $i$ and individual $n$.\n",
    "- $\\boldsymbol{\\beta}_n$ is a vector of coefficients, varying across individuals according to some distribution.\n",
    "- $\\epsilon_{ni}$ is the random error term for individual $n$ and alternative $i$, typically i.i.d. and following a Gumbel distribution.\n",
    "\n",
    "\n",
    "The probability of choosing option $i$, denoted as $P(i)$, is the probability that $U_i$ is greater than $U_j$ for all $j \\neq i$. Mathematically, this is expressed as:\n",
    "$$ P(i) = P(U_i > U_j \\, \\text{for all} \\, j \\neq i) $$\n",
    "Expanding this, we get:\n",
    "$$ P(i) = P(V_i + \\varepsilon_i > V_j + \\varepsilon_j \\, \\text{for all} \\, j \\neq i) $$\n",
    "\n",
    "In decision-theoretic notation, this can be expressed as the probability that option $i$ is strictly preferred to all other options $j$, for each $j \\neq i$\n",
    "$$ P(i) = P(\\succ_i \\text{ over all } j \\neq i) $$\n",
    "Expanding this in terms of utility components, where $U_i$ represents the utility of option $i$ and $U_j$ represents the utility of option $j$, and considering both deterministic ($V$) and random ($\\varepsilon$) components, we get:\n",
    "$$ P(i) = P(V_i + \\varepsilon_i \\succ V_j + \\varepsilon_j \\, \\text{for all } j \\neq i) $$\n",
    "\n",
    "Here, $\\succ$ denotes the strict preference relation, indicating that the utility (and thus the preference) for option $i$ is greater than that for any other option $j$. The deterministic component $V$ reflects the observable attributes and fixed parameters, while $\\varepsilon$ captures the unobserved, random factors influencing utility and preference.\n",
    "\n",
    "\n",
    "\n",
    "\n",
    "Returning to the linear specification of $U$, the random coefficients $\\boldsymbol{\\beta}_n$ are assumed to vary across individuals according to a distribution, often normal:\n",
    "$$\n",
    "\\boldsymbol{\\beta}_n \\sim \\mathcal{N}(\\boldsymbol{\\mu}, \\boldsymbol{\\Sigma})\n",
    "$$\n",
    "where $\\boldsymbol{\\mu}$ is the mean vector and $\\boldsymbol{\\Sigma}$ is the covariance matrix of the coefficients.\n",
    "\n",
    "The Gumbel distribution for the error term $\\epsilon_{ni}$ is specified as:\n",
    "$$\n",
    "\\epsilon_{ni} \\sim \\text{Gumbel}(\\mu_{\\epsilon}, \\beta_{\\epsilon})\n",
    "$$\n",
    "where $\\mu_{\\epsilon}$ is the location parameter and $\\beta_{\\epsilon}$ is the scale parameter.\n",
    "\n",
    "The choice probability $P_{ni}$ of individual $n$ choosing alternative $i$ is given by the integral over all possible values of $\\boldsymbol{\\beta}_n$ and the random error term:\n",
    "$$\n",
    "P_{ni} = \\int \\frac{\\exp(U_{ni}(\\boldsymbol{\\beta}_n, \\epsilon_{ni}))}{\\sum_{j} \\exp(U_{nj}(\\boldsymbol{\\beta}_n, \\epsilon_{ni}))} f(\\boldsymbol{\\beta}_n) \\, d\\boldsymbol{\\beta}_n\n",
    "$$\n",
    "where $f(\\boldsymbol{\\beta}_n)$ is the density function of $\\boldsymbol{\\beta}_n$.\n",
    "\n",
    "Due to the integral and the inclusion of the random error term, the choice probabilities in a Mixed Logit model are typically estimated using simulation methods, such as simulated maximum likelihood.\n",
    "\n"
   ]
  },
  {
   "cell_type": "markdown",
   "id": "c0dc3282-60a5-4c55-b630-78f3959c3567",
   "metadata": {},
   "source": [
    "### Price specification\n",
    "\n",
    "Define the utility for each individual $n$ and alternative $i$ (with $i = 1, 2, 3$) as a function of price:\n",
    "$$\n",
    "U_{ni} = \\beta_{ni} \\times \\text{Price}_{ni} + \\epsilon_{ni}\n",
    "$$\n",
    "where:\n",
    "- $\\beta_{ni}$ is the coefficient for price for individual $n$ and alternative $i$, varying across individuals.\n",
    "- $\\text{Price}_{ni}$ is the price of alternative $i$ for individual $n$.\n",
    "- $\\epsilon_{ni}$ is the random error term for individual $n$ and alternative $i$, typically i.i.d. and following a Gumbel distribution.\n",
    "\n",
    "The random coefficients $\\beta_{ni}$ for price are assumed to vary across individuals according to a distribution, often normal:\n",
    "$$\n",
    "\\beta_{ni} \\sim \\mathcal{N}(\\mu_{\\beta}, \\sigma_{\\beta}^2)\n",
    "$$\n",
    "where $\\mu_{\\beta}$ is the mean and $\\sigma_{\\beta}^2$ is the variance of the price coefficient.\n",
    "\n",
    "The Gumbel distribution for the error term $\\epsilon_{ni}$ is specified as:\n",
    "$$\n",
    "\\epsilon_{ni} \\sim \\text{Gumbel}(\\mu_{\\epsilon}, \\beta_{\\epsilon})\n",
    "$$\n",
    "where $\\mu_{\\epsilon}$ is the location parameter and $\\beta_{\\epsilon}$ is the scale parameter.\n",
    "\n",
    "The choice probability $P_{ni}$ of individual $n$ choosing alternative $i$ is given by the integral over all possible values of $\\beta_{ni}$ and the random error term:\n",
    "$$\n",
    "P_{ni} = \\int \\frac{\\exp(\\beta_{ni} \\times \\text{Price}_{ni} + \\epsilon_{ni})}{\\exp(\\beta_{n1} \\times \\text{Price}_{n1} + \\epsilon_{n1}) + \\exp(\\beta_{n2} \\times \\text{Price}_{n2} + \\epsilon_{n2}) + \\exp(\\beta_{n3} \\times \\text{Price}_{n3} + \\epsilon_{n3})} f(\\beta_{ni}) \\, d\\beta_{ni}\n",
    "$$\n",
    "where $f(\\beta_{ni})$ is the density function of $\\beta_{ni}$.\n",
    "\n",
    "\n",
    "Due to the integral and the inclusion of the random error term, the choice probabilities in a Mixed Logit model are typically estimated using simulation methods, such as simulated maximum likelihood.\n",
    "\n"
   ]
  },
  {
   "cell_type": "markdown",
   "id": "2f8fc18f-0002-4202-bf6a-d980016aad32",
   "metadata": {
    "jp-MarkdownHeadingCollapsed": true
   },
   "source": [
    "# Substitution and elasticity priors"
   ]
  },
  {
   "cell_type": "markdown",
   "id": "bb9437f6-000f-477a-b5b1-f5a7d182d9f0",
   "metadata": {},
   "source": [
    "The generic definition of own-price elasticity is the partial derivative of volume w.r.t. price, scaled by the ratio of price to volume.\n",
    "\n",
    "$$\\epsilon_{ii} = \\dfrac{\\partial Q_i}{\\partial P_i} \\dfrac{P_i}{Q_i}$$\n",
    "\n",
    "Similarly, the definition of cross-price elasticity is the partial derivative of good $j$'s volume w.r.t. good $i$'s price, scaled by the ratio of price to volume.\n",
    "\n",
    "$$\\epsilon_{ij} = \\dfrac{\\partial Q_i}{\\partial P_j} \\dfrac{P_j}{Q_i}$$\n",
    "\n",
    "This does *not* imply symmetry such that $$\\epsilon_{ij} = \\epsilon_{ji}$$\n",
    "\n",
    "### Multinomial logit \n",
    "\n",
    "The big problem with the logit i\n",
    "\n",
    "**Own-price elasticity**\n",
    "\n",
    "The same logic holds for the multinomial logit, except $Q_i$ can be interpreted as the choice probability.\n",
    "\n",
    "\n",
    "$$\\epsilon_{ii} = \\dfrac{\\partial Q_i}{\\partial P_i} \\dfrac{P_i}{Q_i}$$\n",
    "\n",
    "\n",
    "$$\\epsilon_{ii} = \\beta P_i \\cdot (1 - Q_i)$$\n",
    "\n",
    "Note that there is no injective mapping between the two factors in each equation.\n",
    "The absolute elasticity strictly increases as a function of price.\n",
    "\n",
    "**Cross-price elasticity**\n",
    "\n",
    "$$\\epsilon_{ij} = \\dfrac{\\partial Q_i}{\\partial P_j} \\dfrac{P_j}{Q_i}$$\n",
    "\n",
    "$$\\epsilon_{ij} = \\beta P_j \\cdot (0-Q_i)$$\n",
    "\n",
    "This cross-elasticity is the same for all i: a change in an attribute of alternative j changes the probabilities for all other alternatives by the same percent. This property of the logit cross- elasticities is a manifestation, or restatement, of the IIA property of the\n",
    "logit choice probabilities.\n",
    "\n",
    "\n",
    "### Mixed logit\n",
    "\n",
    "We can respecify the mixed logits utility as \n",
    "\n",
    "$$U = \\beta x + \\mu z + \\epsilon$$\n",
    "\n",
    "We can then refer to the random portion of utility as \n",
    "\n",
    "$$ \\eta = \\mu z + \\epsilon $$\n",
    "\n",
    "For a standard MNL, the covariance of the noise terms is strictly zero.\n",
    "\n",
    "$$\\text{Cov}( \\eta_i, \\eta_j) = 0 $$\n",
    "\n",
    "For a mixed logit, the covariance is the expected product of the error terms.\n",
    "\n",
    "$$\\text{Cov}( \\eta_i, \\eta_j) = \\langle  (\\mu z + \\epsilon)  (\\mu z + \\epsilon )\\rangle $$\n",
    "\n",
    "where \\mu is a random Gaussian noise term with mean 0. Alternatively,\n",
    "\n",
    "$$\\text{Cov}( \\eta_i, \\eta_j) = z W z $$ \n",
    "where $Z$ is the covariance matrix.\n",
    "\n",
    "Setting $z$ to 1 as a dummy variable is the same as setting up a substitution nest.\n",
    "\n"
   ]
  },
  {
   "cell_type": "markdown",
   "id": "bcfd182f-ec7b-41ed-8a7d-1a540411d313",
   "metadata": {},
   "source": [
    "# Import"
   ]
  },
  {
   "cell_type": "markdown",
   "id": "211d59ea",
   "metadata": {},
   "source": [
    "### Import data\n",
    "\n",
    "Firstly, we bring in our data. We require the user to upload transaction data of all their historical paid conversions. In general, more data is better.\n",
    "\n",
    "We need five variables:\n",
    "\n",
    "- An anonymised, unique identifier for the customer\n",
    "- The name of the product that was purchased\n",
    "- The price of the product that was purchased\n",
    "- The number of units of the product purchased\n",
    "- The revenue of the purchase\n",
    "\n",
    "If privacy is an issue, we encourage customers to "
   ]
  },
  {
   "cell_type": "code",
   "execution_count": 1,
   "id": "3ec5b758",
   "metadata": {},
   "outputs": [
    {
     "data": {
      "text/html": [
       "<div>\n",
       "<style scoped>\n",
       "    .dataframe tbody tr th:only-of-type {\n",
       "        vertical-align: middle;\n",
       "    }\n",
       "\n",
       "    .dataframe tbody tr th {\n",
       "        vertical-align: top;\n",
       "    }\n",
       "\n",
       "    .dataframe thead th {\n",
       "        text-align: right;\n",
       "    }\n",
       "</style>\n",
       "<table border=\"1\" class=\"dataframe\">\n",
       "  <thead>\n",
       "    <tr style=\"text-align: right;\">\n",
       "      <th></th>\n",
       "      <th>id</th>\n",
       "      <th>product</th>\n",
       "      <th>revenue</th>\n",
       "      <th>volume</th>\n",
       "      <th>price</th>\n",
       "    </tr>\n",
       "  </thead>\n",
       "  <tbody>\n",
       "    <tr>\n",
       "      <th>0</th>\n",
       "      <td>02deacf1-5198-483d-9bca-376ad30c22dd</td>\n",
       "      <td>Team</td>\n",
       "      <td>350.0</td>\n",
       "      <td>10</td>\n",
       "      <td>35.0</td>\n",
       "    </tr>\n",
       "    <tr>\n",
       "      <th>1</th>\n",
       "      <td>0b669cda-d713-48ee-945f-a76c89620e8d</td>\n",
       "      <td>Team</td>\n",
       "      <td>245.0</td>\n",
       "      <td>7</td>\n",
       "      <td>35.0</td>\n",
       "    </tr>\n",
       "    <tr>\n",
       "      <th>2</th>\n",
       "      <td>1ce2906a-f1b7-47a7-8735-f9e8164d0d60</td>\n",
       "      <td>Starter</td>\n",
       "      <td>30.0</td>\n",
       "      <td>3</td>\n",
       "      <td>10.0</td>\n",
       "    </tr>\n",
       "    <tr>\n",
       "      <th>3</th>\n",
       "      <td>255bf974-6df8-4b36-8573-08b4df45de6a</td>\n",
       "      <td>Team</td>\n",
       "      <td>375.0</td>\n",
       "      <td>5</td>\n",
       "      <td>75.0</td>\n",
       "    </tr>\n",
       "    <tr>\n",
       "      <th>4</th>\n",
       "      <td>27890639-c3f5-40c8-9aa2-b6206a145dbd</td>\n",
       "      <td>Starter</td>\n",
       "      <td>30.0</td>\n",
       "      <td>3</td>\n",
       "      <td>10.0</td>\n",
       "    </tr>\n",
       "  </tbody>\n",
       "</table>\n",
       "</div>"
      ],
      "text/plain": [
       "                                     id  product  revenue  volume  price\n",
       "0  02deacf1-5198-483d-9bca-376ad30c22dd     Team    350.0      10   35.0\n",
       "1  0b669cda-d713-48ee-945f-a76c89620e8d     Team    245.0       7   35.0\n",
       "2  1ce2906a-f1b7-47a7-8735-f9e8164d0d60  Starter     30.0       3   10.0\n",
       "3  255bf974-6df8-4b36-8573-08b4df45de6a     Team    375.0       5   75.0\n",
       "4  27890639-c3f5-40c8-9aa2-b6206a145dbd  Starter     30.0       3   10.0"
      ]
     },
     "execution_count": 1,
     "metadata": {},
     "output_type": "execute_result"
    }
   ],
   "source": [
    "def import_data():\n",
    "    import pandas as pd\n",
    "    file_path = '/Users/patricksweeney/growth/07_Apps/Pricing app/Disaggregate models/Choice data.xlsx'\n",
    "    data = pd.read_excel(file_path)\n",
    "    return data\n",
    "\n",
    "data = import_data()\n",
    "data.head()"
   ]
  },
  {
   "cell_type": "code",
   "execution_count": null,
   "id": "abd7ad9d-63e7-4ed7-a950-238df6572dcc",
   "metadata": {},
   "outputs": [],
   "source": [
    "print(type(data))\n",
    "print(type(data['price']))"
   ]
  },
  {
   "cell_type": "markdown",
   "id": "8028c883-2fd4-4009-bd60-ccde1186537d",
   "metadata": {
    "jp-MarkdownHeadingCollapsed": true
   },
   "source": [
    "### Other inputs\n",
    "\n",
    "Apart from this data, we need a few additional pieces of info, and it's important we collect it in a user-friendly way:\n",
    "- Total revenue, customers, and users as of today (in case the sample is partial, need it for lift)\n",
    "- 'Order' of packages (i.e. which one is lowest priced, which one is highest price) — actually, probably can figure this out ourself\n",
    "- If they're deleting a package, which one are they deleting.\n",
    "- Which packages are self-serve, which ones are Enterprise."
   ]
  },
  {
   "cell_type": "markdown",
   "id": "62171f7e",
   "metadata": {},
   "source": [
    "### Check the data"
   ]
  },
  {
   "cell_type": "markdown",
   "id": "452b21e8-e669-4855-b4a0-67610ac47c84",
   "metadata": {},
   "source": [
    "We check the data to make sure nothing strange is going on. We want to confirm that:\n",
    "- All IDs are unique\n",
    "- $R = P \\times V$\n",
    "- $R > 0$\n",
    "- $P > 0$\n",
    "- $V > 0$"
   ]
  },
  {
   "cell_type": "code",
   "execution_count": null,
   "id": "50c1962e-6a8b-47ad-9bad-f53f3f73c222",
   "metadata": {
    "jupyter": {
     "source_hidden": true
    }
   },
   "outputs": [],
   "source": [
    "def check_data(data):\n",
    "    # Check for unique IDs\n",
    "    total_rows = len(data)\n",
    "    duplicate_ids = total_rows - data['id'].nunique()\n",
    "    if duplicate_ids > 0:\n",
    "        duplicate_percentage = (duplicate_ids / total_rows) * 100\n",
    "        print(f\"Warning: {duplicate_percentage:.2f}% of the rows have duplicate IDs.\")\n",
    "    else:\n",
    "        print(\"All IDs are unique.\")\n",
    "\n",
    "    # Compare total sum of revenue to sumproduct of price and volume\n",
    "    total_revenue = data['revenue'].sum()\n",
    "    total_price_volume = (data['price'] * data['volume']).sum()\n",
    "    if total_revenue != total_price_volume:\n",
    "        difference = total_price_volume - total_revenue\n",
    "        percentage_difference = (difference / total_revenue) * 100\n",
    "        print(f\"Warning: Total P x V is {percentage_difference:.2f}% {'greater' if difference > 0 else 'less'} than total Revenue.\")\n",
    "    else:\n",
    "        print(\"Total Revenue equals total Price times Volume.\")\n",
    "\n",
    "    # Check if revenue, price, volume are greater than 0 and calculate percentages\n",
    "    for column in ['revenue', 'price', 'volume']:\n",
    "        incorrect_values = data[data[column] <= 0]\n",
    "        if not incorrect_values.empty:\n",
    "            incorrect_percentage = (len(incorrect_values) / total_rows) * 100\n",
    "            print(f\"Warning: {incorrect_percentage:.2f}% of {column} values are not greater than 0.\")\n",
    "        else:\n",
    "            print(f\"All {column} values are greater than 0.\")\n",
    "\n",
    "# Example usage\n",
    "check_data(data)\n"
   ]
  },
  {
   "cell_type": "markdown",
   "id": "2799d8a9",
   "metadata": {
    "jp-MarkdownHeadingCollapsed": true
   },
   "source": [
    "# Summary statistics"
   ]
  },
  {
   "cell_type": "markdown",
   "id": "84e93d30",
   "metadata": {},
   "source": [
    "### Business-level summary\n",
    "\n",
    "The business level summary gives the user a bird's eye view of their business. None of this information should be new to them, but it helps them have faith we've gotten the data properly.\n",
    "\n",
    "We want to show them a page which confirms the size and main statistics of the sample:\n",
    "\n",
    "- Total revenue\n",
    "- Total customers\n",
    "- Total users\n",
    "- ARPA\n",
    "- ARPU\n",
    "\n",
    "It's probably a good idea for them to enter their total revenue, so we can print all of this out as a percentage. This will also let us calculate lift down the line.  Or maybe we just ask them for everything?"
   ]
  },
  {
   "cell_type": "code",
   "execution_count": null,
   "id": "a6b0d926-92a2-404e-af5a-979ef98bd266",
   "metadata": {
    "jupyter": {
     "source_hidden": true
    }
   },
   "outputs": [],
   "source": [
    "def revenue_summary(data):\n",
    "    import pandas as pd\n",
    "\n",
    "    # Calculate total revenue\n",
    "    total_revenue = data['revenue'].sum()\n",
    "    print(f\"Total revenue: ${total_revenue:,.2f}\")\n",
    "    print()\n",
    "\n",
    "    # Calculate total number of distinct customers\n",
    "    total_customers = data['id'].nunique()\n",
    "    print(f\"Total customers: {total_customers}\")\n",
    "\n",
    "    # Calculate Average Revenue Per Account (ARPA)\n",
    "    if total_customers > 0:\n",
    "        arpa = total_revenue / total_customers\n",
    "        print(f\"Average revenue per customer: ${arpa:,.2f}\")\n",
    "    else:\n",
    "        print(\"Average revenue per customer: N/A\")\n",
    "    print()\n",
    "\n",
    "    # Calculate total volume\n",
    "    total_volume = data['volume'].sum()\n",
    "    print(f\"Total users: {total_volume}\")\n",
    "\n",
    "    # Calculate Average Revenue Per User Account (ARPUA)\n",
    "    if total_volume > 0:\n",
    "        arpua = total_revenue / total_volume\n",
    "        print(f\"Average revenue per user: ${arpua:,.2f}\")\n",
    "    else:\n",
    "        print(\"Average revenue per user: N/A\")\n",
    "    print()\n",
    "\n",
    "\n",
    "revenue_summary(data)\n"
   ]
  },
  {
   "cell_type": "markdown",
   "id": "91e0033c-08c5-4f1f-80bd-52bcd20f2c92",
   "metadata": {},
   "source": [
    "### Product-level summary\n",
    "\n",
    "Next, we want to go one level deeper and summarise each product with plots. For each product, we're after:\n",
    "\n",
    "- Revenue mix\n",
    "- Customer mix\n",
    "- User mix\n",
    "- ARPA\n",
    "- ARPU"
   ]
  },
  {
   "cell_type": "code",
   "execution_count": null,
   "id": "590b81df-8a37-47d0-9823-13daef9aa6ff",
   "metadata": {
    "jupyter": {
     "source_hidden": true
    }
   },
   "outputs": [],
   "source": [
    "def package_summary(data):\n",
    "    import seaborn as sns\n",
    "    import matplotlib.pyplot as plt\n",
    "    \n",
    "    # Set Seaborn dark theme\n",
    "    sns.set_theme(style=\"darkgrid\")\n",
    "\n",
    "    # Helper function to plot bar chart\n",
    "    def plot_bar_chart(series, title, ylabel, value_format):\n",
    "        ax = sns.barplot(x=series.index, y=series.values)\n",
    "        ax.set_title(title)\n",
    "        ax.set_ylabel(ylabel)\n",
    "        for p in ax.patches:\n",
    "            ax.annotate(value_format.format(p.get_height()), \n",
    "                        (p.get_x() + p.get_width() / 2., p.get_height()), \n",
    "                        ha='center', va='center', \n",
    "                        xytext=(0, 9), \n",
    "                        textcoords='offset points')\n",
    "        plt.show()\n",
    "\n",
    "    # Percentage of revenue by product\n",
    "    revenue_percent = data.groupby('product')['revenue'].sum() / data['revenue'].sum() * 100\n",
    "    plot_bar_chart(revenue_percent, 'Percentage of Revenue by Product', 'Percentage', '{:.0f}%')\n",
    "\n",
    "    # Percentage of customers by product\n",
    "    customer_percent = data.groupby('product')['id'].nunique() / data['id'].nunique() * 100\n",
    "    plot_bar_chart(customer_percent, 'Percentage of Customers by Product', 'Percentage', '{:.0f}%')\n",
    "\n",
    "    # Percentage of users by product\n",
    "    user_percent = data.groupby('product')['volume'].sum() / data['volume'].sum() * 100\n",
    "    plot_bar_chart(user_percent, 'Percentage of Users by Product', 'Percentage', '{:.0f}%')\n",
    "\n",
    "    # ARPA by package\n",
    "    arpa_by_package = data.groupby('product')['revenue'].sum() / data.groupby('product')['id'].nunique()\n",
    "    plot_bar_chart(arpa_by_package, 'ARPA by Package', 'ARPA ($)', '${:.0f}')\n",
    "\n",
    "    # ARPU by package\n",
    "    arpu_by_package = data.groupby('product')['revenue'].sum() / data.groupby('product')['volume'].sum()\n",
    "    plot_bar_chart(arpu_by_package, 'ARPU by Package', 'ARPU ($)', '${:.0f}')\n",
    "\n",
    "package_summary(data)\n"
   ]
  },
  {
   "cell_type": "markdown",
   "id": "e844faa2-d2ff-4994-982a-751790d80fc7",
   "metadata": {},
   "source": [
    "### Statistical distributions\n",
    "\n",
    "We are interested in the best fitting distribution of price and volume to see how well-behaved the system we're dealing with is."
   ]
  },
  {
   "cell_type": "code",
   "execution_count": null,
   "id": "45b782a1-928c-411f-9d40-8c188629e0c2",
   "metadata": {
    "jupyter": {
     "source_hidden": true
    }
   },
   "outputs": [],
   "source": [
    "def fit_distributions(data):\n",
    "    import pandas as pd\n",
    "    import numpy as np\n",
    "    from scipy.stats import entropy\n",
    "    from fitter import Fitter\n",
    "\n",
    "    def calculate_cov_and_normalized_entropy(data):\n",
    "        cv = np.std(data) / np.mean(data)\n",
    "        # Normalizing the entropy\n",
    "        sh_entropy = entropy(np.histogram(data, bins=30)[0], base=2)\n",
    "        max_entropy = np.log2(len(np.unique(data)))\n",
    "        normalized_entropy = sh_entropy / max_entropy if max_entropy > 0 else 0\n",
    "        return cv, normalized_entropy\n",
    "\n",
    "    def find_best_fit_distribution(data):\n",
    "        f = Fitter(data, distributions=['gamma', 'lognorm', 'beta', 'expon', 'norm'])\n",
    "        f.fit()\n",
    "        best_fit = f.get_best(method='sumsquare_error')\n",
    "        best_distr_name = list(best_fit.keys())[0]\n",
    "        return best_distr_name\n",
    "\n",
    "    products = data['product'].unique()\n",
    "\n",
    "    for product in products:\n",
    "        product_data = data[data['product'] == product]\n",
    "        \n",
    "        # Price Analysis\n",
    "        price_cv, price_normalized_entropy = calculate_cov_and_normalized_entropy(product_data['price'])\n",
    "        price_best_fit = find_best_fit_distribution(product_data['price'])\n",
    "        print(f'Product: {product}, Price - CoV: {price_cv:.2f}, Normalized Entropy: {price_normalized_entropy:.2f}, Best Fit: {price_best_fit}')\n",
    "\n",
    "        # Volume Analysis\n",
    "        volume_cv, volume_normalized_entropy = calculate_cov_and_normalized_entropy(product_data['volume'])\n",
    "        volume_best_fit = find_best_fit_distribution(product_data['volume'])\n",
    "        print(f'Product: {product}, Volume - CoV: {volume_cv:.2f}, Normalized Entropy: {volume_normalized_entropy:.2f}, Best Fit: {volume_best_fit}')\n",
    "\n",
    "fit_distributions(data)\n"
   ]
  },
  {
   "cell_type": "markdown",
   "id": "4a05f118-d5ea-4fdf-ba0a-fc0a60d512e0",
   "metadata": {},
   "source": [
    "# Data processing"
   ]
  },
  {
   "cell_type": "markdown",
   "id": "1f744967-f11d-4b74-8581-933fb5cd20cb",
   "metadata": {},
   "source": [
    "### Add the 'No-Purchase' option\n",
    "\n",
    "If a business has $N$ packages, this is not a MECE choice set as there is always the option to purchase nothing (or churn).  \n",
    "Therefore we require $N+1$ goods in the demand system.\n",
    "\n",
    "We can back out the proportion of 'No-purchase' directly from the business's paid conversion rate.  If we started with $n$ observed paid conversions (choices),\n",
    "\n",
    "$$Paid \\space CVR = \\dfrac{n}{N}$$\n",
    "\n",
    "$$N = \\dfrac{n}{ Paid \\space CVR}$$\n",
    "\n",
    "we can get the total number of choices (including no-purchase choices) by dividing $n$ by the paid conversion rate.\n"
   ]
  },
  {
   "cell_type": "code",
   "execution_count": 2,
   "id": "60d9c8af-7897-471f-ad93-b775b850ce0b",
   "metadata": {},
   "outputs": [
    {
     "name": "stdout",
     "output_type": "stream",
     "text": [
      "Total number of rows: 4296\n",
      "Number of unique IDs: 4296\n"
     ]
    },
    {
     "data": {
      "text/html": [
       "<div>\n",
       "<style scoped>\n",
       "    .dataframe tbody tr th:only-of-type {\n",
       "        vertical-align: middle;\n",
       "    }\n",
       "\n",
       "    .dataframe tbody tr th {\n",
       "        vertical-align: top;\n",
       "    }\n",
       "\n",
       "    .dataframe thead th {\n",
       "        text-align: right;\n",
       "    }\n",
       "</style>\n",
       "<table border=\"1\" class=\"dataframe\">\n",
       "  <thead>\n",
       "    <tr style=\"text-align: right;\">\n",
       "      <th></th>\n",
       "      <th>id</th>\n",
       "      <th>product</th>\n",
       "      <th>revenue</th>\n",
       "      <th>volume</th>\n",
       "      <th>price</th>\n",
       "    </tr>\n",
       "  </thead>\n",
       "  <tbody>\n",
       "    <tr>\n",
       "      <th>4291</th>\n",
       "      <td>0773557e-ad65-4afc-a9ca-3510f78f8193</td>\n",
       "      <td>Other</td>\n",
       "      <td>NaN</td>\n",
       "      <td>1</td>\n",
       "      <td>0.0</td>\n",
       "    </tr>\n",
       "    <tr>\n",
       "      <th>4292</th>\n",
       "      <td>e3de9ac5-a026-4744-9b91-23b9866d7769</td>\n",
       "      <td>Other</td>\n",
       "      <td>NaN</td>\n",
       "      <td>4</td>\n",
       "      <td>0.0</td>\n",
       "    </tr>\n",
       "    <tr>\n",
       "      <th>4293</th>\n",
       "      <td>02b2239c-dd12-4ded-bebf-0b7e23a65e8d</td>\n",
       "      <td>Other</td>\n",
       "      <td>NaN</td>\n",
       "      <td>9</td>\n",
       "      <td>0.0</td>\n",
       "    </tr>\n",
       "    <tr>\n",
       "      <th>4294</th>\n",
       "      <td>eb5744d6-c97b-4e58-99ff-75a85bfc8951</td>\n",
       "      <td>Other</td>\n",
       "      <td>NaN</td>\n",
       "      <td>3</td>\n",
       "      <td>0.0</td>\n",
       "    </tr>\n",
       "    <tr>\n",
       "      <th>4295</th>\n",
       "      <td>10a1e4ad-f85f-4c9b-9ca7-3b0b3835e7c9</td>\n",
       "      <td>Other</td>\n",
       "      <td>NaN</td>\n",
       "      <td>3</td>\n",
       "      <td>0.0</td>\n",
       "    </tr>\n",
       "  </tbody>\n",
       "</table>\n",
       "</div>"
      ],
      "text/plain": [
       "                                        id product  revenue  volume  price\n",
       "4291  0773557e-ad65-4afc-a9ca-3510f78f8193   Other      NaN       1    0.0\n",
       "4292  e3de9ac5-a026-4744-9b91-23b9866d7769   Other      NaN       4    0.0\n",
       "4293  02b2239c-dd12-4ded-bebf-0b7e23a65e8d   Other      NaN       9    0.0\n",
       "4294  eb5744d6-c97b-4e58-99ff-75a85bfc8951   Other      NaN       3    0.0\n",
       "4295  10a1e4ad-f85f-4c9b-9ca7-3b0b3835e7c9   Other      NaN       3    0.0"
      ]
     },
     "execution_count": 2,
     "metadata": {},
     "output_type": "execute_result"
    }
   ],
   "source": [
    "def add_nopurchase_option(data, retention_rate, aupa):\n",
    "    import pandas as pd\n",
    "    import numpy as np\n",
    "    import uuid\n",
    "    \n",
    "    # Calculate the number of 'Other' rows to add\n",
    "    current_count = len(data)\n",
    "    total_count_needed = current_count / retention_rate\n",
    "    other_count = int(total_count_needed - current_count)\n",
    "\n",
    "    # Create a DataFrame for 'Other' choices\n",
    "    other_data = pd.DataFrame({\n",
    "        'product': ['Other'] * other_count,\n",
    "        'price': [0] * other_count,\n",
    "        'volume': np.random.geometric(1/aupa, size=other_count),\n",
    "        # Add other columns as None\n",
    "    })\n",
    "\n",
    "    # Add other columns as None\n",
    "    for col in data.columns:\n",
    "        if col not in other_data:\n",
    "            other_data[col] = np.nan\n",
    "\n",
    "    # Generate unique UUIDs for the new rows\n",
    "    other_data['id'] = [str(uuid.uuid4()) for _ in range(other_count)]\n",
    "\n",
    "    # Append the 'Other' data to the original data\n",
    "    updated_data = pd.concat([data, other_data], ignore_index=True)\n",
    "\n",
    "    # Print the number of rows and the number of unique IDs\n",
    "    print(f\"Total number of rows: {len(updated_data)}\")\n",
    "    print(f\"Number of unique IDs: {updated_data['id'].nunique()}\")\n",
    "\n",
    "    return updated_data\n",
    "\n",
    "# Example usage\n",
    "data = add_nopurchase_option(data, 0.96, 6.64)\n",
    "data.head()\n",
    "data.tail()"
   ]
  },
  {
   "cell_type": "markdown",
   "id": "bf5a5fce-18e0-46eb-8ea7-d8f1ee6924ec",
   "metadata": {},
   "source": [
    "### Duplicate choices with volume > 1\n",
    "\n",
    "We have two options for dealing with the fact that people purchase differing volumes of different packages:\n",
    "1. Fit a discrete model\n",
    "2. Treat incremental volume > 1 as a fresh choice which is repeated with no alternatives\n",
    "3. Treat incremental volume > 1 as a fresh choice which is repeated with no alternatives as an unbalanced panel\n",
    "\n",
    "We opt for option 2.\n"
   ]
  },
  {
   "cell_type": "code",
   "execution_count": 3,
   "id": "677ae1a4-142d-465b-b773-aa4c1fa12189",
   "metadata": {},
   "outputs": [
    {
     "name": "stdout",
     "output_type": "stream",
     "text": [
      "Total number of rows: 28530\n"
     ]
    }
   ],
   "source": [
    "def duplicate_volume_choices(data):\n",
    "    import pandas as pd\n",
    "    import uuid\n",
    "\n",
    "    # Ensure the original data has the 'available' column set to 1\n",
    "    data['available'] = 1\n",
    "\n",
    "    # Add a 'panel' column with unique UUIDs\n",
    "    data['panel'] = [uuid.uuid4() for _ in range(len(data))]\n",
    "\n",
    "    # Create an empty DataFrame to store the results\n",
    "    result_df = pd.DataFrame()\n",
    "\n",
    "    # Iterate over each row\n",
    "    for index, row in data.iterrows():\n",
    "        row_volume = row['volume']  # Directly reference the 'volume' column\n",
    "        \n",
    "        # Check if volume is greater than 1\n",
    "        if row_volume > 1:\n",
    "            # Duplicate the row volume - 1 times and set 'available' to 0\n",
    "            row_copy = row.copy()\n",
    "            row_copy['available'] = 1\n",
    "            duplicates = pd.DataFrame([row_copy] * (int(row_volume) - 1))\n",
    "            result_df = pd.concat([result_df, duplicates], ignore_index=True)\n",
    "    \n",
    "    # Combine the original data with the duplicated rows\n",
    "    return pd.concat([data, result_df], ignore_index=True)\n",
    "\n",
    "\n",
    "data = duplicate_volume_choices(data)\n",
    "data.head()\n",
    "print(f\"Total number of rows: {len(data)}\")\n"
   ]
  },
  {
   "cell_type": "markdown",
   "id": "d7548502-a6a2-4032-a4b8-46533adbd63f",
   "metadata": {},
   "source": [
    "### Index choices\n",
    "\n",
    "Turn the product names into 1,2,3,4,5."
   ]
  },
  {
   "cell_type": "code",
   "execution_count": 6,
   "id": "7a4cad0a-19fa-4708-a87c-be73dd12a51a",
   "metadata": {},
   "outputs": [
    {
     "data": {
      "text/html": [
       "<div>\n",
       "<style scoped>\n",
       "    .dataframe tbody tr th:only-of-type {\n",
       "        vertical-align: middle;\n",
       "    }\n",
       "\n",
       "    .dataframe tbody tr th {\n",
       "        vertical-align: top;\n",
       "    }\n",
       "\n",
       "    .dataframe thead th {\n",
       "        text-align: right;\n",
       "    }\n",
       "</style>\n",
       "<table border=\"1\" class=\"dataframe\">\n",
       "  <thead>\n",
       "    <tr style=\"text-align: right;\">\n",
       "      <th></th>\n",
       "      <th>id</th>\n",
       "      <th>product</th>\n",
       "      <th>revenue</th>\n",
       "      <th>volume</th>\n",
       "      <th>price</th>\n",
       "      <th>available</th>\n",
       "      <th>panel</th>\n",
       "      <th>choice_index</th>\n",
       "    </tr>\n",
       "  </thead>\n",
       "  <tbody>\n",
       "    <tr>\n",
       "      <th>0</th>\n",
       "      <td>02deacf1-5198-483d-9bca-376ad30c22dd</td>\n",
       "      <td>Team</td>\n",
       "      <td>350.0</td>\n",
       "      <td>10</td>\n",
       "      <td>-0.165142</td>\n",
       "      <td>1</td>\n",
       "      <td>9978e66e-6b23-44c7-afa9-bd54578f20fc</td>\n",
       "      <td>2</td>\n",
       "    </tr>\n",
       "    <tr>\n",
       "      <th>1</th>\n",
       "      <td>0b669cda-d713-48ee-945f-a76c89620e8d</td>\n",
       "      <td>Team</td>\n",
       "      <td>245.0</td>\n",
       "      <td>7</td>\n",
       "      <td>-0.165142</td>\n",
       "      <td>1</td>\n",
       "      <td>e66fdb66-82d3-4d9f-81a8-1c38a62d5dfa</td>\n",
       "      <td>2</td>\n",
       "    </tr>\n",
       "    <tr>\n",
       "      <th>2</th>\n",
       "      <td>1ce2906a-f1b7-47a7-8735-f9e8164d0d60</td>\n",
       "      <td>Starter</td>\n",
       "      <td>30.0</td>\n",
       "      <td>3</td>\n",
       "      <td>-0.802238</td>\n",
       "      <td>1</td>\n",
       "      <td>a6963d26-0aa3-49e4-861b-109bf4c2df95</td>\n",
       "      <td>1</td>\n",
       "    </tr>\n",
       "    <tr>\n",
       "      <th>3</th>\n",
       "      <td>255bf974-6df8-4b36-8573-08b4df45de6a</td>\n",
       "      <td>Team</td>\n",
       "      <td>375.0</td>\n",
       "      <td>5</td>\n",
       "      <td>0.854213</td>\n",
       "      <td>1</td>\n",
       "      <td>f8b590be-b05d-4354-8752-730717cda86d</td>\n",
       "      <td>2</td>\n",
       "    </tr>\n",
       "    <tr>\n",
       "      <th>4</th>\n",
       "      <td>27890639-c3f5-40c8-9aa2-b6206a145dbd</td>\n",
       "      <td>Starter</td>\n",
       "      <td>30.0</td>\n",
       "      <td>3</td>\n",
       "      <td>-0.802238</td>\n",
       "      <td>1</td>\n",
       "      <td>072ff7fa-0171-40d7-9549-a4d89c987caa</td>\n",
       "      <td>1</td>\n",
       "    </tr>\n",
       "  </tbody>\n",
       "</table>\n",
       "</div>"
      ],
      "text/plain": [
       "                                     id  product  revenue  volume     price  \\\n",
       "0  02deacf1-5198-483d-9bca-376ad30c22dd     Team    350.0      10 -0.165142   \n",
       "1  0b669cda-d713-48ee-945f-a76c89620e8d     Team    245.0       7 -0.165142   \n",
       "2  1ce2906a-f1b7-47a7-8735-f9e8164d0d60  Starter     30.0       3 -0.802238   \n",
       "3  255bf974-6df8-4b36-8573-08b4df45de6a     Team    375.0       5  0.854213   \n",
       "4  27890639-c3f5-40c8-9aa2-b6206a145dbd  Starter     30.0       3 -0.802238   \n",
       "\n",
       "   available                                 panel  choice_index  \n",
       "0          1  9978e66e-6b23-44c7-afa9-bd54578f20fc             2  \n",
       "1          1  e66fdb66-82d3-4d9f-81a8-1c38a62d5dfa             2  \n",
       "2          1  a6963d26-0aa3-49e4-861b-109bf4c2df95             1  \n",
       "3          1  f8b590be-b05d-4354-8752-730717cda86d             2  \n",
       "4          1  072ff7fa-0171-40d7-9549-a4d89c987caa             1  "
      ]
     },
     "execution_count": 6,
     "metadata": {},
     "output_type": "execute_result"
    }
   ],
   "source": [
    "def index_choices(data):\n",
    "    # Import the pandas library\n",
    "    import pandas as pd\n",
    "\n",
    "    # Dictionary for mapping product names to indices\n",
    "    mapping_dict = {\n",
    "        'Starter': 1,\n",
    "        'Team': 2,\n",
    "        'Business': 3,\n",
    "        'Enterprise': 4,\n",
    "        'Other': 5\n",
    "    }\n",
    "\n",
    "    # Map the 'product' column to the new 'choice_index' column\n",
    "    data['choice_index'] = data['product'].map(mapping_dict)\n",
    "\n",
    "    return data\n",
    "\n",
    "data = index_choices(data)\n",
    "data.head()"
   ]
  },
  {
   "cell_type": "markdown",
   "id": "7d61a026-7442-4ae6-b247-2bb0372f6bcf",
   "metadata": {},
   "source": [
    "### Standardize"
   ]
  },
  {
   "cell_type": "code",
   "execution_count": 4,
   "id": "b1438894-ee20-47ec-9014-5eaeee497635",
   "metadata": {},
   "outputs": [
    {
     "name": "stdout",
     "output_type": "stream",
     "text": [
      "Mean (mu): 41.48, Standard Deviation (sigma): 39.24\n",
      "Price has been scaled by a factor of: -0.00\n"
     ]
    },
    {
     "data": {
      "text/html": [
       "<div>\n",
       "<style scoped>\n",
       "    .dataframe tbody tr th:only-of-type {\n",
       "        vertical-align: middle;\n",
       "    }\n",
       "\n",
       "    .dataframe tbody tr th {\n",
       "        vertical-align: top;\n",
       "    }\n",
       "\n",
       "    .dataframe thead th {\n",
       "        text-align: right;\n",
       "    }\n",
       "</style>\n",
       "<table border=\"1\" class=\"dataframe\">\n",
       "  <thead>\n",
       "    <tr style=\"text-align: right;\">\n",
       "      <th></th>\n",
       "      <th>id</th>\n",
       "      <th>product</th>\n",
       "      <th>revenue</th>\n",
       "      <th>volume</th>\n",
       "      <th>price</th>\n",
       "      <th>available</th>\n",
       "      <th>panel</th>\n",
       "    </tr>\n",
       "  </thead>\n",
       "  <tbody>\n",
       "    <tr>\n",
       "      <th>0</th>\n",
       "      <td>02deacf1-5198-483d-9bca-376ad30c22dd</td>\n",
       "      <td>Team</td>\n",
       "      <td>350.0</td>\n",
       "      <td>10</td>\n",
       "      <td>-0.165142</td>\n",
       "      <td>1</td>\n",
       "      <td>9978e66e-6b23-44c7-afa9-bd54578f20fc</td>\n",
       "    </tr>\n",
       "    <tr>\n",
       "      <th>1</th>\n",
       "      <td>0b669cda-d713-48ee-945f-a76c89620e8d</td>\n",
       "      <td>Team</td>\n",
       "      <td>245.0</td>\n",
       "      <td>7</td>\n",
       "      <td>-0.165142</td>\n",
       "      <td>1</td>\n",
       "      <td>e66fdb66-82d3-4d9f-81a8-1c38a62d5dfa</td>\n",
       "    </tr>\n",
       "    <tr>\n",
       "      <th>2</th>\n",
       "      <td>1ce2906a-f1b7-47a7-8735-f9e8164d0d60</td>\n",
       "      <td>Starter</td>\n",
       "      <td>30.0</td>\n",
       "      <td>3</td>\n",
       "      <td>-0.802238</td>\n",
       "      <td>1</td>\n",
       "      <td>a6963d26-0aa3-49e4-861b-109bf4c2df95</td>\n",
       "    </tr>\n",
       "    <tr>\n",
       "      <th>3</th>\n",
       "      <td>255bf974-6df8-4b36-8573-08b4df45de6a</td>\n",
       "      <td>Team</td>\n",
       "      <td>375.0</td>\n",
       "      <td>5</td>\n",
       "      <td>0.854213</td>\n",
       "      <td>1</td>\n",
       "      <td>f8b590be-b05d-4354-8752-730717cda86d</td>\n",
       "    </tr>\n",
       "    <tr>\n",
       "      <th>4</th>\n",
       "      <td>27890639-c3f5-40c8-9aa2-b6206a145dbd</td>\n",
       "      <td>Starter</td>\n",
       "      <td>30.0</td>\n",
       "      <td>3</td>\n",
       "      <td>-0.802238</td>\n",
       "      <td>1</td>\n",
       "      <td>072ff7fa-0171-40d7-9549-a4d89c987caa</td>\n",
       "    </tr>\n",
       "  </tbody>\n",
       "</table>\n",
       "</div>"
      ],
      "text/plain": [
       "                                     id  product  revenue  volume     price  \\\n",
       "0  02deacf1-5198-483d-9bca-376ad30c22dd     Team    350.0      10 -0.165142   \n",
       "1  0b669cda-d713-48ee-945f-a76c89620e8d     Team    245.0       7 -0.165142   \n",
       "2  1ce2906a-f1b7-47a7-8735-f9e8164d0d60  Starter     30.0       3 -0.802238   \n",
       "3  255bf974-6df8-4b36-8573-08b4df45de6a     Team    375.0       5  0.854213   \n",
       "4  27890639-c3f5-40c8-9aa2-b6206a145dbd  Starter     30.0       3 -0.802238   \n",
       "\n",
       "   available                                 panel  \n",
       "0          1  9978e66e-6b23-44c7-afa9-bd54578f20fc  \n",
       "1          1  e66fdb66-82d3-4d9f-81a8-1c38a62d5dfa  \n",
       "2          1  a6963d26-0aa3-49e4-861b-109bf4c2df95  \n",
       "3          1  f8b590be-b05d-4354-8752-730717cda86d  \n",
       "4          1  072ff7fa-0171-40d7-9549-a4d89c987caa  "
      ]
     },
     "execution_count": 4,
     "metadata": {},
     "output_type": "execute_result"
    }
   ],
   "source": [
    "def standardize_price(data):\n",
    "    import pandas as pd\n",
    "    \n",
    "    if 'price' not in data.columns:\n",
    "        raise ValueError(\"The 'price' column is not found in the data.\")\n",
    "\n",
    "    mean_price = data['price'].mean()\n",
    "    std_price = data['price'].std()\n",
    "\n",
    "    # Avoid division by zero in case of constant price\n",
    "    if std_price == 0:\n",
    "        raise ValueError(\"Standard deviation of 'price' is zero. Cannot standardize a constant variable.\")\n",
    "\n",
    "    old_price_sample = data['price'].iloc[0]  # Take a sample price for comparison\n",
    "    data['price'] = (data['price'] - mean_price) / std_price\n",
    "    new_price_sample = data['price'].iloc[0]  # Corresponding standardized price\n",
    "\n",
    "    # Calculate the scaling factor\n",
    "    scaling_factor = new_price_sample / old_price_sample if old_price_sample != 0 else 0\n",
    "\n",
    "    print(f\"Mean (mu): {mean_price:.2f}, Standard Deviation (sigma): {std_price:.2f}\")\n",
    "    print(f\"Price has been scaled by a factor of: {scaling_factor:.2f}\")\n",
    "\n",
    "    return data, scaling_factor, mean_price, std_price\n",
    "\n",
    "# Example usage\n",
    "data, scaling_factor, scaler_mu, scaler_sigma = standardize_price(data)\n",
    "\n",
    "data.head()\n"
   ]
  },
  {
   "cell_type": "code",
   "execution_count": 12,
   "id": "ebbbd306-787a-453d-bb71-dff7cc884e61",
   "metadata": {},
   "outputs": [
    {
     "name": "stdout",
     "output_type": "stream",
     "text": [
      "{'revenue': 1145}\n"
     ]
    }
   ],
   "source": [
    "import pandas as pd\n",
    "\n",
    "def find_nans(data):\n",
    "    nan_counts = data.isna().sum()\n",
    "    return nan_counts[nan_counts > 0].to_dict()\n",
    "\n",
    "nan_info = find_nans(data)\n",
    "print(nan_info)\n"
   ]
  },
  {
   "cell_type": "markdown",
   "id": "f120fffb-5831-48e9-8d10-daf7b7314c12",
   "metadata": {
    "jp-MarkdownHeadingCollapsed": true
   },
   "source": [
    "# Stan"
   ]
  },
  {
   "cell_type": "markdown",
   "id": "2718cacb-a12d-4b20-9293-d22eba37609b",
   "metadata": {},
   "source": [
    "### Stan: Prior predictive checks"
   ]
  },
  {
   "cell_type": "code",
   "execution_count": null,
   "id": "3b005214-3d83-4859-8494-205275617307",
   "metadata": {},
   "outputs": [],
   "source": [
    "from cmdstanpy import CmdStanModel\n",
    "import pandas as pd\n",
    "import numpy as np\n",
    "\n",
    "def run_prior_predictive_checks(data, model_file='ppc.stan'):\n",
    "    # Load data\n",
    "    N = len(data)\n",
    "    J = 5  # Assuming 5 potential outcomes\n",
    "\n",
    "    # Prepare data for Stan model\n",
    "    stan_data = {\n",
    "        'N': N,\n",
    "        'J': J,\n",
    "        'price': data['price'].values\n",
    "    }\n",
    "\n",
    "    # Compile and fit the model for prior predictive checks\n",
    "    model = CmdStanModel(stan_file=model_file)\n",
    "    fit = model.sample(data=stan_data, fixed_param=True, iter_sampling=1000, iter_warmup=0)\n",
    "\n",
    "    # Extract choice probabilities and calculate average probabilities\n",
    "    choice_probabilities = fit.stan_variable('choice_probabilities')\n",
    "\n",
    "    # Convert to NumPy array for easy calculations if it's not already an array\n",
    "    choice_probabilities_array = np.array(choice_probabilities)\n",
    "\n",
    "    # Calculate average probabilities\n",
    "    average_probabilities = np.mean(np.mean(choice_probabilities_array, axis=0),axis=0)\n",
    "\n",
    "    formatted_probabilities = [\"Alt {}: {:.2f}%\".format(j+1, p*100) for j, p in enumerate(average_probabilities)]\n",
    "\n",
    "    return formatted_probabilities\n",
    "\n",
    "\n",
    "# Example usage (assuming you have a DataFrame 'data' with a 'price' column)\n",
    "formatted_avg_probabilities = run_prior_predictive_checks(data, 'ppc.stan')\n",
    "for probability in formatted_avg_probabilities:\n",
    "    print(probability)"
   ]
  },
  {
   "cell_type": "markdown",
   "id": "7eb18931-62b7-48ec-89fe-c6a8b0ecba4e",
   "metadata": {},
   "source": [
    "### Stan: Fit model"
   ]
  },
  {
   "cell_type": "code",
   "execution_count": null,
   "id": "06b9736e-e3b8-4268-93fa-1c0ab0559ad2",
   "metadata": {},
   "outputs": [],
   "source": [
    "from cmdstanpy import CmdStanModel\n",
    "import pandas as pd\n",
    "import numpy as np\n",
    "\n",
    "def run_mixed_logit_model(data_file, model_file='model.stan'):\n",
    "    # Load data\n",
    "    N = len(data)\n",
    "    J = 5  \n",
    "\n",
    "    # Prepare data for Stan model\n",
    "    stan_data = {\n",
    "        'N': N,\n",
    "        'J': J,\n",
    "        'price': data['price'].values,\n",
    "        'y': data['choice_index'].values\n",
    "    }\n",
    "\n",
    "    # Compile and fit the model\n",
    "    model = CmdStanModel(stan_file=model_file)\n",
    "    fit = model.sample(data=stan_data)\n",
    "\n",
    "   # Extract choice probabilities and calculate average probabilities\n",
    "    choice_probabilities = fit.stan_variable('choice_probabilities')\n",
    "\n",
    "    # Calculate average probabilities\n",
    "    average_probabilities = np.mean(choice_probabilities, axis=0)\n",
    "\n",
    "    # Return the fit object and the extracted quantities for analysis\n",
    "    return fit, average_probabilities\n",
    "\n",
    "# Example usage (you need to provide the appropriate data file)\n",
    "fit, average_probabilities = run_mixed_logit_model(data)"
   ]
  },
  {
   "cell_type": "code",
   "execution_count": null,
   "id": "3620c514-0bdc-47f2-9ea2-f5a7688a11fd",
   "metadata": {},
   "outputs": [],
   "source": [
    "for probability in average_probabilities:\n",
    "    print(probability)"
   ]
  },
  {
   "cell_type": "code",
   "execution_count": null,
   "id": "0d51568d-5321-4187-9e42-f262c03a3ff6",
   "metadata": {},
   "outputs": [],
   "source": [
    "print(fit.summary())"
   ]
  },
  {
   "cell_type": "code",
   "execution_count": null,
   "id": "c7f4be76-bef7-4df7-9ca0-593f79445a96",
   "metadata": {},
   "outputs": [],
   "source": [
    "extracted_parameters = fit.stan_variables()"
   ]
  },
  {
   "cell_type": "markdown",
   "id": "025ea573-f4cd-4ee2-939d-b726a5a6116f",
   "metadata": {},
   "source": [
    "### Stan: Diagnostics"
   ]
  },
  {
   "cell_type": "code",
   "execution_count": null,
   "id": "b2fbb6a6-705d-44d9-a8a0-20584a22b242",
   "metadata": {
    "scrolled": true
   },
   "outputs": [],
   "source": [
    "import arviz as az\n",
    "import matplotlib.pyplot as plt\n",
    "import seaborn as sns\n",
    "\n",
    "# Convert Stan fit to ArviZ InferenceData for diagnostics\n",
    "inference_data = az.InferenceData(posterior=fit.draws_xr())\n",
    "\n",
    "# Trace plots\n",
    "az.plot_trace(inference_data)\n",
    "plt.show()\n",
    "\n",
    "# Posterior distributions\n",
    "az.plot_posterior(inference_data)\n",
    "plt.show()\n",
    "\n",
    "# Autocorrelation\n",
    "az.plot_autocorr(inference_data)\n",
    "plt.show()\n",
    "\n",
    "# Pair plot\n",
    "az.plot_pair(inference_data, kind='kde')\n",
    "plt.show()\n",
    "\n",
    "#Bayes factor\n",
    "bfmi_value = az.bfmi(inference_data)\n",
    "print(\"BFMI:\", bfmi_value)\n",
    "\n"
   ]
  },
  {
   "cell_type": "markdown",
   "id": "c9307204-dfda-4bef-a4e7-37181e824fa9",
   "metadata": {},
   "source": [
    "### Check ground truth"
   ]
  },
  {
   "cell_type": "code",
   "execution_count": null,
   "id": "4307ed5f-5f19-4127-8955-a40b0d0c24f0",
   "metadata": {},
   "outputs": [],
   "source": [
    "def choice_ground_truth(data):\n",
    "    # Calculating the frequency counts for each unique value\n",
    "    counts = data['choice_index'].value_counts(normalize=True)\n",
    "\n",
    "    # Printing the distribution as percentages\n",
    "    for choice in counts.index:\n",
    "        percent = counts[choice]\n",
    "        print(f'Choice {choice}: {percent:.1%}')\n",
    "\n",
    "    # Ensure the sum of percentages is 100%\n",
    "    total_percent = counts.sum()\n",
    "    print(f'\\nTotal: {total_percent:.1%}')\n"
   ]
  },
  {
   "cell_type": "code",
   "execution_count": null,
   "id": "9c76eea5-9fdc-4981-97c0-d17ff8b8eb98",
   "metadata": {},
   "outputs": [],
   "source": [
    "choice_ground_truth(data)"
   ]
  },
  {
   "cell_type": "markdown",
   "id": "1b28854c-3ad9-4e1c-98ab-dce837815cab",
   "metadata": {},
   "source": [
    "# NumPyro "
   ]
  },
  {
   "cell_type": "markdown",
   "id": "3dd440f0-bbaf-488f-9225-f5f3851acf49",
   "metadata": {},
   "source": [
    "### MCMC"
   ]
  },
  {
   "cell_type": "code",
   "execution_count": null,
   "id": "3f2ad70f-cdf8-4670-b47b-69379320188c",
   "metadata": {},
   "outputs": [],
   "source": [
    "!pip install numpyro jax jaxlib"
   ]
  },
  {
   "cell_type": "code",
   "execution_count": 34,
   "id": "6db1b8b8-057e-4d09-85d9-9f1e7a0bdc75",
   "metadata": {},
   "outputs": [
    {
     "name": "stderr",
     "output_type": "stream",
     "text": [
      "sample: 100%|█| 1500/1500 [11:27<00:00,  2.18it/s, 15 steps of size 6.36e-02. ac"
     ]
    },
    {
     "name": "stdout",
     "output_type": "stream",
     "text": [
      "beta sample mean: -0.28598523\n"
     ]
    },
    {
     "name": "stderr",
     "output_type": "stream",
     "text": [
      "\n"
     ]
    }
   ],
   "source": [
    "import numpyro\n",
    "import numpyro.distributions as dist\n",
    "from numpyro.infer import MCMC, NUTS\n",
    "import jax.numpy as jnp\n",
    "\n",
    "def multinomial_logit_model(price, choice_index):\n",
    "    # Model definition remains the same\n",
    "    alpha_mu = numpyro.sample('alpha_mu', dist.Normal(0,3))\n",
    "    alpha_sigma = numpyro.sample('alpha_sigma', dist.HalfCauchy(scale=2.5))\n",
    "    \n",
    "    beta_mu = numpyro.sample('beta_mu', dist.Normal(0,3))\n",
    "    beta_sigma = numpyro.sample('beta_sigma', dist.HalfCauchy(scale=2.5))\n",
    "    \n",
    "    alpha = numpyro.sample('alpha', dist.Normal(alpha_mu, alpha_sigma))\n",
    "    beta = numpyro.sample('beta', dist.Normal(beta_mu, beta_sigma))\n",
    "    \n",
    "    utilities = alpha + beta * price\n",
    "    numpyro.sample('y', dist.Categorical(logits=utilities), obs=choice_index)\n",
    "\n",
    "# Assuming 'data' is your DataFrame\n",
    "price = data['price'].values\n",
    "choice_index = data['choice_index'].values\n",
    "\n",
    "# Convert to JAX numpy if necessary\n",
    "price_jax = jnp.array(price)\n",
    "choice_index_jax = jnp.array(choice_index)\n",
    "\n",
    "# Set up the NUTS kernel\n",
    "kernel = NUTS(multinomial_logit_model)\n",
    "\n",
    "# Set up the MCMC sampler\n",
    "mcmc = MCMC(kernel, num_warmup=500, num_samples=1000)\n",
    "\n",
    "# Run the sampler\n",
    "mcmc.run(jax.random.PRNGKey(0), price_jax, choice_index_jax)\n",
    "\n",
    "# Get the samples\n",
    "samples = mcmc.get_samples()\n",
    "\n",
    "# Inspect the samples (optional)\n",
    "print('alpha sample mean:', samples['alpha'].mean())\n",
    "print('beta sample mean:', samples['beta'].mean())\n"
   ]
  },
  {
   "cell_type": "code",
   "execution_count": 62,
   "id": "239c7ddd-3ede-4870-8fd2-86c138d41b2b",
   "metadata": {},
   "outputs": [
    {
     "data": {
      "image/png": "[encoded data removed]",
      "text/plain": [
       "<Figure size 1200x600 with 2 Axes>"
      ]
     },
     "metadata": {},
     "output_type": "display_data"
    },
    {
     "name": "stdout",
     "output_type": "stream",
     "text": [
      "Aggregate Revenue: 13663.126953125\n",
      "Revenue 95% Confidence Interval: 13663.1318359375 to 13663.1318359375\n"
     ]
    }
   ],
   "source": [
    "import matplotlib.pyplot as plt\n",
    "import seaborn as sns\n",
    "import jax.numpy as jnp\n",
    "import numpy as np\n",
    "from numpyro.infer import Predictive\n",
    "import jax\n",
    "\n",
    "def ppc(model, price_jax, choice_index_jax, samples):\n",
    "    # Generate posterior predictive data\n",
    "    predictive = Predictive(model, samples)\n",
    "    posterior_predictive = predictive(jax.random.PRNGKey(1), price_jax, choice_index_jax)\n",
    "    predicted_choice_index = posterior_predictive['y']\n",
    "\n",
    "    # Aggregate distribution across all predictions\n",
    "    aggregated_predictions = jnp.mean(predicted_choice_index, axis=0)\n",
    "    \n",
    "    # Compute revenue for each posterior sample\n",
    "    revenue_samples = jnp.sum(price_jax * predicted_choice_index, axis=1)\n",
    "\n",
    "    # Aggregate revenue and confidence interval\n",
    "    aggregated_revenue = jnp.mean(revenue_samples)\n",
    "    lower_bound, upper_bound = np.percentile(revenue_samples, [2.5, 97.5])\n",
    "\n",
    "    # Visualization of choice index distribution\n",
    "    plt.figure(figsize=(12, 6))\n",
    "\n",
    "    # Histogram of observed data\n",
    "    plt.subplot(1, 2, 1)\n",
    "    sns.histplot(choice_index_jax, color='blue')\n",
    "    plt.title('Observed Choice Index')\n",
    "\n",
    "    # Histogram of aggregated predicted data\n",
    "    plt.subplot(1, 2, 2)\n",
    "    sns.histplot(aggregated_predictions, color='green')\n",
    "    plt.title('Aggregated Predicted Choice Index')\n",
    "\n",
    "    plt.tight_layout()\n",
    "    plt.show()\n",
    "\n",
    "    # Print revenue and CI\n",
    "    print(f\"Aggregate Revenue: {aggregated_revenue}\")\n",
    "    print(f\"Revenue 95% Confidence Interval: {lower_bound} to {upper_bound}\")\n",
    "\n",
    "# Example usage of the function:\n",
    "ppc(multinomial_logit_model, price_jax, choice_index_jax, samples)\n"
   ]
  },
  {
   "cell_type": "markdown",
   "id": "5f5b130a-d8eb-46c7-a013-b3f1d9ae97c5",
   "metadata": {},
   "source": [
    "### Variational Bayes"
   ]
  },
  {
   "cell_type": "code",
   "execution_count": 63,
   "id": "4539530d-4a93-4786-a2b8-b709a0470f40",
   "metadata": {},
   "outputs": [
    {
     "name": "stdout",
     "output_type": "stream",
     "text": [
      "Step 0, ELBO = 295746.65625\n",
      "Posterior mean of alpha: 0.7842133\n",
      "Posterior mean of beta: -0.45846453\n"
     ]
    }
   ],
   "source": [
    "import numpyro\n",
    "import numpyro.distributions as dist\n",
    "from numpyro.infer import SVI, Trace_ELBO, autoguide\n",
    "import jax\n",
    "import jax.numpy as jnp\n",
    "import numpyro.optim as optim\n",
    "\n",
    "def multinomial_logit_model(price, choice_index):\n",
    "    # Model definition remains the same\n",
    "    alpha_mu = numpyro.sample('alpha_mu', dist.Normal(0,3))\n",
    "    alpha_sigma = numpyro.sample('alpha_sigma', dist.HalfCauchy(scale=2.5))\n",
    "    \n",
    "    beta_mu = numpyro.sample('beta_mu', dist.Normal(0,3))\n",
    "    beta_sigma = numpyro.sample('beta_sigma', dist.HalfCauchy(scale=2.5))\n",
    "    \n",
    "    alpha = numpyro.sample('alpha', dist.Normal(alpha_mu, alpha_sigma))\n",
    "    beta = numpyro.sample('beta', dist.Normal(beta_mu, beta_sigma))\n",
    "    \n",
    "    utilities = alpha + beta * price\n",
    "    numpyro.sample('y', dist.Categorical(logits=utilities), obs=choice_index)\n",
    "\n",
    "# Assuming 'data' is your DataFrame\n",
    "price = data['price'].values\n",
    "choice_index = data['choice_index'].values\n",
    "price_jax = jnp.array(price)\n",
    "choice_index_jax = jnp.array(choice_index)\n",
    "\n",
    "# Guide for the model\n",
    "guide = autoguide.AutoNormal(multinomial_logit_model)\n",
    "\n",
    "# Set up the optimizer\n",
    "optimizer = optim.Adam(step_size=0.01)\n",
    "\n",
    "# Set up the SVI object\n",
    "svi = SVI(multinomial_logit_model, guide, optimizer, loss=Trace_ELBO())\n",
    "\n",
    "# Run the optimizer\n",
    "n_steps = 100\n",
    "svi_state = svi.init(jax.random.PRNGKey(0), price_jax, choice_index_jax)\n",
    "\n",
    "for step in range(n_steps):\n",
    "    svi_state, loss = svi.update(svi_state, price_jax, choice_index_jax)\n",
    "    if step % 100 == 0:\n",
    "        print(f\"Step {step}, ELBO = {loss}\")\n",
    "\n",
    "# Get the approximate posterior\n",
    "params = svi.get_params(svi_state)\n",
    "\n",
    "# Access the mean and standard deviation of beta\n",
    "alpha_mean = params['alpha_auto_loc']\n",
    "#alpha_std = params['alpha_auto_scale']\n",
    "\n",
    "\n",
    "beta_mean = params['beta_auto_loc']\n",
    "#beta_std = params['beta_auto_scale']\n",
    "\n",
    "# Print the results\n",
    "print(\"Posterior mean of alpha:\", alpha_mean)\n",
    "print(\"Posterior mean of beta:\", beta_mean)"
   ]
  },
  {
   "cell_type": "code",
   "execution_count": null,
   "id": "42f0c6c0-16db-42fd-a5e2-60c3e6ca8a3a",
   "metadata": {},
   "outputs": [],
   "source": []
  },
  {
   "cell_type": "code",
   "execution_count": null,
   "id": "6c2d007d-449d-473c-96e2-30a133ecc19f",
   "metadata": {},
   "outputs": [],
   "source": [
    "    \n",
    "\n",
    "    import arviz as az\n",
    "\n",
    "    inference_data = az.from_numpyro(mcmc)\n",
    "    az.plot_trace(inference_data, compact=True, figsize=(15, 25));"
   ]
  },
  {
   "cell_type": "markdown",
   "id": "256716b5-4fb8-4265-8c34-4e514aaf1040",
   "metadata": {
    "jp-MarkdownHeadingCollapsed": true
   },
   "source": [
    "# Edward"
   ]
  },
  {
   "cell_type": "code",
   "execution_count": null,
   "id": "6f5156c0-2e79-4815-abf4-829a139ce8d9",
   "metadata": {},
   "outputs": [],
   "source": []
  },
  {
   "cell_type": "code",
   "execution_count": null,
   "id": "9da903f4-4df2-461d-b173-25233f09ea82",
   "metadata": {},
   "outputs": [],
   "source": [
    "import tensorflow as tf\n",
    "import tensorflow_probability as tfp\n",
    "from tensorflow_probability import edward2 as ed\n",
    "\n",
    "\n",
    "def mixed_logit_model(N, J, price):\n",
    "    # Priors for hyperparameters\n",
    "    mu_alpha = ed.Normal(loc=0., scale=5., name=\"mu_alpha\")\n",
    "    sigma_alpha = ed.InverseGamma(concentration=2., rate=0.5, name=\"sigma_alpha\")\n",
    "    mu_beta = ed.Normal(loc=0., scale=5., name=\"mu_beta\")\n",
    "    sigma_beta = ed.InverseGamma(concentration=2., rate=0.5, name=\"sigma_beta\")\n",
    "\n",
    "    # Priors for varying intercepts and coefficient\n",
    "    alpha = ed.Normal(loc=mu_alpha, scale=sigma_alpha, sample_shape=J, name=\"alpha\")\n",
    "    beta = ed.Normal(loc=mu_beta, scale=sigma_beta, name=\"beta\")\n",
    "\n",
    "    # Likelihood\n",
    "    utilities = alpha + tf.reshape(beta * price, (-1, 1))\n",
    "    y = ed.Categorical(logits=utilities, name=\"y\")\n",
    "\n",
    "    return y\n",
    "\n",
    "\n",
    "# Assuming `price` and `choice_index` are your data\n",
    "model = mixed_logit_model(N, J, price)\n",
    "\n",
    "# Choose an inference method here (e.g., MCMC, VI)\n",
    "# Example with Variational Inference\n",
    "q_alpha = tfp.distributions.Normal(loc=tf.get_variable(\"q_alpha/loc\", [J]),\n",
    "                                   scale=tf.nn.softplus(tf.get_variable(\"q_alpha/scale\", [J])))\n",
    "# Define other variational parameters similarly for beta, mu_alpha, etc.\n",
    "\n",
    "# Run the inference\n",
    "inference = tfp.vi.fit_surrogate_posterior(target_log_prob_fn=mixed_logit_model,\n",
    "                                           surrogate_posterior=q_alpha)\n"
   ]
  },
  {
   "cell_type": "markdown",
   "id": "5919205c-83db-4798-8628-afebc1a2cf7b",
   "metadata": {
    "jp-MarkdownHeadingCollapsed": true
   },
   "source": [
    "# xlogit preprocessing"
   ]
  },
  {
   "cell_type": "markdown",
   "id": "32771823-a53c-41eb-ab83-e7dc86e1e920",
   "metadata": {},
   "source": [
    "### Duplicate choices to take account of alternatives\n",
    "\n",
    "Currently, each 'choice' (including incremental volume purchases) only has one row. We need to duplicate each choice to take account of the $J-1$ alternatives."
   ]
  },
  {
   "cell_type": "code",
   "execution_count": null,
   "id": "75c240e1-8bda-4188-87bf-d2a96fd2cc37",
   "metadata": {},
   "outputs": [],
   "source": [
    "def declare_alternatives(data):\n",
    "    import pandas as pd\n",
    "\n",
    "    # Fixed column names\n",
    "    choice_column = 'product'\n",
    "    price_column = 'price'\n",
    "    volume_column = 'volume'\n",
    "\n",
    "    # Rename the 'product' column to 'choice'\n",
    "    data = data.rename(columns={choice_column: 'choice'})\n",
    "\n",
    "    # Calculate the average price for each choice\n",
    "    avg_price = data.groupby('choice')[price_column].mean()\n",
    "\n",
    "    # Get the unique choices\n",
    "    choices = data['choice'].unique()\n",
    "\n",
    "    # Create a price and volume column for each choice\n",
    "    for c in choices:\n",
    "        data[f'price_{c}'] = data.apply(lambda x: x[price_column] if x['choice'] == c else avg_price[c], axis=1)\n",
    "        data[f'volume_{c}'] = data[volume_column]\n",
    "\n",
    "    # Drop the original price and volume columns\n",
    "    data = data.drop(columns=[price_column, volume_column])\n",
    "\n",
    "    return data\n",
    "\n",
    "# Example usage\n",
    "data = declare_alternatives(data)\n"
   ]
  },
  {
   "cell_type": "markdown",
   "id": "e30f3ce7",
   "metadata": {},
   "source": [
    "### Pivot data long"
   ]
  },
  {
   "cell_type": "code",
   "execution_count": null,
   "id": "681b0dcc",
   "metadata": {},
   "outputs": [],
   "source": [
    "def make_data_long(data):\n",
    "    from xlogit.utils import wide_to_long\n",
    "    import uuid\n",
    "\n",
    "    # Fixed column names\n",
    "    id_col = 'id'\n",
    "    choice = 'choice'\n",
    "\n",
    "    # Get unique alternatives from the choice column\n",
    "    alt_list = data[choice].unique().tolist()\n",
    "\n",
    "    # Convert the data from wide to long format\n",
    "    data_long = wide_to_long(data, id_col=id_col, alt_list=alt_list, \n",
    "                             varying=['price', 'volume'], alt_name='alt', sep='_', alt_is_prefix=False)\n",
    "\n",
    "    # Assign a unique identifier to each row in the workspace_id column\n",
    "    data_long[id_col] = [str(uuid.uuid4()) for _ in range(len(data_long))]\n",
    "\n",
    "    return data_long\n",
    "\n",
    "\n",
    "# Example usage\n",
    "data = make_data_long(data)\n",
    "data.head()\n"
   ]
  },
  {
   "cell_type": "markdown",
   "id": "c96d0baa-da3d-4e9c-bb8c-057b6d73bc46",
   "metadata": {},
   "source": [
    "### Declare nests"
   ]
  },
  {
   "cell_type": "code",
   "execution_count": null,
   "id": "8f2df5e1-5252-414a-8fbb-24bc611d00c1",
   "metadata": {},
   "outputs": [],
   "source": [
    "def nests(data):\n",
    "    # Create the 'sales' column based on the condition\n",
    "    data['nest1'] = data['alt'].apply(lambda x: 1 if x in ['Other'] else 0)\n",
    "    data['nest2'] = data['alt'].apply(lambda x: 1 if x not in ['Other'] else 0)\n",
    "    return data\n",
    "\n",
    "data = nests(data)\n",
    "data.head()"
   ]
  },
  {
   "cell_type": "markdown",
   "id": "15ced179-f2aa-491d-b74d-8dd2ce3bc58d",
   "metadata": {},
   "source": [
    "### Standardize price"
   ]
  },
  {
   "cell_type": "markdown",
   "id": "1f5cf599-f65c-4092-b453-134ecc329926",
   "metadata": {},
   "source": [
    "Let $P_o$ be the original price, $P_s$ be the standardized price, \n",
    "$\\mu_o$ be the mean of the original prices, and $\\sigma_o$ be the \n",
    "standard deviation of the original prices.\n",
    "\n",
    "The standardization transformation is defined as:\n",
    "$$ P_s = \\frac{P_o - \\mu_o}{\\sigma_o} $$\n",
    "\n",
    "To reverse this transformation and recover the original price, the following \n",
    "formula is used:\n",
    "$$ P_o = (P_s \\times \\sigma_o) + \\mu_o $$\n"
   ]
  },
  {
   "cell_type": "code",
   "execution_count": null,
   "id": "33ffd786-f6e7-4e75-b600-dc411732c860",
   "metadata": {},
   "outputs": [],
   "source": [
    "def standardize_price(data):\n",
    "    import pandas as pd\n",
    "    \n",
    "    if 'price' not in data.columns:\n",
    "        raise ValueError(\"The 'price' column is not found in the data.\")\n",
    "\n",
    "    mean_price = data['price'].mean()\n",
    "    std_price = data['price'].std()\n",
    "\n",
    "    # Avoid division by zero in case of constant price\n",
    "    if std_price == 0:\n",
    "        raise ValueError(\"Standard deviation of 'price' is zero. Cannot standardize a constant variable.\")\n",
    "\n",
    "    old_price_sample = data['price'].iloc[0]  # Take a sample price for comparison\n",
    "    data['price'] = (data['price'] - mean_price) / std_price\n",
    "    new_price_sample = data['price'].iloc[0]  # Corresponding standardized price\n",
    "\n",
    "    # Calculate the scaling factor\n",
    "    scaling_factor = new_price_sample / old_price_sample if old_price_sample != 0 else 0\n",
    "\n",
    "    print(f\"Mean (mu): {mean_price:.2f}, Standard Deviation (sigma): {std_price:.2f}\")\n",
    "    print(f\"Price has been scaled by a factor of: {scaling_factor:.2f}\")\n",
    "\n",
    "    return data, scaling_factor, mean_price, std_price\n",
    "\n",
    "# Example usage\n",
    "data, scaling_factor, scaler_mu, scaler_sigma = standardize_price(data)\n",
    "\n",
    "data.head()\n"
   ]
  },
  {
   "cell_type": "code",
   "execution_count": null,
   "id": "a6c738fe-e087-4c1c-b22e-1bd2ba23ba4e",
   "metadata": {
    "jupyter": {
     "source_hidden": true
    }
   },
   "outputs": [],
   "source": []
  },
  {
   "cell_type": "markdown",
   "id": "41678487-5166-4780-966d-490a1d18e1ee",
   "metadata": {
    "jp-MarkdownHeadingCollapsed": true
   },
   "source": [
    "# xlogit estimation"
   ]
  },
  {
   "cell_type": "markdown",
   "id": "50877524-3eaa-4d95-b833-b5df5fee4366",
   "metadata": {},
   "source": [
    "### Mixed logit"
   ]
  },
  {
   "cell_type": "code",
   "execution_count": null,
   "id": "87a3eb76-3e79-4734-8a33-451b908cd815",
   "metadata": {},
   "outputs": [],
   "source": [
    "def estimate_mixed_logit_model(data):\n",
    "    from xlogit import MixedLogit\n",
    "    varnames = ['price', 'nest1', 'nest2']\n",
    "\n",
    "    model = MixedLogit()\n",
    "\n",
    "    model.fit(X = data[varnames], y = data['choice'], varnames=varnames,\n",
    "              alts=data['alt'], ids=data['id'], avail=data['available'],\n",
    "              #panels = data['panel'],\n",
    "              panels = None,\n",
    "              randvars={'price': 'n'},\n",
    "              maxiter = 1000, n_draws=3500, \n",
    "              num_hess = True,\n",
    "              fit_intercept=True,\n",
    "              optim_method='L-BFGS-B')\n",
    "\n",
    "    model.summary()\n",
    "\n",
    "    return model\n",
    "\n",
    "ml_model = estimate_mixed_logit_model(data)"
   ]
  },
  {
   "cell_type": "markdown",
   "id": "6241d6bd-b4b9-44be-9f59-39e919130fa4",
   "metadata": {},
   "source": [
    "### Prediction with base data"
   ]
  },
  {
   "cell_type": "code",
   "execution_count": null,
   "id": "d0d6d646-25fe-4505-833d-3ec160d9b248",
   "metadata": {},
   "outputs": [],
   "source": [
    "import pandas as pd\n",
    "import numpy as np\n",
    "\n",
    "def predict(model, data, aupa):\n",
    "    # Create a copy of the data to work with inside the function\n",
    "    data_copy = data.copy()\n",
    "\n",
    "    varnames = ['price']\n",
    "\n",
    "    # Adjust prices for different alternatives in the copy\n",
    "    #data_copy.loc[data_copy['alt'] == 'Starter', 'price'] = (30 - scaler_mu) / scaler_sigma\n",
    "    #data_copy.loc[data_copy['alt'] == 'Team', 'price'] = (50 - scaler_mu) / scaler_sigma\n",
    "    #data_copy.loc[data_copy['alt'] == 'Business', 'price'] = (100 - scaler_mu) / scaler_sigma\n",
    "    #data_copy.loc[data_copy['alt'] == 'Enterprise', 'price'] = (300 - scaler_mu) / scaler_sigma\n",
    "\n",
    "    # Generate probabilities\n",
    "    result = model.predict(X=data_copy[varnames], varnames=varnames, ids=data_copy['id'], alts=data_copy['alt'], return_proba=True)\n",
    "\n",
    "    # Unpack the tuple if result is a tuple\n",
    "    if isinstance(result, tuple):\n",
    "        choices, proba = result\n",
    "    else:\n",
    "        proba = result\n",
    "\n",
    "    # Rescale individual prices in the copy\n",
    "    data_copy['rescaled_price'] = data_copy['price'] * scaler_sigma + scaler_mu\n",
    "\n",
    "    # Calculate the average of each column in proba\n",
    "    avg_proba = np.mean(proba, axis=0)\n",
    "\n",
    "    # Revenue calculation\n",
    "    revenue = 0\n",
    "    for i in range(proba.shape[1]):\n",
    "        revenue += np.sum(data_copy[data_copy['alt'] == data_copy['alt'].unique()[i]]['rescaled_price'] * avg_proba[i])\n",
    "    total_revenue = revenue * 12\n",
    "\n",
    "    # Calculate and print package volume mix and revenue\n",
    "    print(\"Package volume mix:\")\n",
    "    alt_names = data_copy['alt'].unique()  # Extract unique alternative names from the copy\n",
    "    for i, p in enumerate(avg_proba):\n",
    "        print(f\"{alt_names[i]}: {p*100:.0f}%\")\n",
    "\n",
    "    print(\"\\nTotal Revenue: ${:,.0f}\".format(total_revenue))\n",
    "\n",
    "    # Calculate paid volume (excluding 'Other' option)\n",
    "    paid_volume = len(proba) * sum(avg_proba[alt_names != 'Other'])\n",
    "\n",
    "    # Calculate paid accounts\n",
    "    paid_accounts = int(paid_volume / aupa)\n",
    "\n",
    "    # Calculate ARPA\n",
    "    arpa = total_revenue / paid_accounts if paid_accounts > 0 else 0\n",
    "    print(\"Paid Accounts: \", paid_accounts)\n",
    "    print(\"ARPA: ${:,.2f}\".format(arpa))\n",
    "    print()\n",
    "    print(\"Paid Seats: \", int(paid_volume))\n",
    "    print(\"ARPU: ${:,.2f}\".format(total_revenue / paid_volume))\n",
    "\n",
    "    print(\"\\nn: \", len(proba))\n",
    "\n",
    "    return avg_proba\n",
    "\n",
    "# Example usage\n",
    "proba = predict(ml_model, data, 6.64)\n"
   ]
  },
  {
   "cell_type": "markdown",
   "id": "5e3026c9-d51e-4b7a-a953-d10005745cce",
   "metadata": {},
   "source": [
    "### With new prices\n",
    "- ID column\n",
    "- Price column\n",
    "- Available\n",
    "\n",
    "Plus we need a row for each alt.\n"
   ]
  },
  {
   "cell_type": "code",
   "execution_count": null,
   "id": "bff86780-9714-4ab8-8566-3b8f9e878508",
   "metadata": {},
   "outputs": [],
   "source": [
    "import pandas as pd\n",
    "import uuid\n",
    "\n",
    "def create_dummy(N, prices, names):\n",
    "    prices = (prices - scaler_mu) / scaler_sigma\n",
    "    \n",
    "    # Check if the length of prices and names match\n",
    "    if len(prices) != len(names):\n",
    "        raise ValueError(\"Length of 'prices' and 'names' must be the same.\")\n",
    "\n",
    "    # Create a list of unique IDs\n",
    "    unique_ids = [str(uuid.uuid4()) for _ in range(N)]\n",
    "\n",
    "    # Create a list to hold the data for the DataFrame\n",
    "    data = []\n",
    "\n",
    "    # Loop through unique IDs and names to create rows\n",
    "    for uid in unique_ids:\n",
    "        for name, price in zip(names, prices):\n",
    "            data.append({'id': uid, 'alt': name, 'price': price})\n",
    "\n",
    "    # Create the DataFrame\n",
    "    data_dummy = pd.DataFrame(data)\n",
    "\n",
    "    return data_dummy\n",
    "\n",
    "# Example usage:\n",
    "N = 27556  # Number of unique IDs\n",
    "prices = (17, 42, 68, 148, 0 )\n",
    "names = ['Starter', 'Team', 'Business', 'Enterprise', 'Other']  # Alternative product names\n",
    "\n",
    "# data_dummy = create_dummy(N, prices, names)\n",
    "data_dummy = create_dummy(N, prices, names)\n",
    "\n",
    "\n",
    "data_dummy.head()\n"
   ]
  },
  {
   "cell_type": "markdown",
   "id": "981dde19-0bb2-406a-9c0b-0970edf26dc9",
   "metadata": {
    "jp-MarkdownHeadingCollapsed": true
   },
   "source": [
    "# Manual prediction"
   ]
  },
  {
   "cell_type": "markdown",
   "id": "fd09175b-533e-4b4a-b696-1e86ecd0992a",
   "metadata": {},
   "source": [
    "\n",
    "Given $\\beta_n$, the probability that person $n$ chooses alternative $i$ is given by the standard logit formula:\n",
    "$$\n",
    "L_{ni}(\\beta_n) = \\frac{e^{\\beta_n X_{ni}}}{\\sum_{j} e^{\\beta_n X_{nj}}}\n",
    "$$\n",
    "\n",
    "However, since $\\beta_n$ is random and not known, the unconditional choice probability is the integral of this logit formula over the density of $\\beta_n$, which we assume is normally distributed with parameters $\\mu$ and $\\sigma$:\n",
    "$$\n",
    "P_{ni} = \\int L_{ni}(\\beta) f(\\beta | \\theta) d\\beta\n",
    "$$\n",
    "\n",
    "\n",
    "Because there is no closed form for the integral that enters the choice probability, we must simulate $P_n$. There are four basic steps to follow:\n",
    "\n",
    "1. Take a draw from the probability density function that you specified for the 'taste' coefficients. That is, take a draw from $f(\\beta | \\theta)$ and label the draw $\\beta^r$, for $r=1$ representing the first draw.\n",
    "2. Calculate $L_n(\\beta^r)$. (The conditional probability.)\n",
    "3. Repeat many times, for $r=2, \\ldots, R$.\n",
    "4. Average the results.\n",
    "\n",
    "\n",
    "Then the formula for the simulation looks like the following,\n",
    "$$\n",
    "\\tilde{P}_{ni} = \\frac{\\sum_{r} L_{ni}(\\beta^r)}{R}\n",
    "$$\n",
    "where $R$ is the total number of draws taken from the distribution, and $r$ is one draw.\n",
    "\n",
    "Once this is done, you will have a value for the probability of each alternative $i$ for each respondent $n$.\n",
    "\n",
    "Finally, we average over all $n$ probabilites to get the aggregated share across the entire customer-base.\n",
    "\n",
    "\n"
   ]
  },
  {
   "cell_type": "markdown",
   "id": "6f7ce1b5-e8be-437d-b431-59cccfa56f77",
   "metadata": {},
   "source": [
    "### Preference shares"
   ]
  },
  {
   "cell_type": "code",
   "execution_count": null,
   "id": "72c06e99-f1d2-47be-bf1e-0f0f212a102f",
   "metadata": {},
   "outputs": [],
   "source": [
    "import numpy as np\n",
    "\n",
    "def simulate_choice_probabilities(prices, choice_constants, mu, sigma, R, N):\n",
    "    \"\"\"\n",
    "    Simulate choice probabilities for a mixed logit model with choice-specific constants,\n",
    "    standardizing the prices first.\n",
    "\n",
    "    :param prices: A 2D array of shape (N, num_choices), representing the prices for each choice for each individual.\n",
    "    :param choice_constants: An array of constants for each choice.\n",
    "    :param mu: Mean of the normal distribution for the random coefficient beta.\n",
    "    :param sigma: Standard deviation of the normal distribution for beta.\n",
    "    :param R: Number of simulation draws.\n",
    "    :param N: Number of individuals.\n",
    "    :param scaler_mu: Mean used for standardizing the prices.\n",
    "    :param scaler_sigma: Standard deviation used for standardizing the prices.\n",
    "    :return: An array of simulated choice probabilities for each choice.\n",
    "    \"\"\"\n",
    "    num_choices = prices.shape[1]\n",
    "    simulated_probabilities = np.zeros((N, num_choices))\n",
    "\n",
    "    for n in range(N):\n",
    "        # Simulate R draws for the random coefficient\n",
    "        beta_draws = np.random.normal(mu, sigma, R)\n",
    "\n",
    "        # Calculate the utility for each choice for each draw, using standardized prices\n",
    "        utility = choice_constants + beta_draws[:, np.newaxis] * prices[n]\n",
    "        \n",
    "        # Calculate conditional choice probabilities for each draw\n",
    "        exp_utility = np.exp(utility)\n",
    "        conditional_probs = exp_utility / np.sum(exp_utility, axis=1, keepdims=True)\n",
    "\n",
    "        # Average over R draws to approximate unconditional choice probability\n",
    "        simulated_probabilities[n] = np.mean(conditional_probs, axis=0)\n",
    "\n",
    "    # Aggregate probabilities over all individuals\n",
    "    aggregated_probabilities = np.mean(simulated_probabilities, axis=0)\n",
    "\n",
    "    # Print choice probabilities as XX%\n",
    "    formatted_probabilities = [\"{:.0f}%\".format(prob * 100) for prob in aggregated_probabilities]\n",
    "    for prob in formatted_probabilities:\n",
    "        print(prob)\n",
    "\n",
    "    return num_choices\n",
    "    \n",
    "# Example usage\n",
    "mu = -2.7352404      # Mean of beta\n",
    "sigma = 1.6406472   # Standard deviation of beta\n",
    "R = 1000    # Number of simulation draws\n",
    "N = 10000     # Number of individuals\n",
    "\n",
    "prices = np.array([([17, 42, 68, 148, 0] - scaler_mu) / scaler_sigma] * N)  \n",
    "choice_constants = np.array([2.9618956, -4.9144808, 0, 1.5379867, 2.5918716])  # Constants for each choice\n",
    "\n",
    "# Simulating choice probabilities\n",
    "num_choices  = simulate_choice_probabilities(prices, choice_constants, mu, sigma, R, N)\n",
    "\n",
    "\n"
   ]
  },
  {
   "cell_type": "markdown",
   "id": "8cbd20f2-5ef3-4586-81ad-b76021badea6",
   "metadata": {},
   "source": [
    "### Substitution patterns\n",
    "\n",
    "$$\n",
    "\\epsilon_{ni,xm} = -\\frac{x_m \\beta_m}{P_{ni}} \\int L_{ni}(\\beta) L_{nj}(\\beta) f(\\beta) d\\beta\n",
    "$$\n",
    "\n",
    "Mixed logit does not exhibit independence from irrelevant alternatives (IIA) or the restrictive substitution patterns of logit. The ratio of mixed logit probabilities, $\\frac{P_{ni}}{P_{nj}}$, depends on all the data, including attributes of alternatives other than i or j. The denominators of the logit formula are inside the integrals and therefore do not cancel. The percentage change in the probability for one alternative given a percentage change in the $m$th attribute of another alternative is given by $\\epsilon_{ni,xm}$. \n",
    "\n",
    "This elasticity is different for each alternative $i$. A ten-percent reduction for one alternative need not imply (as with logit) a ten-percent reduction in each other alternative. Rather, the substitution pattern depends on the specification of the variables and mixing distribution, which can be determined empirically.\n"
   ]
  },
  {
   "cell_type": "code",
   "execution_count": null,
   "id": "fc0a2cdf-f1df-4f3e-83ad-44aeba782362",
   "metadata": {},
   "outputs": [],
   "source": []
  },
  {
   "cell_type": "markdown",
   "id": "21568d5a-395d-4d0b-b3dc-8d918705d567",
   "metadata": {
    "jp-MarkdownHeadingCollapsed": true
   },
   "source": [
    "# Ground truth (base prices)"
   ]
  },
  {
   "cell_type": "code",
   "execution_count": null,
   "id": "e7f8c43b-540c-4288-8e33-5fd3eff4d08b",
   "metadata": {
    "jupyter": {
     "source_hidden": true
    }
   },
   "outputs": [],
   "source": [
    "data.tail()"
   ]
  },
  {
   "cell_type": "code",
   "execution_count": null,
   "id": "47a330a3-739b-44a1-b9b6-b89459f3f965",
   "metadata": {},
   "outputs": [],
   "source": [
    "def plot_variability_with_boxplot(data, scaler_mu, scaler_sigma):\n",
    "    import matplotlib.pyplot as plt\n",
    "    import numpy as np\n",
    "\n",
    "    # Reverse the standardization of price\n",
    "    if 'price' in data.columns:\n",
    "        data = data.copy()\n",
    "        data['price'] = (data['price'] * scaler_sigma) + scaler_mu\n",
    "    else:\n",
    "        print(\"The 'price' column is not in the dataset.\")\n",
    "        return\n",
    "\n",
    "    fig, axes = plt.subplots(nrows=1, ncols=3, figsize=(18, 5))\n",
    "\n",
    "    # Plotting the histogram for 'price'\n",
    "    axes[0].hist(data['price'], bins=20, edgecolor='black', color='blue')\n",
    "    axes[0].set_title('Histogram of Price')\n",
    "    axes[0].set_xlabel('Price')\n",
    "    axes[0].set_ylabel('Frequency')\n",
    "\n",
    "    # Plotting the bar plot for 'choice' where 'choice' and 'alt' are equal\n",
    "    if 'choice' in data.columns and 'alt' in data.columns:\n",
    "        filtered_data = data[data['choice'] == data['alt']]\n",
    "        choice_counts = filtered_data['choice'].value_counts()\n",
    "        total = choice_counts.sum()\n",
    "        percentages = (choice_counts / total) * 100\n",
    "\n",
    "        bars = axes[1].bar(percentages.index, percentages.values, color='green')\n",
    "\n",
    "        for bar in bars:\n",
    "            yval = bar.get_height()\n",
    "            axes[1].text(bar.get_x() + bar.get_width()/2, yval, f'{yval:.2f}%', va='bottom', ha='center')\n",
    "\n",
    "        axes[1].set_title('Bar Plot of Choice (Choice = Alt)')\n",
    "        axes[1].set_xlabel('Choice')\n",
    "        axes[1].set_ylabel('Percentage')\n",
    "\n",
    "        # Boxplot of price by choice where choice is equal to alt\n",
    "        boxplot_data = [filtered_data.loc[filtered_data['choice'] == choice, 'price'] for choice in choice_counts.index]\n",
    "        axes[2].boxplot(boxplot_data, labels=choice_counts.index)\n",
    "        axes[2].set_title('Boxplot of Price by Choice (Choice = Alt)')\n",
    "        axes[2].set_xlabel('Choice')\n",
    "        axes[2].set_ylabel('Price')\n",
    "\n",
    "        # Print median and mean prices for each choice\n",
    "        print(\"Price Summary by Choice:\")\n",
    "        for i, choice in enumerate(choice_counts.index):\n",
    "            median_price = np.median(boxplot_data[i])\n",
    "            mean_price = np.mean(boxplot_data[i])\n",
    "            print(f\"{choice} - Median: ${int(median_price)}, Mean: ${int(mean_price)}\")\n",
    "    else:\n",
    "        print(\"The 'choice' and/or 'alt' column is not in the dataset.\")\n",
    "\n",
    "    plt.tight_layout()\n",
    "    plt.show()\n",
    "\n",
    "# Example usage\n",
    "plot_variability_with_boxplot(data, scaler_mu, scaler_sigma)\n"
   ]
  },
  {
   "cell_type": "markdown",
   "id": "74e5f0a7-a573-4499-b99b-89d4af061e99",
   "metadata": {},
   "source": [
    "# Intercept Calibration"
   ]
  },
  {
   "cell_type": "markdown",
   "id": "99565d89-c845-4320-98c6-992ecf3f7d47",
   "metadata": {},
   "source": [
    "# Demand curves"
   ]
  },
  {
   "cell_type": "markdown",
   "id": "f9a706f9-4ebd-4f0a-93ed-9f7ede2d531d",
   "metadata": {
    "jp-MarkdownHeadingCollapsed": true
   },
   "source": [
    "# Revenue maximisation (CoBiT)"
   ]
  },
  {
   "cell_type": "markdown",
   "id": "0745a72a-c670-4729-adbf-a0999bd9c24b",
   "metadata": {},
   "source": [
    "### Objective function: NOP vs CLV"
   ]
  },
  {
   "cell_type": "markdown",
   "id": "c3217987-32ac-4ec9-a048-3efa0e07a4f5",
   "metadata": {},
   "source": [
    "In the interdependent case, a given product's demand $D_i$ is a function of all other product's prices.\n"
   ]
  },
  {
   "cell_type": "markdown",
   "id": "5db4048e-a7ed-4ae2-a08e-f20538f131fd",
   "metadata": {},
   "source": [
    "$$\\begin{equation}\n",
    "   \\max R = \\sum_{i=1}^N p_i \\cdot D_i(p_1, p_2, \\ldots, p_N)\n",
    "\\end{equation}$$\n",
    "\n",
    "Optimal prices are when all elements of the revenue Jacobian with respect to each price equal zero.\n",
    "\n",
    "$$\\begin{equation}\n",
    "    \\frac{\\partial R}{\\partial p_i} = 0 \\quad \\text{for each} \\quad i = 1, 2, \\ldots, N\n",
    "\\end{equation}$$\n",
    "\n",
    "\n",
    "\\begin{equation}\n",
    "    \\frac{\\partial R}{\\partial p_i} = D_i(p_1, \\ldots, p_N) + p_i \\cdot \\frac{\\partial D_i(p_1, \\ldots, p_N)}{\\partial p_i} + \\sum_{\\substack{j=1 \\\\ j \\neq i}}^N \\left( p_j \\cdot \\frac{\\partial D_j(p_1, \\ldots, p_N)}{\\partial p_i} \\right)\n",
    "\\end{equation}\n",
    "\n",
    "\n"
   ]
  },
  {
   "cell_type": "markdown",
   "id": "2b9b4ebd-f82b-4808-a5ad-9a0391cb8e10",
   "metadata": {},
   "source": [
    "### Nonlinear programming"
   ]
  },
  {
   "cell_type": "markdown",
   "id": "500aa53a-e548-4552-838e-f60c0051c0a8",
   "metadata": {},
   "source": [
    "Marandi, A., & Lurkin, V. (2023). An exact algorithm for the static pricing problem under discrete mixed logit demand. EURO Journal on Computational Optimization, 11, 100073.\n",
    "\n",
    "https://arxiv.org/pdf/2005.07482.pdf\n"
   ]
  },
  {
   "cell_type": "markdown",
   "id": "b2f5831d-d607-4d0d-a80b-04e19ed926ac",
   "metadata": {},
   "source": [
    "Yan, Z., Natarajan, K., Teo, C. P., & Cheng, C. (2022). A representative consumer model in data-driven multiproduct pricing optimization. Management Science, 68(8), 5798-5827."
   ]
  },
  {
   "cell_type": "code",
   "execution_count": null,
   "id": "38039354-26c2-4f95-a50e-1df6763f3d7a",
   "metadata": {},
   "outputs": [],
   "source": [
    "import pandas as pd\n",
    "import numpy as np\n",
    "\n",
    "def predict(prices, model, data, scaler_mu, scaler_sigma, aupa):\n",
    "    data_copy = data.copy()\n",
    "    alternatives = ['Starter', 'Team', 'Business', 'Enterprise', 'Other']\n",
    "\n",
    "    # Adjust prices for different alternatives\n",
    "    for alt, price in zip(alternatives, prices):\n",
    "        data_copy.loc[data_copy['alt'] == alt, 'price'] = (price - scaler_mu) / scaler_sigma\n",
    "    \n",
    "    varnames = ['price']\n",
    "\n",
    "    # Generate probabilities\n",
    "    result = model.predict(X=data_copy[varnames], varnames=varnames, ids=data_copy['id'], alts=data_copy['alt'], return_proba=True)\n",
    "\n",
    "    if isinstance(result, tuple):\n",
    "        _, proba = result\n",
    "    else:\n",
    "        proba = result\n",
    "\n",
    "    data_copy['rescaled_price'] = data_copy['price'] * scaler_sigma + scaler_mu\n",
    "    avg_proba = np.mean(proba, axis=0)\n",
    "\n",
    "    # Constraint: Max average probability of 'Other' not exceeding 10%\n",
    "    if avg_proba[-1] > 0.10:\n",
    "        return 1e9  # Highly undesirable solution\n",
    "\n",
    "    # Additional Constraint: Starter < Team < Business < Enterprise\n",
    "    if not (prices[0] < prices[1] < prices[2] < prices[3]):\n",
    "        return 1e9  # Highly undesirable solution\n",
    "\n",
    "    revenue = 0\n",
    "    for i in range(proba.shape[1]):\n",
    "        revenue += np.sum(data_copy[data_copy['alt'] == alternatives[i]]['rescaled_price'] * avg_proba[i])\n",
    "    total_revenue = revenue * 12\n",
    "\n",
    "    paid_volume = len(proba) * sum(avg_proba[:-1])\n",
    "    paid_accounts = int(paid_volume / aupa)\n",
    "    arpa = total_revenue / paid_accounts if paid_accounts > 0 else 0\n",
    "\n",
    "    return -total_revenue  # Negative for optimization\n",
    "\n",
    "\n",
    "from scipy.optimize import minimize\n",
    "\n",
    "def optimize_prices(model, data, scaler_mu, scaler_sigma, aupa):\n",
    "    initial_prices = [13, 35, 61, 141, 0]\n",
    "    price_bounds = [(10, 30), (20, 50), (50, 80), (100, 300), (0,0)]\n",
    "\n",
    "    result = minimize(predict, initial_prices, args=(model, data, scaler_mu, scaler_sigma, aupa),\n",
    "                      bounds=price_bounds, method='L-BFGS-B')\n",
    "\n",
    "    optimal_prices = result.x\n",
    "    max_revenue = -result.fun\n",
    "\n",
    "    print(optimal_prices)\n",
    "    print(max_revenue)\n",
    "\n",
    "    return optimal_prices, max_revenue\n",
    "\n",
    "# Example usage\n",
    "optimal_prices, max_revenue = optimize_prices(ml_model, data, scaler_mu, scaler_sigma, 6.64)\n"
   ]
  },
  {
   "cell_type": "markdown",
   "id": "6c8aabbd-52a2-4510-817b-fba91a00442c",
   "metadata": {},
   "source": [
    "# Outputs"
   ]
  },
  {
   "cell_type": "markdown",
   "id": "c1ac5b46-23a2-450a-b2ac-713802773cc5",
   "metadata": {},
   "source": [
    "### Pseudo-lift"
   ]
  },
  {
   "cell_type": "markdown",
   "id": "2a9d1005-a48d-44cc-b95a-12d01cbc53c8",
   "metadata": {},
   "source": [
    "**Revenue lift**  \n",
    "**Customer lift (and churn)**  \n",
    "**ARPA lift**"
   ]
  },
  {
   "cell_type": "markdown",
   "id": "4d3f8908-2103-4b7e-87f9-803808b07efc",
   "metadata": {},
   "source": [
    "### PVM"
   ]
  },
  {
   "cell_type": "markdown",
   "id": "dfcfc8cc-cd79-4abb-88d0-73b3a6a0f80e",
   "metadata": {},
   "source": [
    "### Customer-level distributions"
   ]
  },
  {
   "cell_type": "markdown",
   "id": "fd007ab5-392b-4fc2-bc1f-a29498dcc34e",
   "metadata": {},
   "source": [
    "### Product-level distributions"
   ]
  },
  {
   "cell_type": "code",
   "execution_count": null,
   "id": "78d565ff-712d-4408-b2d5-bcb4c88b2cf7",
   "metadata": {
    "jupyter": {
     "source_hidden": true
    }
   },
   "outputs": [],
   "source": []
  },
  {
   "cell_type": "code",
   "execution_count": null,
   "id": "ac068ccd-ce3b-4419-a1f9-e6f20a3b8ee1",
   "metadata": {
    "jupyter": {
     "source_hidden": true
    }
   },
   "outputs": [],
   "source": [
    "import numpy as np\n",
    "import pandas as pd\n",
    "from scipy.stats import norm\n",
    "\n",
    "def simulate(intercepts, original_prices, new_prices, beta_mean, beta_std, N, product_names, scaler_mu, scaler_sigma, R=1000):\n",
    "    num_goods = len(intercepts)\n",
    "\n",
    "    # Standardize prices\n",
    "    standardized_original_prices = (original_prices - scaler_mu) / scaler_sigma\n",
    "    standardized_new_prices = (new_prices - scaler_mu) / scaler_sigma\n",
    "\n",
    "    def choice_probability(beta_sample, prices):\n",
    "        utilities = np.array([intercepts[i] + beta_sample * prices[i] for i in range(num_goods)])\n",
    "        exp_utilities = np.exp(utilities - np.max(utilities))  # Log-Sum-Exp trick\n",
    "        return utilities, exp_utilities / np.sum(exp_utilities)\n",
    "\n",
    "    def simulate_individual_shares(prices):\n",
    "        shares = np.zeros(num_goods)\n",
    "        utilities_list = []\n",
    "        choice_probs_list = []\n",
    "\n",
    "        for _ in range(N):\n",
    "            avg_shares = np.zeros(num_goods)\n",
    "            avg_utilities = np.zeros(num_goods)\n",
    "            avg_choice_probs = np.zeros(num_goods)\n",
    "            for _ in range(R):\n",
    "                beta_sample = np.random.normal(beta_mean, beta_std)\n",
    "                utilities, choice_probs = choice_probability(beta_sample, prices)\n",
    "                avg_utilities += utilities\n",
    "                avg_choice_probs += choice_probs\n",
    "                avg_shares += choice_probs\n",
    "            avg_utilities /= R\n",
    "            avg_choice_probs /= R\n",
    "            avg_shares /= R\n",
    "\n",
    "            shares += avg_shares\n",
    "            utilities_list.append(avg_utilities)\n",
    "            choice_probs_list.append(avg_choice_probs)\n",
    "\n",
    "        utilities_df = pd.DataFrame(utilities_list, columns=product_names)\n",
    "        choice_probs_df = pd.DataFrame(choice_probs_list, columns=product_names)\n",
    "        return shares / N, utilities_df, choice_probs_df\n",
    "\n",
    "    # Calculate choice shares and revenues\n",
    "    original_shares, original_utilities_df, original_choice_probs_df = simulate_individual_shares(standardized_original_prices)\n",
    "    new_shares, new_utilities_df, new_choice_probs_df = simulate_individual_shares(standardized_new_prices)\n",
    "\n",
    "    original_revenue = N * np.sum(original_shares * original_prices)\n",
    "    new_revenue = N * np.sum(new_shares * new_prices)\n",
    "\n",
    "    # Prepare output\n",
    "    results = {\n",
    "        \"Original Shares\": dict(zip(product_names, original_shares)),\n",
    "        \"New Shares\": dict(zip(product_names, new_shares)),\n",
    "        \"Original Revenue\": original_revenue,\n",
    "        \"New Revenue\": new_revenue\n",
    "    }\n",
    "\n",
    "    # Print Output (optional)\n",
    "    print(\"Simulation Results:\")\n",
    "    print(\"\\nChoice Shares (Original Prices):\")\n",
    "    for product, share in zip(product_names, original_shares):\n",
    "        print(f\"{product}: {share * 100:.0f}%\")\n",
    "    print(\"\\nChoice Shares (New Prices):\")\n",
    "    for product, share in zip(product_names, new_shares):\n",
    "        print(f\"{product}: {share * 100:.0f}%\")\n",
    "    print(f\"\\nOriginal Revenue: ${original_revenue:,.0f}\")\n",
    "    print(f\"New Revenue: ${new_revenue:,.0f}\")\n",
    "\n",
    "    return results, original_utilities_df, original_choice_probs_df, new_utilities_df, new_choice_probs_df\n",
    "\n",
    "# Example usage\n",
    "product_names = ['Starter', 'Team', 'Business', 'Enterprise', 'Other']\n",
    "intercepts = [2.9618956, -4.9144808, 0, 1.5379867, 2.5918716]\n",
    "original_prices = [17, 43, 75, 226, 0]  # Added a price for 'Other'\n",
    "new_prices = [17, 43, 75, 226, 0]       # Added a price for 'Other'\n",
    "beta_mean = -2.7352404\n",
    "beta_std = 1.6406472\n",
    "N = 17000\n",
    "\n",
    "results, original_utilities_df, original_choice_probs_df, new_utilities_df, new_choice_probs_df = simulate(intercepts, original_prices, new_prices, beta_mean, beta_std, N, product_names, scaler_mu, scaler_sigma)\n"
   ]
  }
 ],
 "metadata": {
  "kernelspec": {
   "display_name": "Python (EconML)",
   "language": "python",
   "name": "econml"
  },
  "language_info": {
   "codemirror_mode": {
    "name": "ipython",
    "version": 3
   },
   "file_extension": ".py",
   "mimetype": "text/x-python",
   "name": "python",
   "nbconvert_exporter": "python",
   "pygments_lexer": "ipython3",
   "version": "3.11.5"
  }
 },
 "nbformat": 4,
 "nbformat_minor": 5
}
