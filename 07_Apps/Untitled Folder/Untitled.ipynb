{
 "cells": [
  {
   "cell_type": "code",
   "execution_count": 8,
   "id": "beff1b6a-5ee6-45c2-a6f7-4dea889c605d",
   "metadata": {},
   "outputs": [
    {
     "name": "stdout",
     "output_type": "stream",
     "text": [
      "Collecting pystan\n",
      "  Using cached pystan-3.8.0-py3-none-any.whl.metadata (3.8 kB)\n",
      "Requirement already satisfied: aiohttp<4.0,>=3.6 in /Users/patricksweeney/anaconda3/lib/python3.11/site-packages (from pystan) (3.8.5)\n",
      "Collecting clikit<0.7,>=0.6 (from pystan)\n",
      "  Using cached clikit-0.6.2-py2.py3-none-any.whl (91 kB)\n",
      "INFO: pip is looking at multiple versions of pystan to determine which version is compatible with other requirements. This could take a while.\n",
      "Collecting pystan\n",
      "  Using cached pystan-3.7.0-py3-none-any.whl (13 kB)\n",
      "  Using cached pystan-3.6.0-py3-none-any.whl (13 kB)\n",
      "  Using cached pystan-3.5.0-py3-none-any.whl (13 kB)\n",
      "  Using cached pystan-3.4.0-py3-none-any.whl (13 kB)\n",
      "  Using cached pystan-3.3.0-py3-none-any.whl (13 kB)\n",
      "  Using cached pystan-3.2.0-py3-none-any.whl (13 kB)\n",
      "  Using cached pystan-3.1.1-py3-none-any.whl (13 kB)\n",
      "INFO: pip is still looking at multiple versions of pystan to determine which version is compatible with other requirements. This could take a while.\n",
      "  Using cached pystan-3.1.0-py3-none-any.whl (13 kB)\n",
      "  Using cached pystan-3.0.2-py3-none-any.whl (13 kB)\n",
      "  Using cached pystan-3.0.1-py3-none-any.whl (12 kB)\n",
      "  Using cached pystan-3.0.0-py3-none-any.whl (12 kB)\n",
      "  Using cached pystan-2.19.1.1-cp311-cp311-macosx_13_0_arm64.whl\n",
      "Requirement already satisfied: Cython!=0.25.1,>=0.22 in /Users/patricksweeney/anaconda3/lib/python3.11/site-packages (from pystan) (0.29.36)\n",
      "Requirement already satisfied: numpy>=1.7 in /Users/patricksweeney/anaconda3/lib/python3.11/site-packages (from pystan) (1.26.1)\n",
      "Installing collected packages: pystan\n",
      "Successfully installed pystan-2.19.1.1\n",
      "\n",
      "\u001b[1m[\u001b[0m\u001b[34;49mnotice\u001b[0m\u001b[1;39;49m]\u001b[0m\u001b[39;49m A new release of pip is available: \u001b[0m\u001b[31;49m23.3.1\u001b[0m\u001b[39;49m -> \u001b[0m\u001b[32;49m23.3.2\u001b[0m\n",
      "\u001b[1m[\u001b[0m\u001b[34;49mnotice\u001b[0m\u001b[1;39;49m]\u001b[0m\u001b[39;49m To update, run: \u001b[0m\u001b[32;49mpip install --upgrade pip\u001b[0m\n"
     ]
    }
   ],
   "source": [
    "!pip install pystan"
   ]
  },
  {
   "cell_type": "code",
   "execution_count": 10,
   "id": "db6cdadc-65b5-4bcc-928d-c989bf0944a7",
   "metadata": {
    "scrolled": true
   },
   "outputs": [
    {
     "ename": "ModuleNotFoundError",
     "evalue": "No module named 'stan'",
     "output_type": "error",
     "traceback": [
      "\u001b[0;31m---------------------------------------------------------------------------\u001b[0m",
      "\u001b[0;31mModuleNotFoundError\u001b[0m                       Traceback (most recent call last)",
      "Cell \u001b[0;32mIn[10], line 10\u001b[0m\n\u001b[1;32m      3\u001b[0m \u001b[38;5;124;03m\"\"\"\u001b[39;00m\n\u001b[1;32m      4\u001b[0m \u001b[38;5;124;03mCreated on Sun Dec 31 17:09:26 2023\u001b[39;00m\n\u001b[1;32m      5\u001b[0m \n\u001b[1;32m      6\u001b[0m \u001b[38;5;124;03m@author: patricksweeney\u001b[39;00m\n\u001b[1;32m      7\u001b[0m \u001b[38;5;124;03m\"\"\"\u001b[39;00m\n\u001b[1;32m      9\u001b[0m \u001b[38;5;28;01mimport\u001b[39;00m \u001b[38;5;21;01mpystan\u001b[39;00m\n\u001b[0;32m---> 10\u001b[0m \u001b[38;5;28;01mimport\u001b[39;00m \u001b[38;5;21;01mstan\u001b[39;00m\n\u001b[1;32m     12\u001b[0m schools_code \u001b[38;5;241m=\u001b[39m \u001b[38;5;124m\"\"\"\u001b[39m\n\u001b[1;32m     13\u001b[0m \u001b[38;5;124mdata \u001b[39m\u001b[38;5;124m{\u001b[39m\n\u001b[1;32m     14\u001b[0m \u001b[38;5;124m  int<lower=0> J;         // number of schools\u001b[39m\n\u001b[0;32m   (...)\u001b[0m\n\u001b[1;32m     29\u001b[0m \u001b[38;5;124m}\u001b[39m\n\u001b[1;32m     30\u001b[0m \u001b[38;5;124m\"\"\"\u001b[39m\n\u001b[1;32m     32\u001b[0m schools_data \u001b[38;5;241m=\u001b[39m {\u001b[38;5;124m\"\u001b[39m\u001b[38;5;124mJ\u001b[39m\u001b[38;5;124m\"\u001b[39m: \u001b[38;5;241m8\u001b[39m,\n\u001b[1;32m     33\u001b[0m                 \u001b[38;5;124m\"\u001b[39m\u001b[38;5;124my\u001b[39m\u001b[38;5;124m\"\u001b[39m: [\u001b[38;5;241m28\u001b[39m,  \u001b[38;5;241m8\u001b[39m, \u001b[38;5;241m-\u001b[39m\u001b[38;5;241m3\u001b[39m,  \u001b[38;5;241m7\u001b[39m, \u001b[38;5;241m-\u001b[39m\u001b[38;5;241m1\u001b[39m,  \u001b[38;5;241m1\u001b[39m, \u001b[38;5;241m18\u001b[39m, \u001b[38;5;241m12\u001b[39m],\n\u001b[1;32m     34\u001b[0m                 \u001b[38;5;124m\"\u001b[39m\u001b[38;5;124msigma\u001b[39m\u001b[38;5;124m\"\u001b[39m: [\u001b[38;5;241m15\u001b[39m, \u001b[38;5;241m10\u001b[39m, \u001b[38;5;241m16\u001b[39m, \u001b[38;5;241m11\u001b[39m,  \u001b[38;5;241m9\u001b[39m, \u001b[38;5;241m11\u001b[39m, \u001b[38;5;241m10\u001b[39m, \u001b[38;5;241m18\u001b[39m]}\n",
      "\u001b[0;31mModuleNotFoundError\u001b[0m: No module named 'stan'"
     ]
    }
   ],
   "source": [
    "#!/usr/bin/env python3\n",
    "# -*- coding: utf-8 -*-\n",
    "\"\"\"\n",
    "Created on Sun Dec 31 17:09:26 2023\n",
    "\n",
    "@author: patricksweeney\n",
    "\"\"\"\n",
    "\n",
    "import pystan\n",
    "import stan\n",
    "\n",
    "schools_code = \"\"\"\n",
    "data {\n",
    "  int<lower=0> J;         // number of schools\n",
    "  array[J] real y;              // estimated treatment effects\n",
    "  array[J] real<lower=0> sigma; // standard error of effect estimates\n",
    "}\n",
    "parameters {\n",
    "  real mu;                // population treatment effect\n",
    "  real<lower=0> tau;      // standard deviation in treatment effects\n",
    "  vector[J] eta;          // unscaled deviation from mu by school\n",
    "}\n",
    "transformed parameters {\n",
    "  vector[J] theta = mu + tau * eta;        // school treatment effects\n",
    "}\n",
    "model {\n",
    "  target += normal_lpdf(eta | 0, 1);       // prior log-density\n",
    "  target += normal_lpdf(y | theta, sigma); // log-likelihood\n",
    "}\n",
    "\"\"\"\n",
    "\n",
    "schools_data = {\"J\": 8,\n",
    "                \"y\": [28,  8, -3,  7, -1,  1, 18, 12],\n",
    "                \"sigma\": [15, 10, 16, 11,  9, 11, 10, 18]}\n",
    "\n",
    "posterior = stan.build(schools_code, data=schools_data)\n",
    "fit = posterior.sample(num_chains=4, num_samples=1000)\n",
    "eta = fit[\"eta\"]  # array with shape (8, 4000)\n",
    "df = fit.to_frame()  # pandas `DataFrame, requires pandas"
   ]
  },
  {
   "cell_type": "code",
   "execution_count": null,
   "id": "2ed1b465-810c-485b-b3b6-9a582451b917",
   "metadata": {},
   "outputs": [],
   "source": []
  }
 ],
 "metadata": {
  "kernelspec": {
   "display_name": "Stan",
   "language": "python",
   "name": "stan"
  },
  "language_info": {
   "codemirror_mode": {
    "name": "ipython",
    "version": 3
   },
   "file_extension": ".py",
   "mimetype": "text/x-python",
   "name": "python",
   "nbconvert_exporter": "python",
   "pygments_lexer": "ipython3",
   "version": "3.9.18"
  }
 },
 "nbformat": 4,
 "nbformat_minor": 5
}
