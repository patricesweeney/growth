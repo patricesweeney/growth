{
 "cells": [
  {
   "cell_type": "markdown",
   "id": "a79e3f34",
   "metadata": {},
   "source": [
    "# Pricing app"
   ]
  },
  {
   "cell_type": "markdown",
   "id": "ca2e28ca",
   "metadata": {},
   "source": [
    "# Setup"
   ]
  },
  {
   "cell_type": "markdown",
   "id": "211d59ea",
   "metadata": {},
   "source": [
    "### Import data"
   ]
  },
  {
   "cell_type": "code",
   "execution_count": null,
   "id": "3ec5b758",
   "metadata": {
    "jupyter": {
     "source_hidden": true
    }
   },
   "outputs": [],
   "source": []
  },
  {
   "cell_type": "markdown",
   "id": "62171f7e",
   "metadata": {},
   "source": [
    "### Check the data"
   ]
  },
  {
   "cell_type": "code",
   "execution_count": null,
   "id": "a71c3409",
   "metadata": {
    "jupyter": {
     "source_hidden": true
    }
   },
   "outputs": [],
   "source": []
  },
  {
   "cell_type": "markdown",
   "id": "e30f3ce7",
   "metadata": {},
   "source": [
    "### Declare variables and data preprocessing"
   ]
  },
  {
   "cell_type": "code",
   "execution_count": null,
   "id": "681b0dcc",
   "metadata": {
    "jupyter": {
     "source_hidden": true
    }
   },
   "outputs": [],
   "source": []
  },
  {
   "cell_type": "markdown",
   "id": "2799d8a9",
   "metadata": {},
   "source": [
    "# Summary statistics"
   ]
  },
  {
   "cell_type": "markdown",
   "id": "84e93d30",
   "metadata": {},
   "source": [
    "**Total Revenue**  \n",
    "\n",
    "**Total Customers**  \n",
    "**ARPA**  \n",
    "\n",
    "**Total Seats**  \n",
    "**ARPU**  \n",
    "\n",
    "\n",
    "\n",
    "**Revenue mix**  \n",
    "**Customer mix**  \n",
    "**Seat mix**  \n",
    "\n",
    "**Package ARPA**  \n",
    "**Package ARPU**  \n"
   ]
  },
  {
   "cell_type": "markdown",
   "id": "f9a706f9-4ebd-4f0a-93ed-9f7ede2d531d",
   "metadata": {},
   "source": [
    "# Revenue maximisation"
   ]
  },
  {
   "cell_type": "markdown",
   "id": "c3217987-32ac-4ec9-a048-3efa0e07a4f5",
   "metadata": {},
   "source": [
    "In the interdependent case, a given product's demand $D_i$ is a function of all other product's prices.\n"
   ]
  },
  {
   "cell_type": "markdown",
   "id": "5db4048e-a7ed-4ae2-a08e-f20538f131fd",
   "metadata": {},
   "source": [
    "$$\\begin{equation}\n",
    "   \\max R = \\sum_{i=1}^N p_i \\cdot D_i(p_1, p_2, \\ldots, p_N)\n",
    "\\end{equation}$$\n",
    "\n",
    "Optimal prices are when all elements of the revenue Jacobian with respect to each price equal zero.\n",
    "\n",
    "$$\\begin{equation}\n",
    "    \\frac{\\partial R}{\\partial p_i} = 0 \\quad \\text{for each} \\quad i = 1, 2, \\ldots, N\n",
    "\\end{equation}$$\n",
    "\n",
    "This can be divided into an own-price and a self-price term\n",
    "\n",
    "\\begin{equation}\n",
    "    \\frac{\\partial R}{\\partial p_i} = D_i(p_1, \\ldots, p_N) + p_i \\cdot \\frac{\\partial D_i(p_1, \\ldots, p_N)}{\\partial p_i} + \\sum_{\\substack{j=1 \\\\ j \\neq i}}^N \\left( p_j \\cdot \\frac{\\partial D_j(p_1, \\ldots, p_N)}{\\partial p_i} \\right)\n",
    "\\end{equation}\n",
    "\n",
    "\n"
   ]
  },
  {
   "cell_type": "markdown",
   "id": "c7668057-fea9-4c02-ba67-af3d888b7b7a",
   "metadata": {},
   "source": [
    "**Vector calculus version**\n",
    "\n",
    "We start with the price vector\n",
    "$$ \\mathbf{p} = \\begin{bmatrix} p_1 \\\\ p_2 \\\\ \\vdots \\\\ p_N \\end{bmatrix} $$\n",
    "\n",
    "Add in the demand vector (which contains $N$ scalar fields—one for each product)\n",
    "$$ \\mathbf{D}(\\mathbf{p}) = \\begin{bmatrix} D_1(\\mathbf{p}) \\\\ D_2(\\mathbf{p}) \\\\ \\vdots \\\\ D_N(\\mathbf{p}) \\end{bmatrix} $$\n",
    "\n",
    "The Jacobian matrix of demand is\n",
    "$$\n",
    "\\mathbf{J}(\\mathbf{p}) = \\begin{bmatrix}\n",
    "\\frac{\\partial D_1}{\\partial p_1} & \\cdots & \\frac{\\partial D_1}{\\partial p_N} \\\\\n",
    "\\vdots & \\ddots & \\vdots \\\\\n",
    "\\frac{\\partial D_N}{\\partial p_1} & \\cdots & \\frac{\\partial D_N}{\\partial p_N}\n",
    "\\end{bmatrix} $$\n",
    "\n",
    "The revenue gradient becomes\n",
    "$$ \\nabla R(\\mathbf{p}) = \\mathbf{D}(\\mathbf{p}) + \\mathbf{J}(\\mathbf{p}) \\mathbf{p} $$\n",
    "\n",
    "With optimization condition\n",
    "$$ \\nabla R(\\mathbf{p}) = \\mathbf{0} $$\n",
    "\n",
    "\n"
   ]
  },
  {
   "cell_type": "markdown",
   "id": "246c72a6",
   "metadata": {},
   "source": [
    "# Generic demand system with interaction"
   ]
  },
  {
   "cell_type": "markdown",
   "id": "7678f9c4",
   "metadata": {},
   "source": [
    "New volume is existing volume plus change in volume."
   ]
  },
  {
   "cell_type": "markdown",
   "id": "8d13669a",
   "metadata": {},
   "source": [
    "$$\\vec{Q}_{\\text{new}} = \\begin{bmatrix}\n",
    "Q_i \\\\\n",
    "Q_j \\\\\n",
    "Q_k\n",
    "\\end{bmatrix} + \\begin{bmatrix}\n",
    "\\Delta Q_i \\\\\n",
    "\\Delta Q_j \\\\\n",
    "\\Delta Q_k\n",
    "\\end{bmatrix}\n",
    "$$"
   ]
  },
  {
   "cell_type": "markdown",
   "id": "b11ac281",
   "metadata": {},
   "source": [
    "Change in volume is elasticity matrix multiplied by price change multiplied by original volume."
   ]
  },
  {
   "cell_type": "markdown",
   "id": "18d6becc",
   "metadata": {},
   "source": [
    "$$\\begin{bmatrix}\n",
    "\\Delta Q_i \\\\\n",
    "\\Delta Q_j \\\\\n",
    "\\Delta Q_k\n",
    "\\end{bmatrix} = \\begin{pmatrix}\n",
    "\\varepsilon_{ii} & \\varepsilon_{ij} & \\varepsilon_{ik} \\\\\n",
    "\\varepsilon_{ji} & \\varepsilon_{jj} & \\varepsilon_{jk} \\\\\n",
    "\\varepsilon_{ki} & \\varepsilon_{kj} & \\varepsilon_{kk} \n",
    "\\end{pmatrix} \\times \\begin{pmatrix}\n",
    "\\frac{\\Delta P_i}{P_i} \\times Q_i \\\\\n",
    "\\frac{\\Delta P_j}{P_j} \\times Q_j \\\\\n",
    "\\frac{\\Delta P_k}{P_k} \\times Q_k\n",
    "\\end{pmatrix}\n",
    "$$"
   ]
  },
  {
   "cell_type": "markdown",
   "id": "e6978532",
   "metadata": {},
   "source": [
    "Elasticity is change in volume over change in price."
   ]
  },
  {
   "cell_type": "markdown",
   "id": "71c98e75",
   "metadata": {},
   "source": [
    "$$\\varepsilon_{ii} = \\frac{dD_i}{dP_i} \\times \\frac{P_i}{D_i}$$\n",
    "\n",
    "$$\\varepsilon_{ij} = \\frac{dD_i}{dP_j} \\times \\frac{P_j}{D_i}$$\n"
   ]
  },
  {
   "cell_type": "markdown",
   "id": "fad07e5f",
   "metadata": {},
   "source": [
    "Diversion ratio is proportion of lost demand from $j$ substituted into $i$."
   ]
  },
  {
   "cell_type": "markdown",
   "id": "bcfedfae",
   "metadata": {},
   "source": [
    "$$\\Delta_{i,j} = - \\frac{\\varepsilon_{ij} \\times D_i}{\\varepsilon_{ii} \\times D_j}$$"
   ]
  },
  {
   "cell_type": "markdown",
   "id": "2815543e-2772-47b4-84ab-9aef0656edb0",
   "metadata": {},
   "source": [
    "# Aggregated models"
   ]
  },
  {
   "cell_type": "markdown",
   "id": "f2ddc545",
   "metadata": {},
   "source": [
    "### Linear PRF"
   ]
  },
  {
   "cell_type": "markdown",
   "id": "4bf1d4eb",
   "metadata": {},
   "source": [
    "**Distribution of WTP**  \n",
    "We start by generating a uniform PDF of willingness to pay $p$\n",
    "\n",
    "$$f(p) =\n",
    "\\begin{cases} \n",
    "\\frac{1}{b - a} & \\text{for } a \\leq p \\leq b, \\\\\n",
    "0 & \\text{otherwise.}\n",
    "\\end{cases}$$\n"
   ]
  },
  {
   "cell_type": "markdown",
   "id": "b91f5376",
   "metadata": {},
   "source": [
    "**Demand function**  \n",
    "This leads to a demand (survival) function which is the complement of the CDF.\n",
    "\n",
    "$$D(p) =\n",
    "\\begin{cases} \n",
    "1 & \\text{for } p < a, \\\\\n",
    "\\frac{b - p}{b - a} & \\text{for } a \\leq p < b, \\\\\n",
    "0 & \\text{for } p \\geq b.\n",
    "\\end{cases}$$\n"
   ]
  },
  {
   "cell_type": "markdown",
   "id": "c0a55398-0dcf-458a-8b21-0a78ac09ecfb",
   "metadata": {},
   "source": [
    "**Price sensitivity**\n",
    "\n",
    "The (instantaneous) hazard rate is the rate of change of the probability of demand at that price, given that the price has reached that point without losing the sale.\n",
    "$$h(p) = -\\frac{d}{dp} \\ln(D(p))$$\n",
    "$$h(p) =\n",
    "\\begin{cases} \n",
    "\\frac{1}{b - p} & \\text{for } a \\leq p < b, \\\\\n",
    "\\text{undefined} & \\text{otherwise.}\n",
    "\\end{cases}$$\n",
    "\n",
    "The cumulative hazard is the is the accumulated hazard (or accumulated rate of change in the probability of demand) from the starting price to price $p$.\n",
    "$$H(p) = \\int_{a}^{p} h(u) \\, du$$\n",
    "$$H(p) =\n",
    "\\begin{cases} \n",
    "0 & \\text{for } p < a, \\\\\n",
    "\\ln\\left(\\frac{b - a}{b - p}\\right) & \\text{for } a \\leq p < b, \\\\\n",
    "\\text{undefined} & \\text{for } p \\geq b.\n",
    "\\end{cases}$$\n",
    "\n",
    "  \n",
    "The own price elasticity is equal to the hazard rate times the price\n",
    "\n",
    "$$\\epsilon(p) = \\frac{dD(p)}{dp} \\cdot \\frac{p}{D(p)}$$\n",
    "\n",
    "$$\\epsilon(p) = -\\frac{p}{b - p}\n",
    "$$"
   ]
  },
  {
   "cell_type": "markdown",
   "id": "da481760",
   "metadata": {},
   "source": [
    "**Revenue functions**  \n",
    "The revenue function is the dot product of the price and the demand function.\n",
    "\n",
    "$$R(p) = p \\cdot \\frac{b - p}{b - a}$$\n",
    "\n",
    "The marginal revenue function takes the first derivative of the revenue function w.r.t. price.\n",
    "$$MR(p) = \\frac{d}{dp} \\left( p \\cdot \\frac{b - p}{b - a} \\right)$$"
   ]
  },
  {
   "cell_type": "markdown",
   "id": "545f790e",
   "metadata": {},
   "source": [
    "**Revenue optimal price**   \n",
    "By the FOC and SOC, revenue is maximised where the marginal revenue equals zero and the first derivative of marginal revenue is negative at that point.\n",
    "\n",
    "$$MR(p) = 0 \\text{ and } \\frac{dMR(p)}{dp} < 0 \\text{ at that point.}$$\n",
    "\n"
   ]
  },
  {
   "cell_type": "code",
   "execution_count": null,
   "id": "409144be",
   "metadata": {},
   "outputs": [],
   "source": [
    "import numpy as np\n",
    "import matplotlib.pyplot as plt\n",
    "from scipy.optimize import fsolve\n",
    "\n",
    "def linear_prf(a, b):\n",
    "    def pdf(p):\n",
    "        return 1 / (b - a) if a <= p <= b else 0\n",
    "\n",
    "    def demand(p):\n",
    "        if p < a:\n",
    "            return 1\n",
    "        elif a <= p < b:\n",
    "            return (b - p) / (b - a)\n",
    "        else:\n",
    "            return 0\n",
    "\n",
    "    def elasticity(p):\n",
    "        if a <= p < b:\n",
    "            return -p / (b - p)\n",
    "        else:\n",
    "            return 0  # Modified to return 0 instead of None\n",
    "\n",
    "    def hazard_rate(p):\n",
    "        if a <= p < b:\n",
    "            return 1 / (b - p)\n",
    "        else:\n",
    "            return None\n",
    "\n",
    "    def revenue(p):\n",
    "        return p * (b - p) / (b - a) if a <= p < b else 0\n",
    "\n",
    "    def marginal_revenue(p):\n",
    "        return (b - 2 * p) / (b - a) if a <= p < b else 0\n",
    "\n",
    "    def derivative_mr(p):\n",
    "        return -2 / (b - a)\n",
    "\n",
    "    optimal_p = fsolve(marginal_revenue, (a + b) / 2)[0]\n",
    "    optimal_revenue = revenue(optimal_p)\n",
    "    optimal_hazard_rate = hazard_rate(optimal_p)\n",
    "    optimal_absolute_elasticity = abs(elasticity(optimal_p))\n",
    "\n",
    "    prices = np.linspace(a - 1, b + 1, 400)\n",
    "\n",
    "    plt.figure(figsize=(12, 12))\n",
    "\n",
    "    plt.subplot(3, 2, 1)\n",
    "    plt.plot(prices, [pdf(p) for p in prices], label=\"PDF\")\n",
    "    plt.title(\"PDF of Willingness to Pay\")\n",
    "    plt.xlabel(\"Price ($p$)\")\n",
    "    plt.ylabel(\"Density\")\n",
    "    plt.legend()\n",
    "\n",
    "    plt.subplot(3, 2, 2)\n",
    "    plt.plot(prices, [demand(p) for p in prices], label=\"Demand\")\n",
    "    plt.title(\"Demand Function\")\n",
    "    plt.xlabel(\"Price ($p$)\")\n",
    "    plt.ylabel(\"Quantity\")\n",
    "    plt.legend()\n",
    "\n",
    "    plt.subplot(3, 2, 3)\n",
    "    plt.plot(prices, [hazard_rate(p) for p in prices], label=\"Hazard Rate\")\n",
    "    plt.title(\"Hazard Rate Function\")\n",
    "    plt.xlabel(\"Price ($p$)\")\n",
    "    plt.ylabel(\"Hazard Rate\")\n",
    "    plt.legend()\n",
    "\n",
    "    plt.subplot(3, 2, 4)\n",
    "    plt.plot(prices, [abs(elasticity(p)) for p in prices], label=\"Absolute Elasticity\")\n",
    "    plt.title(\"Absolute Elasticity Function\")\n",
    "    plt.xlabel(\"Price ($p$)\")\n",
    "    plt.ylabel(\"Absolute Elasticity\")\n",
    "    plt.legend()\n",
    "\n",
    "    plt.subplot(3, 2, 5)\n",
    "    plt.plot(prices, [revenue(p) for p in prices], label=\"Revenue\")\n",
    "    plt.axvline(optimal_p, color='red', linestyle='--', label=f'Optimal Price: {optimal_p:.2f}')\n",
    "    plt.title(\"Revenue Function\")\n",
    "    plt.xlabel(\"Price ($p$)\")\n",
    "    plt.ylabel(\"Revenue\")\n",
    "    plt.legend()\n",
    "\n",
    "    plt.subplot(3, 2, 6)\n",
    "    plt.plot(prices, [marginal_revenue(p) for p in prices], label=\"Marginal Revenue\")\n",
    "    plt.axvline(optimal_p, color='red', linestyle='--', label=f'Optimal Price: {optimal_p:.2f}')\n",
    "    plt.title(\"Marginal Revenue Function\")\n",
    "    plt.xlabel(\"Price ($p$)\")\n",
    "    plt.ylabel(\"Marginal Revenue\")\n",
    "    plt.legend()\n",
    "\n",
    "    plt.tight_layout()\n",
    "    plt.show()\n",
    "\n",
    "    print(f\"Optimal Price for Revenue Maximization: ${optimal_p:.2f}\")\n",
    "    print(f\"Optimal Revenue: ${optimal_revenue:.2f}\")\n",
    "    print(f\"Optimal Hazard Rate at Optimal Price: {optimal_hazard_rate:.2f}\")\n",
    "    print(f\"Optimal Absolute Elasticity at Optimal Price: {optimal_absolute_elasticity:.2f}\")\n",
    "    print(f\"Derivative of Marginal Revenue at Optimal Price: {derivative_mr(optimal_p):.2f}\")\n",
    "\n",
    "    return optimal_p, optimal_revenue\n",
    "\n",
    "# Example usage\n",
    "optimal_price, optimal_revenue = linear_prf(0, 1000)\n"
   ]
  },
  {
   "cell_type": "markdown",
   "id": "13dff9f9",
   "metadata": {},
   "source": [
    "### Multidimensional Linear PRF"
   ]
  },
  {
   "cell_type": "markdown",
   "id": "48ef6f62-147d-4d6d-ad89-ff285b312472",
   "metadata": {},
   "source": [
    "**Distribution of WTP**  \n",
    "For a 2D demand system, we start again with the marginal uniform distributions of WTP."
   ]
  },
  {
   "cell_type": "markdown",
   "id": "0d98afe2-e27b-4d16-a6e4-78b597a3ee46",
   "metadata": {},
   "source": [
    "$$f_i(p_i) =\n",
    "\\begin{cases} \n",
    "\\frac{1}{b_i - a_i} & \\text{for } a_i \\leq p_i \\leq b_i, \\\\\n",
    "0 & \\text{otherwise.}\n",
    "\\end{cases}$$\n",
    "\n",
    "$$f_j(p_j) =\n",
    "\\begin{cases} \n",
    "\\frac{1}{b_j - a_j} & \\text{for } a_j \\leq p_j \\leq b_j, \\\\\n",
    "0 & \\text{otherwise.}\n",
    "\\end{cases}$$\n"
   ]
  },
  {
   "cell_type": "markdown",
   "id": "af977c17-f752-432b-8500-6ce5d6469752",
   "metadata": {},
   "source": [
    "Assuming independence, we can express the joint PDF of willingness to pay:\n",
    "$$f(p_i, p_j) = f_i(p_i) \\times f_j(p_j) =\n",
    "\\begin{cases} \n",
    "\\frac{1}{(b_i - a_i)(b_j - a_j)} & \\text{for } a_i \\leq p_i \\leq b_i \\text{ and } a_j \\leq p_j \\leq b_j, \\\\\n",
    "0 & \\text{otherwise.}\n",
    "\\end{cases}$$"
   ]
  },
  {
   "cell_type": "markdown",
   "id": "61b9ab39-223e-4a52-aaa2-2e498f8c067f",
   "metadata": {},
   "source": [
    "Assuming dependence (substitutes or complements), we can link the two with a Gaussian copula:\n",
    "\n",
    "\n",
    "$$\n",
    "f(p_i, p_j) = f_i(p_i) \\cdot f_j(p_j) \\cdot c_\\Phi(\\Phi^{-1}(F_i(p_i)), \\Phi^{-1}(F_j(p_j)); \\rho)\n",
    "$$\n",
    "\n",
    "\n",
    "\n",
    "where \n",
    "$ u_i = \\Phi^{-1}(F_i(p_i))$ and $ u_j = \\Phi^{-1}(F_j(p_j))$ are the transformed uniform marginals using the standard normal CDF $ \\Phi $ and the individual CDFs $ F_i$ and $F_j$ of the uniform distributions.\n"
   ]
  },
  {
   "cell_type": "markdown",
   "id": "40a909ef-6894-40fe-a773-aa1c3009c02b",
   "metadata": {},
   "source": [
    "**Demand functions**    \n",
    "The demand (survival) functions follow\n",
    "\n",
    "$$D_i(p_i) = \n",
    "\\begin{cases} \n",
    "1 & \\text{for } p_i < a_i, \\\\\n",
    "\\frac{b_i - p_i}{b_i - a_i} & \\text{for } a_i \\leq p_i < b_i, \\\\\n",
    "0 & \\text{for } p_i \\geq b_i.\n",
    "\\end{cases}$$\n",
    "\n",
    "$$D_j(p_j) =\n",
    "\\begin{cases} \n",
    "1 & \\text{for } p_j < a_j, \\\\\n",
    "\\frac{b_j - p_j}{b_j - a_j} & \\text{for } a_j \\leq p_j < b_j, \\\\\n",
    "0 & \\text{for } p_j \\geq b_j.\n",
    "\\end{cases}$$\n"
   ]
  },
  {
   "cell_type": "markdown",
   "id": "a9e00f50-579b-41af-9a5d-dcf068988775",
   "metadata": {},
   "source": [
    "Assuming independence, the joint 2D joint demand function is:\n",
    "\n",
    "$$D(p_i, p_j) = D_i(p_i) \\times D_j(p_j) =\n",
    "\\begin{cases} \n",
    "1 & \\text{for } p_i < a_i \\text{ and } p_j < a_j, \\\\\n",
    "\\frac{b_i - p_i}{b_i - a_i} & \\text{for } a_i \\leq p_i < b_i \\text{ and } p_j < a_j, \\\\\n",
    "\\frac{b_j - p_j}{b_j - a_j} & \\text{for } p_i < a_i \\text{ and } a_j \\leq p_j < b_j, \\\\\n",
    "\\frac{b_i - p_i}{b_i - a_i} \\times \\frac{b_j - p_j}{b_j - a_j} & \\text{for } a_i \\leq p_i < b_i \\text{ and } a_j \\leq p_j < b_j, \\\\\n",
    "0 & \\text{otherwise.}\n",
    "\\end{cases}\n",
    "$$"
   ]
  },
  {
   "cell_type": "markdown",
   "id": "0d849828-51a5-425b-b4eb-17a91d726451",
   "metadata": {},
   "source": [
    "\n",
    "The joint demand function using a Gaussian copula is expressed as:\n",
    "\n",
    "$$\n",
    "D(p_i, p_j) = C_\\Phi(D_i(p_i), D_j(p_j); \\rho)\n",
    "$$\n",
    "\n",
    "This formula combines the individual survival functions $D_i(p_i)$ and $D_j(p_j)$ with the Gaussian copula $C_\\Phi$, introducing a dependence structure between $p_i$ and $p_j$ characterized by the correlation coefficient $\\rho$.\n",
    "\n",
    "\n",
    "The Gaussian copula function is defined as:\n",
    "\n",
    "$$\n",
    "C_\\Phi(u, v; \\rho) = \\Phi_\\rho(\\Phi^{-1}(u), \\Phi^{-1}(v))\n",
    "$$\n",
    "\n",
    "where $ \\Phi_\\rho$ is the cumulative distribution function (CDF) of a bivariate normal distribution with correlation coefficient $\\rho$, and $\\Phi^{-1}$ is the quantile function (inverse CDF) of a standard normal distribution.\n",
    "\n",
    "\n"
   ]
  },
  {
   "cell_type": "code",
   "execution_count": null,
   "id": "e5a43276-34c1-4e42-84ec-66f8e4bd3a6d",
   "metadata": {
    "jupyter": {
     "source_hidden": true
    }
   },
   "outputs": [],
   "source": []
  },
  {
   "cell_type": "markdown",
   "id": "c9428c31-1935-4c59-85d5-e7c9cf068bdb",
   "metadata": {},
   "source": [
    "**Price sensitivity**\n",
    "\n"
   ]
  },
  {
   "cell_type": "markdown",
   "id": "201f1c7a",
   "metadata": {},
   "source": [
    "**Substitutes**  \n",
    "$\\rho(q_i, p_i) = $ Negative (Marginal)  \n",
    "$\\rho(q_j, p_i) = $ Positive  (Marginal)  \n",
    "$\\rho(q_j, q_i) = $ Negative  (Archimedian Copula)\n"
   ]
  },
  {
   "cell_type": "code",
   "execution_count": null,
   "id": "6427d367",
   "metadata": {
    "jupyter": {
     "source_hidden": true
    }
   },
   "outputs": [],
   "source": []
  },
  {
   "cell_type": "markdown",
   "id": "6a1a6fbf",
   "metadata": {},
   "source": [
    "**Complements**  \n",
    "**Substitutes**  \n",
    "$\\rho(q_i, p_i) = $ Negative (Marginal)  \n",
    "$\\rho(q_j, p_i) = $ Negative (Marginal)  \n",
    "$\\rho(q_j, q_i) = $ Positive (Archimedian Coupla)\n"
   ]
  },
  {
   "cell_type": "code",
   "execution_count": null,
   "id": "ac4bebe0",
   "metadata": {
    "jupyter": {
     "source_hidden": true
    }
   },
   "outputs": [],
   "source": []
  },
  {
   "cell_type": "markdown",
   "id": "79af373a",
   "metadata": {},
   "source": [
    "### Exponential PRF"
   ]
  },
  {
   "cell_type": "markdown",
   "id": "6603f9ae",
   "metadata": {},
   "source": [
    "- Exponential WTP.\n",
    "- Increasing elasticity and hazard rate."
   ]
  },
  {
   "cell_type": "markdown",
   "id": "39b75484",
   "metadata": {},
   "source": [
    "### CES PRF"
   ]
  },
  {
   "cell_type": "markdown",
   "id": "b9750b24",
   "metadata": {},
   "source": [
    "- Unknown (Pareto?) WTP distribution\n",
    "- Constant elasticity, increasing hazard rate."
   ]
  },
  {
   "cell_type": "markdown",
   "id": "bc263ad3",
   "metadata": {},
   "source": [
    "### Fit Logit PRF"
   ]
  },
  {
   "cell_type": "markdown",
   "id": "43c35854",
   "metadata": {},
   "source": [
    "- Logistic WTP.\n",
    "- Increasing elasticity and hazard rate."
   ]
  },
  {
   "cell_type": "code",
   "execution_count": null,
   "id": "7edd656d",
   "metadata": {
    "jupyter": {
     "source_hidden": true
    }
   },
   "outputs": [],
   "source": []
  },
  {
   "cell_type": "markdown",
   "id": "ac1a9499",
   "metadata": {},
   "source": [
    "### Fit Probit PRF"
   ]
  },
  {
   "cell_type": "markdown",
   "id": "84a38c3d",
   "metadata": {},
   "source": [
    "- Gaussian WTP\n",
    "- Increasing elasticity and hazard rate."
   ]
  },
  {
   "cell_type": "markdown",
   "id": "fe37f11c",
   "metadata": {},
   "source": [
    "### Fit Weibull PRF"
   ]
  },
  {
   "cell_type": "code",
   "execution_count": null,
   "id": "7569433a",
   "metadata": {
    "jupyter": {
     "source_hidden": true
    }
   },
   "outputs": [],
   "source": []
  },
  {
   "cell_type": "markdown",
   "id": "e1626103-4213-4e1a-a198-e17c065461e4",
   "metadata": {},
   "source": [
    "# Disaggregated models"
   ]
  },
  {
   "cell_type": "markdown",
   "id": "e896d3a2-13d1-49c0-927f-68c9e0feb6b9",
   "metadata": {},
   "source": [
    "### Binary logit"
   ]
  },
  {
   "cell_type": "markdown",
   "id": "a94e4f68-be1c-43fc-bb39-104a8a5aacea",
   "metadata": {},
   "source": [
    "### Multinomial logit"
   ]
  },
  {
   "cell_type": "code",
   "execution_count": null,
   "id": "38039354-26c2-4f95-a50e-1df6763f3d7a",
   "metadata": {
    "jupyter": {
     "source_hidden": true
    }
   },
   "outputs": [],
   "source": []
  },
  {
   "cell_type": "markdown",
   "id": "6c8aabbd-52a2-4510-817b-fba91a00442c",
   "metadata": {},
   "source": [
    "# Outputs"
   ]
  },
  {
   "cell_type": "markdown",
   "id": "c1ac5b46-23a2-450a-b2ac-713802773cc5",
   "metadata": {},
   "source": [
    "### Pseudo-lift"
   ]
  },
  {
   "cell_type": "markdown",
   "id": "2a9d1005-a48d-44cc-b95a-12d01cbc53c8",
   "metadata": {},
   "source": [
    "**Revenue lift**  \n",
    "**Customer lift (and churn)**  \n",
    "**ARPA lift**"
   ]
  },
  {
   "cell_type": "markdown",
   "id": "4d3f8908-2103-4b7e-87f9-803808b07efc",
   "metadata": {},
   "source": [
    "### PVM"
   ]
  },
  {
   "cell_type": "markdown",
   "id": "dfcfc8cc-cd79-4abb-88d0-73b3a6a0f80e",
   "metadata": {},
   "source": [
    "### Customer-level distributions"
   ]
  },
  {
   "cell_type": "markdown",
   "id": "fd007ab5-392b-4fc2-bc1f-a29498dcc34e",
   "metadata": {},
   "source": [
    "### Product-level distributions"
   ]
  },
  {
   "cell_type": "code",
   "execution_count": null,
   "id": "78d565ff-712d-4408-b2d5-bcb4c88b2cf7",
   "metadata": {
    "jupyter": {
     "source_hidden": true
    }
   },
   "outputs": [],
   "source": []
  }
 ],
 "metadata": {
  "kernelspec": {
   "display_name": "Python 3 (ipykernel)",
   "language": "python",
   "name": "python3"
  },
  "language_info": {
   "codemirror_mode": {
    "name": "ipython",
    "version": 3
   },
   "file_extension": ".py",
   "mimetype": "text/x-python",
   "name": "python",
   "nbconvert_exporter": "python",
   "pygments_lexer": "ipython3",
   "version": "3.11.5"
  }
 },
 "nbformat": 4,
 "nbformat_minor": 5
}
