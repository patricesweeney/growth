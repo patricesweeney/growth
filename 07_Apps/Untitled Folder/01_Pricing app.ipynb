{
 "cells": [
  {
   "cell_type": "markdown",
   "id": "a79e3f34",
   "metadata": {},
   "source": [
    "# Pat's startup"
   ]
  },
  {
   "cell_type": "markdown",
   "id": "2028988c-fe8e-48d0-8792-1699609a0962",
   "metadata": {},
   "source": [
    "# Product and market"
   ]
  },
  {
   "cell_type": "markdown",
   "id": "61498997-21fd-4835-838f-c5920cc1cce8",
   "metadata": {},
   "source": [
    "\n",
    "Our product is a straightforward, AI-driven tool for optimizing pricing in Series A/B SaaS companies. It quickly determines the most profitable prices, addressing key challenges faced by CEOs in this sector.\n",
    "\n",
    "**Core Functionality**\n",
    "Uses AI and econometrics to set optimal prices.\n",
    "Delivers results in minutes, not months.\n",
    "\n",
    "**Problem's Solved:**\n",
    "Tackles the opportunity cost of ineffective pricing.\n",
    "Eliminates the need for expensive consultants.\n",
    "Reduces the risk of revenue loss or growth slowdown due to poor pricing.\n",
    "\n",
    "**User Experience:**\n",
    "Designed for ease of use, making complex pricing strategies accessible.\n",
    "Addresses concerns about data privacy and method trustworthiness.\n",
    "\n",
    "**Risk Management:**\n",
    "Offers a money-back guarantee if it doesn't lead to immediate revenue uplift.\n",
    "Demonstrated effectiveness through case studies from companies X, Y, and Z.\n",
    "\n",
    "This tool empowers CEOs to make informed, data-backed pricing decisions efficiently, ensuring competitiveness in a fast-paced market."
   ]
  },
  {
   "cell_type": "markdown",
   "id": "69482aa1-3978-41ee-a8fe-1a25ba5eede8",
   "metadata": {},
   "source": [
    "# Discrete choice and random utility models\n",
    "\n",
    "Discrete choice models the probability of a consumer choosing $j$ MECE choices as a function of some attribute. A natural attribute is price.\n",
    "In the context product choice, this usually means an $N+1$-dimesional demand system with $N$ inside goods and 1 additional 'Other' or 'No purchase' option.\n",
    "\n",
    "In the eyes of the decision maker, each choice $j$ is associated with a utility $U_j$. The decision maker will choose the alternative with the highest $U$.\n",
    "\n",
    "However, $U$ is not entirely determinstic. Total utility $U$ can be decomposed into a determinsitic component $V_j$ (observable to researcher), and an unobserved random variable $\\epsilon_j$ which is Gumbel distributed.\n",
    "\n"
   ]
  },
  {
   "cell_type": "markdown",
   "id": "bcfd182f-ec7b-41ed-8a7d-1a540411d313",
   "metadata": {},
   "source": [
    "# Import"
   ]
  },
  {
   "cell_type": "markdown",
   "id": "211d59ea",
   "metadata": {},
   "source": [
    "### Import data\n",
    "\n",
    "Firstly, we bring in our data. We require the user to upload transaction data of all their historical paid conversions. In general, more data is better.\n",
    "\n",
    "We need five variables:\n",
    "\n",
    "- An anonymised, unique identifier for the customer\n",
    "- The name of the product that was purchased\n",
    "- The price of the product that was purchased\n",
    "- The number of units of the product purchased\n",
    "- The revenue of the purchase\n",
    "\n",
    "If privacy is an issue, we encourage customers to "
   ]
  },
  {
   "cell_type": "code",
   "execution_count": 3,
   "id": "3ec5b758",
   "metadata": {},
   "outputs": [
    {
     "data": {
      "text/html": [
       "<div>\n",
       "<style scoped>\n",
       "    .dataframe tbody tr th:only-of-type {\n",
       "        vertical-align: middle;\n",
       "    }\n",
       "\n",
       "    .dataframe tbody tr th {\n",
       "        vertical-align: top;\n",
       "    }\n",
       "\n",
       "    .dataframe thead th {\n",
       "        text-align: right;\n",
       "    }\n",
       "</style>\n",
       "<table border=\"1\" class=\"dataframe\">\n",
       "  <thead>\n",
       "    <tr style=\"text-align: right;\">\n",
       "      <th></th>\n",
       "      <th>id</th>\n",
       "      <th>product</th>\n",
       "      <th>revenue</th>\n",
       "      <th>volume</th>\n",
       "      <th>price</th>\n",
       "    </tr>\n",
       "  </thead>\n",
       "  <tbody>\n",
       "    <tr>\n",
       "      <th>0</th>\n",
       "      <td>d4a531d7-c73b-4d28-badf-e38d99d637f9</td>\n",
       "      <td>Starter</td>\n",
       "      <td>18.0</td>\n",
       "      <td>1</td>\n",
       "      <td>18.0</td>\n",
       "    </tr>\n",
       "    <tr>\n",
       "      <th>1</th>\n",
       "      <td>7b1ebf39-f6c6-4b8e-ba80-715b2a346413</td>\n",
       "      <td>Team</td>\n",
       "      <td>90.0</td>\n",
       "      <td>3</td>\n",
       "      <td>30.0</td>\n",
       "    </tr>\n",
       "    <tr>\n",
       "      <th>2</th>\n",
       "      <td>e350df96-c3f4-4768-be1e-86c4fd32f39d</td>\n",
       "      <td>Team</td>\n",
       "      <td>105.0</td>\n",
       "      <td>3</td>\n",
       "      <td>35.0</td>\n",
       "    </tr>\n",
       "    <tr>\n",
       "      <th>3</th>\n",
       "      <td>b4d3bcc4-4045-49b8-9639-d3082fd03cf1</td>\n",
       "      <td>Starter</td>\n",
       "      <td>18.0</td>\n",
       "      <td>2</td>\n",
       "      <td>9.0</td>\n",
       "    </tr>\n",
       "    <tr>\n",
       "      <th>4</th>\n",
       "      <td>1249c200-3688-4c28-8a77-57974d303578</td>\n",
       "      <td>Team</td>\n",
       "      <td>180.0</td>\n",
       "      <td>6</td>\n",
       "      <td>30.0</td>\n",
       "    </tr>\n",
       "  </tbody>\n",
       "</table>\n",
       "</div>"
      ],
      "text/plain": [
       "                                     id  product  revenue  volume  price\n",
       "0  d4a531d7-c73b-4d28-badf-e38d99d637f9  Starter     18.0       1   18.0\n",
       "1  7b1ebf39-f6c6-4b8e-ba80-715b2a346413     Team     90.0       3   30.0\n",
       "2  e350df96-c3f4-4768-be1e-86c4fd32f39d     Team    105.0       3   35.0\n",
       "3  b4d3bcc4-4045-49b8-9639-d3082fd03cf1  Starter     18.0       2    9.0\n",
       "4  1249c200-3688-4c28-8a77-57974d303578     Team    180.0       6   30.0"
      ]
     },
     "execution_count": 3,
     "metadata": {},
     "output_type": "execute_result"
    }
   ],
   "source": [
    "def import_data():\n",
    "    import pandas as pd\n",
    "    file_path = '/Users/patricksweeney/growth/07_Apps/Untitled Folder/Disaggregate models/Choice data 2.xlsx'\n",
    "    data = pd.read_excel(file_path)\n",
    "    return data\n",
    "\n",
    "data = import_data()\n",
    "data.head()"
   ]
  },
  {
   "cell_type": "markdown",
   "id": "8028c883-2fd4-4009-bd60-ccde1186537d",
   "metadata": {},
   "source": [
    "### Other inputs\n",
    "\n",
    "Apart from this data, we need a few additional pieces of info, and it's important we collect it in a user-friendly way:\n",
    "- Total revenue, customers, and users as of today (in case the sample is partial, need it for lift)\n",
    "- 'Order' of packages (i.e. which one is lowest priced, which one is highest price) — actually, probably can figure this out ourself\n",
    "- If they're deleting a package, which one are they deleting.\n",
    "- Which packages are self-serve, which ones are Enterprise."
   ]
  },
  {
   "cell_type": "markdown",
   "id": "62171f7e",
   "metadata": {},
   "source": [
    "### Check the data"
   ]
  },
  {
   "cell_type": "markdown",
   "id": "452b21e8-e669-4855-b4a0-67610ac47c84",
   "metadata": {},
   "source": [
    "We check the data to make sure nothing strange is going on. We want to confirm that:\n",
    "- All IDs are unique\n",
    "- $R = P \\times V$\n",
    "- $R > 0$\n",
    "- $P > 0$\n",
    "- $V > 0$"
   ]
  },
  {
   "cell_type": "code",
   "execution_count": 56,
   "id": "50c1962e-6a8b-47ad-9bad-f53f3f73c222",
   "metadata": {
    "collapsed": true,
    "jupyter": {
     "outputs_hidden": true,
     "source_hidden": true
    }
   },
   "outputs": [
    {
     "name": "stdout",
     "output_type": "stream",
     "text": [
      "All IDs are unique.\n",
      "Total Revenue equals total Price times Volume.\n",
      "All revenue values are greater than 0.\n",
      "All price values are greater than 0.\n",
      "All volume values are greater than 0.\n"
     ]
    }
   ],
   "source": [
    "def check_data(data):\n",
    "    # Check for unique IDs\n",
    "    total_rows = len(data)\n",
    "    duplicate_ids = total_rows - data['id'].nunique()\n",
    "    if duplicate_ids > 0:\n",
    "        duplicate_percentage = (duplicate_ids / total_rows) * 100\n",
    "        print(f\"Warning: {duplicate_percentage:.2f}% of the rows have duplicate IDs.\")\n",
    "    else:\n",
    "        print(\"All IDs are unique.\")\n",
    "\n",
    "    # Compare total sum of revenue to sumproduct of price and volume\n",
    "    total_revenue = data['revenue'].sum()\n",
    "    total_price_volume = (data['price'] * data['volume']).sum()\n",
    "    if total_revenue != total_price_volume:\n",
    "        difference = total_price_volume - total_revenue\n",
    "        percentage_difference = (difference / total_revenue) * 100\n",
    "        print(f\"Warning: Total P x V is {percentage_difference:.2f}% {'greater' if difference > 0 else 'less'} than total Revenue.\")\n",
    "    else:\n",
    "        print(\"Total Revenue equals total Price times Volume.\")\n",
    "\n",
    "    # Check if revenue, price, volume are greater than 0 and calculate percentages\n",
    "    for column in ['revenue', 'price', 'volume']:\n",
    "        incorrect_values = data[data[column] <= 0]\n",
    "        if not incorrect_values.empty:\n",
    "            incorrect_percentage = (len(incorrect_values) / total_rows) * 100\n",
    "            print(f\"Warning: {incorrect_percentage:.2f}% of {column} values are not greater than 0.\")\n",
    "        else:\n",
    "            print(f\"All {column} values are greater than 0.\")\n",
    "\n",
    "# Example usage\n",
    "check_data(data)\n"
   ]
  },
  {
   "cell_type": "markdown",
   "id": "2799d8a9",
   "metadata": {},
   "source": [
    "# Summary statistics"
   ]
  },
  {
   "cell_type": "markdown",
   "id": "84e93d30",
   "metadata": {},
   "source": [
    "### Business-level summary\n",
    "\n",
    "The business level summary gives the user a bird's eye view of their business. None of this information should be new to them, but it helps them have faith we've gotten the data properly.\n",
    "\n",
    "We want to show them a page which confirms the size and main statistics of the sample:\n",
    "\n",
    "- Total revenue\n",
    "- Total customers\n",
    "- Total users\n",
    "- ARPA\n",
    "- ARPU\n",
    "\n",
    "It's probably a good idea for them to enter their total revenue, so we can print all of this out as a percentage. This will also let us calculate lift down the line.  Or maybe we just ask them for everything?"
   ]
  },
  {
   "cell_type": "code",
   "execution_count": 41,
   "id": "a6b0d926-92a2-404e-af5a-979ef98bd266",
   "metadata": {
    "collapsed": true,
    "jupyter": {
     "outputs_hidden": true,
     "source_hidden": true
    }
   },
   "outputs": [
    {
     "name": "stdout",
     "output_type": "stream",
     "text": [
      "Total revenue: $776,904.33\n",
      "\n",
      "Total customers: 2974\n",
      "Average revenue per customer: $261.23\n",
      "\n",
      "Total users: 15186\n",
      "Average revenue per user: $51.16\n",
      "\n"
     ]
    }
   ],
   "source": [
    "def revenue_summary(data):\n",
    "    import pandas as pd\n",
    "\n",
    "    # Calculate total revenue\n",
    "    total_revenue = data['revenue'].sum()\n",
    "    print(f\"Total revenue: ${total_revenue:,.2f}\")\n",
    "    print()\n",
    "\n",
    "    # Calculate total number of distinct customers\n",
    "    total_customers = data['id'].nunique()\n",
    "    print(f\"Total customers: {total_customers}\")\n",
    "\n",
    "    # Calculate Average Revenue Per Account (ARPA)\n",
    "    if total_customers > 0:\n",
    "        arpa = total_revenue / total_customers\n",
    "        print(f\"Average revenue per customer: ${arpa:,.2f}\")\n",
    "    else:\n",
    "        print(\"Average revenue per customer: N/A\")\n",
    "    print()\n",
    "\n",
    "    # Calculate total volume\n",
    "    total_volume = data['volume'].sum()\n",
    "    print(f\"Total users: {total_volume}\")\n",
    "\n",
    "    # Calculate Average Revenue Per User Account (ARPUA)\n",
    "    if total_volume > 0:\n",
    "        arpua = total_revenue / total_volume\n",
    "        print(f\"Average revenue per user: ${arpua:,.2f}\")\n",
    "    else:\n",
    "        print(\"Average revenue per user: N/A\")\n",
    "    print()\n",
    "\n",
    "\n",
    "revenue_summary(data)\n"
   ]
  },
  {
   "cell_type": "markdown",
   "id": "91e0033c-08c5-4f1f-80bd-52bcd20f2c92",
   "metadata": {},
   "source": [
    "### Product-level summary\n",
    "\n",
    "Next, we want to go one level deeper and summarise each product with plots. For each product, we're after:\n",
    "\n",
    "- Revenue mix\n",
    "- Customer mix\n",
    "- User mix\n",
    "- ARPA\n",
    "- ARPU"
   ]
  },
  {
   "cell_type": "code",
   "execution_count": 43,
   "id": "590b81df-8a37-47d0-9823-13daef9aa6ff",
   "metadata": {
    "collapsed": true,
    "jupyter": {
     "outputs_hidden": true
    }
   },
   "outputs": [
    {
     "data": {
      "image/png": "[encoded data removed]",
      "text/plain": [
       "<Figure size 640x480 with 1 Axes>"
      ]
     },
     "metadata": {},
     "output_type": "display_data"
    },
    {
     "data": {
      "image/png": "[encoded data removed]",
      "text/plain": [
       "<Figure size 640x480 with 1 Axes>"
      ]
     },
     "metadata": {},
     "output_type": "display_data"
    },
    {
     "data": {
      "image/png": "[encoded data removed]",
      "text/plain": [
       "<Figure size 640x480 with 1 Axes>"
      ]
     },
     "metadata": {},
     "output_type": "display_data"
    },
    {
     "data": {
      "image/png": "[encoded data removed]",
      "text/plain": [
       "<Figure size 640x480 with 1 Axes>"
      ]
     },
     "metadata": {},
     "output_type": "display_data"
    },
    {
     "data": {
      "image/png": "[encoded data removed]",
      "text/plain": [
       "<Figure size 640x480 with 1 Axes>"
      ]
     },
     "metadata": {},
     "output_type": "display_data"
    }
   ],
   "source": [
    "def package_summary(data):\n",
    "    import seaborn as sns\n",
    "    import matplotlib.pyplot as plt\n",
    "    \n",
    "    # Set Seaborn dark theme\n",
    "    sns.set_theme(style=\"darkgrid\")\n",
    "\n",
    "    # Helper function to plot bar chart\n",
    "    def plot_bar_chart(series, title, ylabel, value_format):\n",
    "        ax = sns.barplot(x=series.index, y=series.values)\n",
    "        ax.set_title(title)\n",
    "        ax.set_ylabel(ylabel)\n",
    "        for p in ax.patches:\n",
    "            ax.annotate(value_format.format(p.get_height()), \n",
    "                        (p.get_x() + p.get_width() / 2., p.get_height()), \n",
    "                        ha='center', va='center', \n",
    "                        xytext=(0, 9), \n",
    "                        textcoords='offset points')\n",
    "        plt.show()\n",
    "\n",
    "    # Percentage of revenue by product\n",
    "    revenue_percent = data.groupby('product')['revenue'].sum() / data['revenue'].sum() * 100\n",
    "    plot_bar_chart(revenue_percent, 'Percentage of Revenue by Product', 'Percentage', '{:.0f}%')\n",
    "\n",
    "    # Percentage of customers by product\n",
    "    customer_percent = data.groupby('product')['id'].nunique() / data['id'].nunique() * 100\n",
    "    plot_bar_chart(customer_percent, 'Percentage of Customers by Product', 'Percentage', '{:.0f}%')\n",
    "\n",
    "    # Percentage of users by product\n",
    "    user_percent = data.groupby('product')['volume'].sum() / data['volume'].sum() * 100\n",
    "    plot_bar_chart(user_percent, 'Percentage of Users by Product', 'Percentage', '{:.0f}%')\n",
    "\n",
    "    # ARPA by package\n",
    "    arpa_by_package = data.groupby('product')['revenue'].sum() / data.groupby('product')['id'].nunique()\n",
    "    plot_bar_chart(arpa_by_package, 'ARPA by Package', 'ARPA ($)', '${:.0f}')\n",
    "\n",
    "    # ARPU by package\n",
    "    arpu_by_package = data.groupby('product')['revenue'].sum() / data.groupby('product')['volume'].sum()\n",
    "    plot_bar_chart(arpu_by_package, 'ARPU by Package', 'ARPU ($)', '${:.0f}')\n",
    "\n",
    "package_summary(data)\n"
   ]
  },
  {
   "cell_type": "markdown",
   "id": "e844faa2-d2ff-4994-982a-751790d80fc7",
   "metadata": {},
   "source": [
    "### Statistical distributions\n",
    "\n",
    "We are interested in the best fitting distribution of price and volume to see how well-behaved the system we're dealing with is."
   ]
  },
  {
   "cell_type": "code",
   "execution_count": 60,
   "id": "45b782a1-928c-411f-9d40-8c188629e0c2",
   "metadata": {
    "collapsed": true,
    "jupyter": {
     "outputs_hidden": true,
     "source_hidden": true
    }
   },
   "outputs": [
    {
     "name": "stdout",
     "output_type": "stream",
     "text": [
      "Product: Starter, Price - CoV: 0.25, Normalized Entropy: 0.31, Best Fit: lognorm\n",
      "Product: Starter, Volume - CoV: 1.18, Normalized Entropy: 0.34, Best Fit: beta\n",
      "Product: Team, Price - CoV: 0.38, Normalized Entropy: 0.50, Best Fit: gamma\n",
      "Product: Team, Volume - CoV: 0.75, Normalized Entropy: 0.49, Best Fit: beta\n",
      "Product: Business, Price - CoV: 0.38, Normalized Entropy: 0.39, Best Fit: gamma\n",
      "Product: Business, Volume - CoV: 0.96, Normalized Entropy: 0.50, Best Fit: lognorm\n",
      "Product: Enterprise, Price - CoV: 0.70, Normalized Entropy: 0.67, Best Fit: gamma\n",
      "Product: Enterprise, Volume - CoV: 1.50, Normalized Entropy: 0.60, Best Fit: lognorm\n"
     ]
    }
   ],
   "source": [
    "def fit_distributions(data):\n",
    "    import pandas as pd\n",
    "    import numpy as np\n",
    "    from scipy.stats import entropy\n",
    "    from fitter import Fitter\n",
    "\n",
    "    def calculate_cov_and_normalized_entropy(data):\n",
    "        cv = np.std(data) / np.mean(data)\n",
    "        # Normalizing the entropy\n",
    "        sh_entropy = entropy(np.histogram(data, bins=30)[0], base=2)\n",
    "        max_entropy = np.log2(len(np.unique(data)))\n",
    "        normalized_entropy = sh_entropy / max_entropy if max_entropy > 0 else 0\n",
    "        return cv, normalized_entropy\n",
    "\n",
    "    def find_best_fit_distribution(data):\n",
    "        f = Fitter(data, distributions=['gamma', 'lognorm', 'beta', 'expon', 'norm'])\n",
    "        f.fit()\n",
    "        best_fit = f.get_best(method='sumsquare_error')\n",
    "        best_distr_name = list(best_fit.keys())[0]\n",
    "        return best_distr_name\n",
    "\n",
    "    products = data['product'].unique()\n",
    "\n",
    "    for product in products:\n",
    "        product_data = data[data['product'] == product]\n",
    "        \n",
    "        # Price Analysis\n",
    "        price_cv, price_normalized_entropy = calculate_cov_and_normalized_entropy(product_data['price'])\n",
    "        price_best_fit = find_best_fit_distribution(product_data['price'])\n",
    "        print(f'Product: {product}, Price - CoV: {price_cv:.2f}, Normalized Entropy: {price_normalized_entropy:.2f}, Best Fit: {price_best_fit}')\n",
    "\n",
    "        # Volume Analysis\n",
    "        volume_cv, volume_normalized_entropy = calculate_cov_and_normalized_entropy(product_data['volume'])\n",
    "        volume_best_fit = find_best_fit_distribution(product_data['volume'])\n",
    "        print(f'Product: {product}, Volume - CoV: {volume_cv:.2f}, Normalized Entropy: {volume_normalized_entropy:.2f}, Best Fit: {volume_best_fit}')\n",
    "\n",
    "fit_distributions(data)\n"
   ]
  },
  {
   "cell_type": "markdown",
   "id": "4a05f118-d5ea-4fdf-ba0a-fc0a60d512e0",
   "metadata": {},
   "source": [
    "# Data processing"
   ]
  },
  {
   "cell_type": "markdown",
   "id": "1f744967-f11d-4b74-8581-933fb5cd20cb",
   "metadata": {},
   "source": [
    "### Add the 'No-Purchase' option\n",
    "\n",
    "If a business has $N$ packages, this is not a MECE choice set as there is always the option to purchase nothing (or churn).  \n",
    "Therefore we require $N+1$ goods in the demand system.\n",
    "\n",
    "We can back out the proportion of 'No-purchase' directly from the business's paid conversion rate.  If we started with $n$ observed paid conversions (choices),\n",
    "\n",
    "$$Paid \\space CVR = \\dfrac{n}{N}$$\n",
    "\n",
    "$$N = \\dfrac{n}{ Paid \\space CVR}$$\n",
    "\n",
    "we can get the total number of choices (including no-purchase choices) by dividing $n$ by the paid conversion rate.\n"
   ]
  },
  {
   "cell_type": "code",
   "execution_count": 4,
   "id": "60d9c8af-7897-471f-ad93-b775b850ce0b",
   "metadata": {},
   "outputs": [
    {
     "name": "stdout",
     "output_type": "stream",
     "text": [
      "Total number of rows: 74350\n",
      "Number of unique IDs: 74350\n"
     ]
    },
    {
     "data": {
      "text/html": [
       "<div>\n",
       "<style scoped>\n",
       "    .dataframe tbody tr th:only-of-type {\n",
       "        vertical-align: middle;\n",
       "    }\n",
       "\n",
       "    .dataframe tbody tr th {\n",
       "        vertical-align: top;\n",
       "    }\n",
       "\n",
       "    .dataframe thead th {\n",
       "        text-align: right;\n",
       "    }\n",
       "</style>\n",
       "<table border=\"1\" class=\"dataframe\">\n",
       "  <thead>\n",
       "    <tr style=\"text-align: right;\">\n",
       "      <th></th>\n",
       "      <th>id</th>\n",
       "      <th>product</th>\n",
       "      <th>revenue</th>\n",
       "      <th>volume</th>\n",
       "      <th>price</th>\n",
       "    </tr>\n",
       "  </thead>\n",
       "  <tbody>\n",
       "    <tr>\n",
       "      <th>74345</th>\n",
       "      <td>a7ec47f4-486c-43b0-a9b3-d3af2ccdbca7</td>\n",
       "      <td>Other</td>\n",
       "      <td>NaN</td>\n",
       "      <td>1</td>\n",
       "      <td>0.0</td>\n",
       "    </tr>\n",
       "    <tr>\n",
       "      <th>74346</th>\n",
       "      <td>ef535f3e-3d14-47e5-b2a7-cd1ee9b9e0c3</td>\n",
       "      <td>Other</td>\n",
       "      <td>NaN</td>\n",
       "      <td>1</td>\n",
       "      <td>0.0</td>\n",
       "    </tr>\n",
       "    <tr>\n",
       "      <th>74347</th>\n",
       "      <td>2822dbe8-3b4c-458a-9c25-37c92e7e1115</td>\n",
       "      <td>Other</td>\n",
       "      <td>NaN</td>\n",
       "      <td>1</td>\n",
       "      <td>0.0</td>\n",
       "    </tr>\n",
       "    <tr>\n",
       "      <th>74348</th>\n",
       "      <td>e8368bad-ca53-4b09-a431-523da1607e76</td>\n",
       "      <td>Other</td>\n",
       "      <td>NaN</td>\n",
       "      <td>1</td>\n",
       "      <td>0.0</td>\n",
       "    </tr>\n",
       "    <tr>\n",
       "      <th>74349</th>\n",
       "      <td>0a1710c0-70bb-4072-a6de-504a7872092d</td>\n",
       "      <td>Other</td>\n",
       "      <td>NaN</td>\n",
       "      <td>1</td>\n",
       "      <td>0.0</td>\n",
       "    </tr>\n",
       "  </tbody>\n",
       "</table>\n",
       "</div>"
      ],
      "text/plain": [
       "                                         id product  revenue  volume  price\n",
       "74345  a7ec47f4-486c-43b0-a9b3-d3af2ccdbca7   Other      NaN       1    0.0\n",
       "74346  ef535f3e-3d14-47e5-b2a7-cd1ee9b9e0c3   Other      NaN       1    0.0\n",
       "74347  2822dbe8-3b4c-458a-9c25-37c92e7e1115   Other      NaN       1    0.0\n",
       "74348  e8368bad-ca53-4b09-a431-523da1607e76   Other      NaN       1    0.0\n",
       "74349  0a1710c0-70bb-4072-a6de-504a7872092d   Other      NaN       1    0.0"
      ]
     },
     "execution_count": 4,
     "metadata": {},
     "output_type": "execute_result"
    }
   ],
   "source": [
    "def add_nopurchase_option(data, paid_conversion_rate):\n",
    "    import pandas as pd\n",
    "    import numpy as np\n",
    "    import uuid\n",
    "    \n",
    "    # Calculate the number of 'Other' rows to add\n",
    "    current_count = len(data)\n",
    "    total_count_needed = current_count / paid_conversion_rate\n",
    "    other_count = int(total_count_needed - current_count)\n",
    "\n",
    "    # Create a DataFrame for 'Other' choices\n",
    "    other_data = pd.DataFrame({\n",
    "        'product': ['Other'] * other_count,\n",
    "        'price': [0] * other_count,\n",
    "        'volume': [1] * other_count,\n",
    "        # Add other columns as None\n",
    "    })\n",
    "\n",
    "    # Add other columns as None\n",
    "    for col in data.columns:\n",
    "        if col not in other_data:\n",
    "            other_data[col] = np.nan\n",
    "\n",
    "    # Generate unique UUIDs for the new rows\n",
    "    other_data['id'] = [str(uuid.uuid4()) for _ in range(other_count)]\n",
    "\n",
    "    # Append the 'Other' data to the original data\n",
    "    updated_data = pd.concat([data, other_data], ignore_index=True)\n",
    "\n",
    "    # Print the number of rows and the number of unique IDs\n",
    "    print(f\"Total number of rows: {len(updated_data)}\")\n",
    "    print(f\"Number of unique IDs: {updated_data['id'].nunique()}\")\n",
    "\n",
    "    return updated_data\n",
    "\n",
    "# Example usage\n",
    "data = add_nopurchase_option(data, 0.04)\n",
    "data.head()\n",
    "data.tail()"
   ]
  },
  {
   "cell_type": "markdown",
   "id": "bf5a5fce-18e0-46eb-8ea7-d8f1ee6924ec",
   "metadata": {},
   "source": [
    "### Duplicate choices with volume > 1\n",
    "\n",
    "We have two options for dealing with the fact that people purchase differing volumes of different packages:\n",
    "1. Fit a discrete model\n",
    "2. Treat incremental volume > 1 as a fresh choice which is repeated with no alternatives.\n",
    "\n",
    "We opt for option 2.\n"
   ]
  },
  {
   "cell_type": "code",
   "execution_count": 5,
   "id": "677ae1a4-142d-465b-b773-aa4c1fa12189",
   "metadata": {},
   "outputs": [
    {
     "name": "stdout",
     "output_type": "stream",
     "text": [
      "Total number of rows: 86562\n"
     ]
    }
   ],
   "source": [
    "def duplicate_volume_choices(data):\n",
    "    import pandas as pd\n",
    "    # Ensure the original data has the 'available' column set to 1\n",
    "    data['available'] = 1\n",
    "\n",
    "    # Create an empty DataFrame to store the results\n",
    "    result_df = pd.DataFrame()\n",
    "\n",
    "    # Iterate over each row\n",
    "    for index, row in data.iterrows():\n",
    "        row_volume = row['volume']  # Directly reference the 'volume' column\n",
    "        \n",
    "        # Check if volume is greater than 1\n",
    "        if row_volume > 1:\n",
    "            # Duplicate the row volume - 1 times and set 'available' to 0\n",
    "            row_copy = row.copy()\n",
    "            row_copy['available'] = 0\n",
    "            duplicates = pd.DataFrame([row_copy] * (int(row_volume) - 1))\n",
    "            result_df = pd.concat([result_df, duplicates], ignore_index=True)\n",
    "    \n",
    "    # Combine the original data with the duplicated rows\n",
    "    return pd.concat([data, result_df], ignore_index=True)\n",
    "\n",
    "\n",
    "data = duplicate_volume_choices(data)\n",
    "data.head()\n",
    "print(f\"Total number of rows: {len(data)}\")\n"
   ]
  },
  {
   "cell_type": "markdown",
   "id": "32771823-a53c-41eb-ab83-e7dc86e1e920",
   "metadata": {},
   "source": [
    "### Duplicate choices to take account of alternatives\n",
    "\n",
    "Currently, each 'choice' (including incremental volume purchases) only has one row. We need to duplicate each choice to take account of the $J-1$ alternatives."
   ]
  },
  {
   "cell_type": "code",
   "execution_count": 6,
   "id": "75c240e1-8bda-4188-87bf-d2a96fd2cc37",
   "metadata": {},
   "outputs": [],
   "source": [
    "def declare_alternatives(data):\n",
    "    import pandas as pd\n",
    "\n",
    "    # Fixed column names\n",
    "    choice_column = 'product'\n",
    "    price_column = 'price'\n",
    "    volume_column = 'volume'\n",
    "\n",
    "    # Rename the 'product' column to 'choice'\n",
    "    data = data.rename(columns={choice_column: 'choice'})\n",
    "\n",
    "    # Calculate the average price for each choice\n",
    "    avg_price = data.groupby('choice')[price_column].mean()\n",
    "\n",
    "    # Get the unique choices\n",
    "    choices = data['choice'].unique()\n",
    "\n",
    "    # Create a price and volume column for each choice\n",
    "    for c in choices:\n",
    "        data[f'price_{c}'] = data.apply(lambda x: x[price_column] if x['choice'] == c else avg_price[c], axis=1)\n",
    "        data[f'volume_{c}'] = data[volume_column]\n",
    "\n",
    "    # Drop the original price and volume columns\n",
    "    data = data.drop(columns=[price_column, volume_column])\n",
    "\n",
    "    return data\n",
    "\n",
    "# Example usage\n",
    "data = declare_alternatives(data)\n"
   ]
  },
  {
   "cell_type": "markdown",
   "id": "e30f3ce7",
   "metadata": {},
   "source": [
    "### Pivot data long"
   ]
  },
  {
   "cell_type": "code",
   "execution_count": 7,
   "id": "681b0dcc",
   "metadata": {},
   "outputs": [],
   "source": [
    "def make_data_long(data):\n",
    "    from xlogit.utils import wide_to_long\n",
    "    import uuid\n",
    "\n",
    "    # Fixed column names\n",
    "    id_col = 'id'\n",
    "    choice = 'choice'\n",
    "\n",
    "    # Get unique alternatives from the choice column\n",
    "    alt_list = data[choice].unique().tolist()\n",
    "\n",
    "    # Convert the data from wide to long format\n",
    "    data_long = wide_to_long(data, id_col=id_col, alt_list=alt_list,\n",
    "                             varying=['price', 'volume'], alt_name='alt', sep='_', alt_is_prefix=False)\n",
    "\n",
    "    # Assign a unique identifier to each row in the workspace_id column\n",
    "    data_long[id_col] = [str(uuid.uuid4()) for _ in range(len(data_long))]\n",
    "\n",
    "    return data_long\n",
    "\n",
    "# Example usage\n",
    "data = make_data_long(data)\n"
   ]
  },
  {
   "cell_type": "markdown",
   "id": "15ced179-f2aa-491d-b74d-8dd2ce3bc58d",
   "metadata": {},
   "source": [
    "### Standardize price"
   ]
  },
  {
   "cell_type": "code",
   "execution_count": 8,
   "id": "33ffd786-f6e7-4e75-b600-dc411732c860",
   "metadata": {},
   "outputs": [],
   "source": [
    "def standardize_price(data):\n",
    "    import pandas as pd\n",
    "    \n",
    "    if 'price' not in data.columns:\n",
    "        raise ValueError(\"The 'price' column is not found in the data.\")\n",
    "\n",
    "    mean_price = data['price'].mean()\n",
    "    std_price = data['price'].std()\n",
    "\n",
    "    # Avoid division by zero in case of constant price\n",
    "    if std_price == 0:\n",
    "        raise ValueError(\"Standard deviation of 'price' is zero. Cannot standardize a constant variable.\")\n",
    "\n",
    "    data['price'] = (data['price'] - mean_price) / std_price\n",
    "    return data\n",
    "\n",
    "data = standardize_price(data)"
   ]
  },
  {
   "cell_type": "markdown",
   "id": "41678487-5166-4780-966d-490a1d18e1ee",
   "metadata": {},
   "source": [
    "# xlogit"
   ]
  },
  {
   "cell_type": "markdown",
   "id": "1461b742-7eda-44a0-ab4f-c39bf0fdacf2",
   "metadata": {},
   "source": [
    "### Multinomial logit"
   ]
  },
  {
   "cell_type": "code",
   "execution_count": 9,
   "id": "a73ebfbd-1045-4d9f-b66d-560aaacbe6e4",
   "metadata": {},
   "outputs": [
    {
     "name": "stdout",
     "output_type": "stream",
     "text": [
      "Optimization terminated successfully.\n",
      "    Message: The gradients are close to zero\n",
      "    Iterations: 9\n",
      "    Function evaluations: 10\n",
      "Estimation time= 0.8 seconds\n",
      "---------------------------------------------------------------------------\n",
      "Coefficient              Estimate      Std.Err.         z-val         P>|z|\n",
      "---------------------------------------------------------------------------\n",
      "price                  -2.6832380     0.0118920  -225.6340604             0 ***\n",
      "---------------------------------------------------------------------------\n",
      "Significance:  0 '***' 0.001 '**' 0.01 '*' 0.05 '.' 0.1 ' ' 1\n",
      "\n",
      "Log-Likelihood= -78481.735\n",
      "AIC= 156965.469\n",
      "BIC= 156974.838\n"
     ]
    }
   ],
   "source": [
    "def estimate_mnl_model(data):\n",
    "    from xlogit import MultinomialLogit\n",
    "    varnames = ['price']\n",
    "\n",
    "    model = MultinomialLogit()\n",
    "\n",
    "    model.fit(X = data[varnames], y = data['choice'], varnames=varnames,\n",
    "              alts=data['alt'], ids=data['id'])\n",
    "\n",
    "    model.summary()\n",
    "    \n",
    "    return model\n",
    "\n",
    "mnl_model = estimate_mnl_model(data)"
   ]
  },
  {
   "cell_type": "markdown",
   "id": "50877524-3eaa-4d95-b833-b5df5fee4366",
   "metadata": {},
   "source": [
    "### Mixed logit"
   ]
  },
  {
   "cell_type": "code",
   "execution_count": 20,
   "id": "87a3eb76-3e79-4734-8a33-451b908cd815",
   "metadata": {},
   "outputs": [
    {
     "name": "stdout",
     "output_type": "stream",
     "text": [
      "Optimization terminated successfully.\n",
      "    Message: CONVERGENCE: REL_REDUCTION_OF_F_<=_FACTR*EPSMCH\n",
      "    Iterations: 15\n",
      "    Function evaluations: 21\n",
      "Estimation time= 152.6 seconds\n",
      "---------------------------------------------------------------------------\n",
      "Coefficient              Estimate      Std.Err.         z-val         P>|z|\n",
      "---------------------------------------------------------------------------\n",
      "price                 -13.8596244     0.1487345   -93.1836719             0 ***\n",
      "sd.price                5.3806384     0.0827244    65.0429757             0 ***\n",
      "---------------------------------------------------------------------------\n",
      "Significance:  0 '***' 0.001 '**' 0.01 '*' 0.05 '.' 0.1 ' ' 1\n",
      "\n",
      "Log-Likelihood= -15659.336\n",
      "AIC= 31322.673\n",
      "BIC= 31341.410\n"
     ]
    }
   ],
   "source": [
    "def estimate_mixed_logit_model(data):\n",
    "    from xlogit import MixedLogit\n",
    "    varnames = ['price']\n",
    "\n",
    "    model = MixedLogit()\n",
    "\n",
    "    model.fit(X = data[varnames], y = data['choice'], varnames=varnames,\n",
    "              alts=data['alt'], ids=data['id'], avail=data['available'],\n",
    "              panels=None, randvars={'price': 'n'}, \n",
    "              #maxiter = 1000, n_draws=3500, \n",
    "              num_hess = True,\n",
    "              optim_method='L-BFGS-B')\n",
    "\n",
    "    model.summary()\n",
    "\n",
    "    return model\n",
    "\n",
    "ml_model = estimate_mixed_logit_model(data)"
   ]
  },
  {
   "cell_type": "markdown",
   "id": "398db343-1896-490a-bf05-acb37ef0384c",
   "metadata": {},
   "source": [
    "### Predict"
   ]
  },
  {
   "cell_type": "code",
   "execution_count": null,
   "id": "896e9ea3-8afb-4b42-beb0-f65b86e546ad",
   "metadata": {},
   "outputs": [],
   "source": [
    "def predict_choices(model, new_data):\n",
    "    from xlogit import MixedLogit, MultinomialLogit\n",
    "    import pandas as pd\n",
    "\n",
    "    # Define the variable name\n",
    "    varnames = ['price']\n",
    "\n",
    "    # Make predictions on new data\n",
    "    predictions = model.predict(new_data[varnames], varnames=varnames,\n",
    "                                alts=new_data['alt'], ids=new_data['id'])\n",
    "\n",
    "    # Calculate the percentage of each class\n",
    "    class_counts = pd.Series(predictions).value_counts(normalize=True) * 100\n",
    "    class_percentages = class_counts.to_dict()\n",
    "\n",
    "    # Count total predictions\n",
    "    total_predictions = len(predictions)\n",
    "\n",
    "    return predictions, class_percentages, total_predictions\n",
    "\n",
    "# Example usage\n",
    "model_predictions, class_percentages, total_predictions = predict_choices(model=ml_model, new_data=data)\n",
    "print(\"Predictions:\", model_predictions)\n",
    "print(\"Class Percentages:\", class_percentages)\n",
    "print(\"Total Predictions:\", total_predictions)\n"
   ]
  },
  {
   "cell_type": "markdown",
   "id": "afac9640-85d3-499d-b838-f828b406266a",
   "metadata": {},
   "source": [
    "# torch-choice"
   ]
  },
  {
   "cell_type": "markdown",
   "id": "ef84552e-e0f3-4d4b-aa58-2d7c20c893de",
   "metadata": {},
   "source": [
    "### Create chosen column for torch-choice"
   ]
  },
  {
   "cell_type": "code",
   "execution_count": 67,
   "id": "653c16ea-6a9c-4212-b1dc-0df8fc6a4007",
   "metadata": {
    "collapsed": true,
    "jupyter": {
     "outputs_hidden": true,
     "source_hidden": true
    }
   },
   "outputs": [],
   "source": [
    "def create_chosen_column(data):\n",
    "    # Ensure the necessary columns exist\n",
    "    if 'choice' not in data.columns or 'alt' not in data.columns:\n",
    "        raise ValueError(\"Required columns 'choice' or 'alt' are missing\")\n",
    "\n",
    "    # Rename columns\n",
    "    data = data.rename(columns={'choice': 'temp_chosen', 'alt': 'choice'})\n",
    "\n",
    "    # Create the 'chosen' column with True if 'choice' equals 'temp_chosen', else False\n",
    "    data['chosen'] = data['choice'] == data['temp_chosen']\n",
    "\n",
    "    # Drop the temporary column\n",
    "    data = data.drop(columns=['temp_chosen'])\n",
    "\n",
    "    return data\n",
    "\n",
    "# Usage example:\n",
    "data = create_chosen_column(data)\n"
   ]
  },
  {
   "cell_type": "markdown",
   "id": "9a00b42a-18ee-4ce0-876f-0d69a58e49d4",
   "metadata": {},
   "source": [
    "### Prepare for torch-choice"
   ]
  },
  {
   "cell_type": "code",
   "execution_count": 77,
   "id": "f2008882-107e-4561-b39b-f034cbb5a466",
   "metadata": {
    "collapsed": true,
    "jupyter": {
     "outputs_hidden": true,
     "source_hidden": true
    }
   },
   "outputs": [
    {
     "name": "stdout",
     "output_type": "stream",
     "text": [
      "2.1.2\n",
      "choice\n",
      "Starter       86562\n",
      "Team          86562\n",
      "Business      86562\n",
      "Enterprise    86562\n",
      "Other         86562\n",
      "Name: count, dtype: int64\n",
      "No `session_index` is provided, assume each choice instance is in its own session.\n"
     ]
    },
    {
     "ename": "NameError",
     "evalue": "name 'DEVICE' is not defined",
     "output_type": "error",
     "traceback": [
      "\u001b[0;31m---------------------------------------------------------------------------\u001b[0m",
      "\u001b[0;31mNameError\u001b[0m                                 Traceback (most recent call last)",
      "Cell \u001b[0;32mIn[77], line 63\u001b[0m\n\u001b[1;32m     59\u001b[0m     \u001b[38;5;28;01mreturn\u001b[39;00m dataset, nest_to_item\n\u001b[1;32m     62\u001b[0m \u001b[38;5;66;03m# Usage example:\u001b[39;00m\n\u001b[0;32m---> 63\u001b[0m dataset, nest_to_item \u001b[38;5;241m=\u001b[39m prepare_torch_data(data)\n",
      "Cell \u001b[0;32mIn[77], line 30\u001b[0m, in \u001b[0;36mprepare_torch_data\u001b[0;34m(data)\u001b[0m\n\u001b[1;32m     27\u001b[0m item_index \u001b[38;5;241m=\u001b[39m torch\u001b[38;5;241m.\u001b[39mLongTensor(item_index)\n\u001b[1;32m     29\u001b[0m \u001b[38;5;66;03m# Nesting\u001b[39;00m\n\u001b[0;32m---> 30\u001b[0m nest_dataset \u001b[38;5;241m=\u001b[39m ChoiceDataset(item_index\u001b[38;5;241m=\u001b[39mitem_index\u001b[38;5;241m.\u001b[39mclone())\u001b[38;5;241m.\u001b[39mto(DEVICE)\n\u001b[1;32m     32\u001b[0m \u001b[38;5;66;03m# Set up regressors / X variables\u001b[39;00m\n\u001b[1;32m     33\u001b[0m duplicates \u001b[38;5;241m=\u001b[39m data[data\u001b[38;5;241m.\u001b[39mduplicated(subset\u001b[38;5;241m=\u001b[39m[\u001b[38;5;124m'\u001b[39m\u001b[38;5;124mid\u001b[39m\u001b[38;5;124m'\u001b[39m, \u001b[38;5;124m'\u001b[39m\u001b[38;5;124mchoice\u001b[39m\u001b[38;5;124m'\u001b[39m], keep\u001b[38;5;241m=\u001b[39m\u001b[38;5;28;01mFalse\u001b[39;00m)]\n",
      "\u001b[0;31mNameError\u001b[0m: name 'DEVICE' is not defined"
     ]
    }
   ],
   "source": [
    "def prepare_torch_data(data):\n",
    "    import torch\n",
    "    import numpy as np\n",
    "    import pandas as pd\n",
    "    from torch_choice.data import ChoiceDataset, JointDataset, utils\n",
    "    from torch_choice.model.nested_logit_model import NestedLogitModel\n",
    "    from torch_choice import run\n",
    "    \n",
    "    # Ignore warnings for cleaner outputs\n",
    "    import warnings\n",
    "    warnings.filterwarnings(\"ignore\")\n",
    "    \n",
    "    # Print torch version\n",
    "    print(torch.__version__)\n",
    "    \n",
    "    # Set device based on CUDA availability\n",
    "    if torch.cuda.is_available():\n",
    "        print(f'CUDA device used: {torch.cuda.get_device_name()}')\n",
    "        DEVICE = 'cuda'\n",
    "    else:\n",
    "        print('Running tutorial on CPU')\n",
    "        DEVICE = 'cpu'\n",
    "\n",
    "    # Count of choices\n",
    "    print(data['choice'].value_counts())\n",
    "\n",
    "    # Choice information\n",
    "    item_index = data[data['chosen'] == True].sort_values(by='id')['choice'].reset_index(drop=True)\n",
    "    item_names = data['choice'].unique().tolist()\n",
    "    num_items = data['choice'].nunique()\n",
    "\n",
    "    # Encode choices\n",
    "    encoder = dict(zip(item_names, range(num_items)))\n",
    "    item_index = item_index.map(lambda x: encoder[x])\n",
    "    item_index = torch.LongTensor(item_index)\n",
    "\n",
    "    # Nesting\n",
    "    nest_dataset = ChoiceDataset(item_index=item_index.clone()).to(DEVICE)\n",
    "\n",
    "    # Set up regressors / X variables\n",
    "    duplicates = data[data.duplicated(subset=['id', 'choice'], keep=False)]\n",
    "    if not duplicates.empty:\n",
    "        print(duplicates)\n",
    "\n",
    "    item_feat_cols = ['price']\n",
    "    price_obs = utils.pivot3d(data, dim0='id', dim1='choice', values=item_feat_cols)\n",
    "\n",
    "    print(price_obs.shape)\n",
    "\n",
    "    item_dataset = ChoiceDataset(item_index=item_index, price_obs=price_obs).to(DEVICE)\n",
    "\n",
    "    # Create final dataset\n",
    "    dataset = JointDataset(nest=nest_dataset, item=item_dataset)\n",
    "    print(dataset)\n",
    "    \n",
    "    \n",
    "    nest_to_item = {0: ['Starter', 'Team', 'Business', 'Enterprise'],\n",
    "                    1: ['Other']}\n",
    "    \n",
    "    # encode items to integers.\n",
    "    for k, v in nest_to_item.items():\n",
    "        v = [encoder[item] for item in v]\n",
    "        nest_to_item[k] = sorted(v)\n",
    "    \n",
    "    print(nest_to_item)\n",
    "\n",
    "    return dataset, nest_to_item\n",
    "\n",
    "\n",
    "# Usage example:\n",
    "dataset, nest_to_item = prepare_torch_data(data)\n"
   ]
  },
  {
   "cell_type": "markdown",
   "id": "54392c3c-bb13-404e-87e1-5fd93e1bdb19",
   "metadata": {},
   "source": [
    "# Fit model"
   ]
  },
  {
   "cell_type": "code",
   "execution_count": 79,
   "id": "1b2b47e7-5754-44ab-877d-fcf6ae2dfc16",
   "metadata": {
    "collapsed": true,
    "jupyter": {
     "outputs_hidden": true,
     "source_hidden": true
    }
   },
   "outputs": [
    {
     "name": "stdout",
     "output_type": "stream",
     "text": [
      "Running tutorial on CPU\n",
      "NestedLogitModel(\n",
      "  (nest_coef_dict): ModuleDict()\n",
      "  (item_coef_dict): ModuleDict(\n",
      "    (price_obs[constant]): Coefficient(variation=constant, num_items=5, num_users=None, num_params=1, 1 trainable parameters in total, initialization=normal, device=cpu).\n",
      "  )\n",
      ")\n",
      "==================== model received ====================\n",
      "NestedLogitModel(\n",
      "  (nest_coef_dict): ModuleDict()\n",
      "  (item_coef_dict): ModuleDict(\n",
      "    (price_obs[constant]): Coefficient(variation=constant, num_items=5, num_users=None, num_params=1, 1 trainable parameters in total, initialization=normal, device=cpu).\n",
      "  )\n",
      ")\n",
      "==================== data set received ====================\n",
      "[Train dataset] JointDataset with 2 sub-datasets: (\n",
      "\tnest: ChoiceDataset(num_items=5, num_users=1, num_sessions=86562, label=[], item_index=[86562], user_index=[], session_index=[86562], item_availability=[], device=cpu)\n",
      "\titem: ChoiceDataset(num_items=5, num_users=1, num_sessions=86562, label=[], item_index=[86562], user_index=[], session_index=[86562], item_availability=[], price_obs=[432810, 5, 1], device=cpu)\n",
      ")\n",
      "[Validation dataset] None\n",
      "[Test dataset] None\n"
     ]
    },
    {
     "name": "stderr",
     "output_type": "stream",
     "text": [
      "GPU available: True (mps), used: False\n",
      "TPU available: False, using: 0 TPU cores\n",
      "IPU available: False, using: 0 IPUs\n",
      "HPU available: False, using: 0 HPUs\n",
      "Missing logger folder: /Users/patricksweeney/growth/07_Apps/Untitled Folder/lightning_logs\n",
      "\n",
      "  | Name  | Type             | Params\n",
      "-------------------------------------------\n",
      "0 | model | NestedLogitModel | 2     \n",
      "-------------------------------------------\n",
      "2         Trainable params\n",
      "0         Non-trainable params\n",
      "2         Total params\n",
      "0.000     Total estimated model params size (MB)\n"
     ]
    },
    {
     "data": {
      "application/vnd.jupyter.widget-view+json": {
       "model_id": "7574713d0bc648bea0e9635751e9c6da",
       "version_major": 2,
       "version_minor": 0
      },
      "text/plain": [
       "Training: |                                               | 0/? [00:00<?, ?it/s]"
      ]
     },
     "metadata": {},
     "output_type": "display_data"
    },
    {
     "name": "stderr",
     "output_type": "stream",
     "text": [
      "`Trainer.fit` stopped: `max_epochs=100` reached.\n"
     ]
    },
    {
     "name": "stdout",
     "output_type": "stream",
     "text": [
      "Time taken for training: 46.4673330783844\n",
      "Skip testing, no test dataset is provided.\n",
      "==================== model results ====================\n",
      "Log-likelihood: [Training] nan, [Validation] N/A, [Test] N/A\n",
      "\n",
      "| Coefficient                |   Estimation |   Std. Err. |   z-value |   Pr(>|z|) | Significance   |\n",
      "|:---------------------------|-------------:|------------:|----------:|-----------:|:---------------|\n",
      "| lambda_weight_0            |          nan |         nan |       nan |        nan |                |\n",
      "| item_price_obs[constant]_0 |          nan |         nan |       nan |        nan |                |\n",
      "Significance codes: 0 '***' 0.001 '**' 0.01 '*' 0.05 '.' 0.1 ' ' 1\n"
     ]
    },
    {
     "data": {
      "text/plain": [
       "NestedLogitModel(\n",
       "  (nest_coef_dict): ModuleDict()\n",
       "  (item_coef_dict): ModuleDict(\n",
       "    (price_obs[constant]): Coefficient(variation=constant, num_items=5, num_users=None, num_params=1, 1 trainable parameters in total, initialization=normal, device=cpu).\n",
       "  )\n",
       ")"
      ]
     },
     "execution_count": 79,
     "metadata": {},
     "output_type": "execute_result"
    }
   ],
   "source": [
    "import torch\n",
    "import numpy as np\n",
    "import pandas as pd\n",
    "from torch_choice.data import ChoiceDataset, JointDataset, utils\n",
    "from torch_choice.model.nested_logit_model import NestedLogitModel\n",
    "from torch_choice import run\n",
    "\n",
    "# Set device based on CUDA availability\n",
    "if torch.cuda.is_available():\n",
    "    print(f'CUDA device used: {torch.cuda.get_device_name()}')\n",
    "    DEVICE = 'cuda'\n",
    "else:\n",
    "    print('Running tutorial on CPU')\n",
    "    DEVICE = 'cpu'\n",
    "\n",
    "model = NestedLogitModel(nest_to_item=nest_to_item,\n",
    "                          nest_coef_variation_dict={},\n",
    "                          nest_num_param_dict={},\n",
    "                          item_coef_variation_dict={'price_obs': 'constant'},\n",
    "                          item_num_param_dict={'price_obs': 7},\n",
    "                          shared_lambda=True)\n",
    "\n",
    "model = NestedLogitModel(nest_to_item=nest_to_item,\n",
    "                         nest_formula='',\n",
    "                         item_formula='(price_obs|constant)',\n",
    "                         dataset=dataset,\n",
    "                         shared_lambda=True)\n",
    "\n",
    "model = model.to(DEVICE)\n",
    "\n",
    "print(model)\n",
    "\n",
    "run(model, dataset, num_epochs=100, model_optimizer=\"LBFGS\")"
   ]
  },
  {
   "cell_type": "markdown",
   "id": "74e5f0a7-a573-4499-b99b-89d4af061e99",
   "metadata": {},
   "source": [
    "# Calibration"
   ]
  },
  {
   "cell_type": "markdown",
   "id": "99565d89-c845-4320-98c6-992ecf3f7d47",
   "metadata": {},
   "source": [
    "# Demand curves"
   ]
  },
  {
   "cell_type": "markdown",
   "id": "f9a706f9-4ebd-4f0a-93ed-9f7ede2d531d",
   "metadata": {},
   "source": [
    "# Revenue maximisation"
   ]
  },
  {
   "cell_type": "markdown",
   "id": "c3217987-32ac-4ec9-a048-3efa0e07a4f5",
   "metadata": {},
   "source": [
    "In the interdependent case, a given product's demand $D_i$ is a function of all other product's prices.\n"
   ]
  },
  {
   "cell_type": "markdown",
   "id": "5db4048e-a7ed-4ae2-a08e-f20538f131fd",
   "metadata": {},
   "source": [
    "$$\\begin{equation}\n",
    "   \\max R = \\sum_{i=1}^N p_i \\cdot D_i(p_1, p_2, \\ldots, p_N)\n",
    "\\end{equation}$$\n",
    "\n",
    "Optimal prices are when all elements of the revenue Jacobian with respect to each price equal zero.\n",
    "\n",
    "$$\\begin{equation}\n",
    "    \\frac{\\partial R}{\\partial p_i} = 0 \\quad \\text{for each} \\quad i = 1, 2, \\ldots, N\n",
    "\\end{equation}$$\n",
    "\n",
    "\n",
    "\\begin{equation}\n",
    "    \\frac{\\partial R}{\\partial p_i} = D_i(p_1, \\ldots, p_N) + p_i \\cdot \\frac{\\partial D_i(p_1, \\ldots, p_N)}{\\partial p_i} + \\sum_{\\substack{j=1 \\\\ j \\neq i}}^N \\left( p_j \\cdot \\frac{\\partial D_j(p_1, \\ldots, p_N)}{\\partial p_i} \\right)\n",
    "\\end{equation}\n",
    "\n",
    "\n"
   ]
  },
  {
   "cell_type": "code",
   "execution_count": null,
   "id": "38039354-26c2-4f95-a50e-1df6763f3d7a",
   "metadata": {
    "collapsed": true,
    "jupyter": {
     "outputs_hidden": true,
     "source_hidden": true
    }
   },
   "outputs": [],
   "source": []
  },
  {
   "cell_type": "markdown",
   "id": "6c8aabbd-52a2-4510-817b-fba91a00442c",
   "metadata": {},
   "source": [
    "# Outputs"
   ]
  },
  {
   "cell_type": "markdown",
   "id": "c1ac5b46-23a2-450a-b2ac-713802773cc5",
   "metadata": {},
   "source": [
    "### Pseudo-lift"
   ]
  },
  {
   "cell_type": "markdown",
   "id": "2a9d1005-a48d-44cc-b95a-12d01cbc53c8",
   "metadata": {},
   "source": [
    "**Revenue lift**  \n",
    "**Customer lift (and churn)**  \n",
    "**ARPA lift**"
   ]
  },
  {
   "cell_type": "markdown",
   "id": "4d3f8908-2103-4b7e-87f9-803808b07efc",
   "metadata": {},
   "source": [
    "### PVM"
   ]
  },
  {
   "cell_type": "markdown",
   "id": "dfcfc8cc-cd79-4abb-88d0-73b3a6a0f80e",
   "metadata": {},
   "source": [
    "### Customer-level distributions"
   ]
  },
  {
   "cell_type": "markdown",
   "id": "fd007ab5-392b-4fc2-bc1f-a29498dcc34e",
   "metadata": {},
   "source": [
    "### Product-level distributions"
   ]
  },
  {
   "cell_type": "code",
   "execution_count": null,
   "id": "78d565ff-712d-4408-b2d5-bcb4c88b2cf7",
   "metadata": {
    "collapsed": true,
    "jupyter": {
     "outputs_hidden": true,
     "source_hidden": true
    }
   },
   "outputs": [],
   "source": []
  }
 ],
 "metadata": {
  "kernelspec": {
   "display_name": "Python (EconML)",
   "language": "python",
   "name": "econml"
  },
  "language_info": {
   "codemirror_mode": {
    "name": "ipython",
    "version": 3
   },
   "file_extension": ".py",
   "mimetype": "text/x-python",
   "name": "python",
   "nbconvert_exporter": "python",
   "pygments_lexer": "ipython3",
   "version": "3.11.5"
  }
 },
 "nbformat": 4,
 "nbformat_minor": 5
}
