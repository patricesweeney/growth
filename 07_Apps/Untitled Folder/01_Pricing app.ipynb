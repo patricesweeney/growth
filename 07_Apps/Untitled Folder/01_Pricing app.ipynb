{
 "cells": [
  {
   "cell_type": "markdown",
   "id": "a79e3f34",
   "metadata": {},
   "source": [
    "# Pat's startup"
   ]
  },
  {
   "cell_type": "markdown",
   "id": "2028988c-fe8e-48d0-8792-1699609a0962",
   "metadata": {},
   "source": [
    "# Product and market"
   ]
  },
  {
   "cell_type": "markdown",
   "id": "61498997-21fd-4835-838f-c5920cc1cce8",
   "metadata": {},
   "source": [
    "\n",
    "Our product is a straightforward, AI-driven tool for optimizing pricing in Series A/B SaaS companies. It quickly determines the most profitable prices, addressing key challenges faced by CEOs in this sector.\n",
    "\n",
    "**Core Functionality**\n",
    "Uses AI and econometrics to set optimal prices.\n",
    "Delivers results in minutes, not months.\n",
    "\n",
    "**Problem's Solved:**\n",
    "Tackles the opportunity cost of ineffective pricing.\n",
    "Eliminates the need for expensive consultants.\n",
    "Reduces the risk of revenue loss or growth slowdown due to poor pricing.\n",
    "\n",
    "**User Experience:**\n",
    "Designed for ease of use, making complex pricing strategies accessible.\n",
    "Addresses concerns about data privacy and method trustworthiness.\n",
    "\n",
    "**Risk Management:**\n",
    "Offers a money-back guarantee if it doesn't lead to immediate revenue uplift.\n",
    "Demonstrated effectiveness through case studies from companies X, Y, and Z.\n",
    "\n",
    "This tool empowers CEOs to make informed, data-backed pricing decisions efficiently, ensuring competitiveness in a fast-paced market."
   ]
  },
  {
   "cell_type": "markdown",
   "id": "01cd2777-61b2-411b-bd2e-fae77d01f5a4",
   "metadata": {},
   "source": [
    "# Problem definition"
   ]
  },
  {
   "cell_type": "code",
   "execution_count": 4,
   "id": "da3ad974-2ccb-4109-88f8-67ee163d9368",
   "metadata": {
    "jupyter": {
     "source_hidden": true
    }
   },
   "outputs": [
    {
     "data": {
      "image/png": "[encoded data removed]",
      "text/plain": [
       "<Figure size 800x500 with 1 Axes>"
      ]
     },
     "metadata": {},
     "output_type": "display_data"
    }
   ],
   "source": [
    "import matplotlib.pyplot as plt\n",
    "import networkx as nx\n",
    "\n",
    "# Create a directed graph\n",
    "G = nx.DiGraph()\n",
    "\n",
    "# Define nodes and edges\n",
    "nodes = [\"Price\", \"Choice\", \"Product Attributes\", \"Macro\", \"Budget Constraint\"]\n",
    "edges = [\n",
    "    (\"Price\", \"Choice\"),\n",
    "    (\"Product Attributes\", \"Choice\"),\n",
    "    (\"Product Attributes\", \"Price\"),\n",
    "    (\"Macro\", \"Budget Constraint\"),\n",
    "    (\"Budget Constraint\", \"Choice\")\n",
    "]\n",
    "\n",
    "# Add nodes and edges to the graph\n",
    "G.add_nodes_from(nodes)\n",
    "G.add_edges_from(edges)\n",
    "\n",
    "# Define positions for a DAG-like structure\n",
    "pos = {\n",
    "    \"Price\": (1, 1),\n",
    "    \"Choice\": (2, 0),\n",
    "    \"Product Attributes\": (0, 0),\n",
    "    \"Macro\": (0, -1),\n",
    "    \"Budget Constraint\": (1, -1)\n",
    "}\n",
    "\n",
    "# Define edge colors\n",
    "edge_colors = [\"green\" if edge == (\"Price\", \"Choice\") else \"red\" for edge in G.edges()]\n",
    "\n",
    "# Draw the graph\n",
    "plt.figure(figsize=(8, 5))\n",
    "nx.draw(G, pos, with_labels=True, node_color=\"skyblue\", edge_color=edge_colors, arrows=True, width=2, node_size=3000, font_size=10)\n",
    "plt.title(\"Pricing Problem (DAG)\")\n",
    "plt.show()\n"
   ]
  },
  {
   "cell_type": "markdown",
   "id": "69482aa1-3978-41ee-a8fe-1a25ba5eede8",
   "metadata": {},
   "source": [
    "# Discrete choice and random utility models\n",
    "\n",
    "### General specification\n",
    "\n",
    "Discrete choice models the probability of a consumer choosing $j$ MECE choices as a function of some attribute. A natural attribute is price.\n",
    "In the context product choice, this usually means an $N+1$-dimesional demand system with $N$ inside goods and 1 additional 'Other' or 'No purchase' option.\n",
    "\n",
    "In the eyes of the decision maker, each choice $i$ is associated with a utility $U_i$. The decision maker will choose the alternative with the highest $U$.\n",
    "\n",
    "However, $U$ is not entirely determinstic, so the 'choice' is expressed as a probability distribution over the alternatives. Total utility $U$ can be decomposed into a deterministic component $V_j$ (observable to researcher), and an unobserved random variable $\\epsilon_j$ which is Gumbel distributed.\n",
    "\n",
    "Define the utility for each individual $n$ and alternative $i$:\n",
    "$$\n",
    "U_{ni} = \\mathbf{X}_{ni} \\boldsymbol{\\beta}_n + \\epsilon_{ni}\n",
    "$$\n",
    "where:\n",
    "- $\\mathbf{X}_{ni}$ is a vector of observed variables for alternative $i$ and individual $n$.\n",
    "- $\\boldsymbol{\\beta}_n$ is a vector of coefficients, varying across individuals according to some distribution.\n",
    "- $\\epsilon_{ni}$ is the random error term for individual $n$ and alternative $i$, typically i.i.d. and following a Gumbel distribution.\n",
    "\n",
    "\n",
    "The probability of choosing option $i$, denoted as $P(i)$, is the probability that $U_i$ is greater than $U_j$ for all $j \\neq i$. Mathematically, this is expressed as:\n",
    "$$ P(i) = P(U_i > U_j \\, \\text{for all} \\, j \\neq i) $$\n",
    "Expanding this, we get:\n",
    "$$ P(i) = P(V_i + \\varepsilon_i > V_j + \\varepsilon_j \\, \\text{for all} \\, j \\neq i) $$\n",
    "\n",
    "In decision-theoretic notation, this can be expressed as the probability that option $i$ is strictly preferred to all other options $j$, for each $j \\neq i$\n",
    "$$ P(i) = P(\\succ_i \\text{ over all } j \\neq i) $$\n",
    "Expanding this in terms of utility components, where $U_i$ represents the utility of option $i$ and $U_j$ represents the utility of option $j$, and considering both deterministic ($V$) and random ($\\varepsilon$) components, we get:\n",
    "$$ P(i) = P(V_i + \\varepsilon_i \\succ V_j + \\varepsilon_j \\, \\text{for all } j \\neq i) $$\n",
    "\n",
    "Here, $\\succ$ denotes the strict preference relation, indicating that the utility (and thus the preference) for option $i$ is greater than that for any other option $j$. The deterministic component $V$ reflects the observable attributes and fixed parameters, while $\\varepsilon$ captures the unobserved, random factors influencing utility and preference.\n",
    "\n",
    "\n",
    "\n",
    "\n",
    "Returning to the linear specification of $U$, the random coefficients $\\boldsymbol{\\beta}_n$ are assumed to vary across individuals according to a distribution, often normal:\n",
    "$$\n",
    "\\boldsymbol{\\beta}_n \\sim \\mathcal{N}(\\boldsymbol{\\mu}, \\boldsymbol{\\Sigma})\n",
    "$$\n",
    "where $\\boldsymbol{\\mu}$ is the mean vector and $\\boldsymbol{\\Sigma}$ is the covariance matrix of the coefficients.\n",
    "\n",
    "The Gumbel distribution for the error term $\\epsilon_{ni}$ is specified as:\n",
    "$$\n",
    "\\epsilon_{ni} \\sim \\text{Gumbel}(\\mu_{\\epsilon}, \\beta_{\\epsilon})\n",
    "$$\n",
    "where $\\mu_{\\epsilon}$ is the location parameter and $\\beta_{\\epsilon}$ is the scale parameter.\n",
    "\n",
    "The choice probability $P_{ni}$ of individual $n$ choosing alternative $i$ is given by the integral over all possible values of $\\boldsymbol{\\beta}_n$ and the random error term:\n",
    "$$\n",
    "P_{ni} = \\int \\frac{\\exp(U_{ni}(\\boldsymbol{\\beta}_n, \\epsilon_{ni}))}{\\sum_{j} \\exp(U_{nj}(\\boldsymbol{\\beta}_n, \\epsilon_{ni}))} f(\\boldsymbol{\\beta}_n) \\, d\\boldsymbol{\\beta}_n\n",
    "$$\n",
    "where $f(\\boldsymbol{\\beta}_n)$ is the density function of $\\boldsymbol{\\beta}_n$.\n",
    "\n",
    "Due to the integral and the inclusion of the random error term, the choice probabilities in a Mixed Logit model are typically estimated using simulation methods, such as simulated maximum likelihood.\n",
    "\n"
   ]
  },
  {
   "cell_type": "markdown",
   "id": "c0dc3282-60a5-4c55-b630-78f3959c3567",
   "metadata": {
    "jp-MarkdownHeadingCollapsed": true
   },
   "source": [
    "### Price specification\n",
    "\n",
    "Define the utility for each individual $n$ and alternative $i$ (with $i = 1, 2, 3$) as a function of price:\n",
    "$$\n",
    "U_{ni} = \\beta_{ni} \\times \\text{Price}_{ni} + \\epsilon_{ni}\n",
    "$$\n",
    "where:\n",
    "- $\\beta_{ni}$ is the coefficient for price for individual $n$ and alternative $i$, varying across individuals.\n",
    "- $\\text{Price}_{ni}$ is the price of alternative $i$ for individual $n$.\n",
    "- $\\epsilon_{ni}$ is the random error term for individual $n$ and alternative $i$, typically i.i.d. and following a Gumbel distribution.\n",
    "\n",
    "The random coefficients $\\beta_{ni}$ for price are assumed to vary across individuals according to a distribution, often normal:\n",
    "$$\n",
    "\\beta_{ni} \\sim \\mathcal{N}(\\mu_{\\beta}, \\sigma_{\\beta}^2)\n",
    "$$\n",
    "where $\\mu_{\\beta}$ is the mean and $\\sigma_{\\beta}^2$ is the variance of the price coefficient.\n",
    "\n",
    "The Gumbel distribution for the error term $\\epsilon_{ni}$ is specified as:\n",
    "$$\n",
    "\\epsilon_{ni} \\sim \\text{Gumbel}(\\mu_{\\epsilon}, \\beta_{\\epsilon})\n",
    "$$\n",
    "where $\\mu_{\\epsilon}$ is the location parameter and $\\beta_{\\epsilon}$ is the scale parameter.\n",
    "\n",
    "The choice probability $P_{ni}$ of individual $n$ choosing alternative $i$ is given by the integral over all possible values of $\\beta_{ni}$ and the random error term:\n",
    "$$\n",
    "P_{ni} = \\int \\frac{\\exp(\\beta_{ni} \\times \\text{Price}_{ni} + \\epsilon_{ni})}{\\exp(\\beta_{n1} \\times \\text{Price}_{n1} + \\epsilon_{n1}) + \\exp(\\beta_{n2} \\times \\text{Price}_{n2} + \\epsilon_{n2}) + \\exp(\\beta_{n3} \\times \\text{Price}_{n3} + \\epsilon_{n3})} f(\\beta_{ni}) \\, d\\beta_{ni}\n",
    "$$\n",
    "where $f(\\beta_{ni})$ is the density function of $\\beta_{ni}$.\n",
    "\n",
    "\n",
    "Due to the integral and the inclusion of the random error term, the choice probabilities in a Mixed Logit model are typically estimated using simulation methods, such as simulated maximum likelihood.\n",
    "\n"
   ]
  },
  {
   "cell_type": "markdown",
   "id": "bcfd182f-ec7b-41ed-8a7d-1a540411d313",
   "metadata": {},
   "source": [
    "# Import"
   ]
  },
  {
   "cell_type": "markdown",
   "id": "211d59ea",
   "metadata": {},
   "source": [
    "### Import data\n",
    "\n",
    "Firstly, we bring in our data. We require the user to upload transaction data of all their historical paid conversions. In general, more data is better.\n",
    "\n",
    "We need five variables:\n",
    "\n",
    "- An anonymised, unique identifier for the customer\n",
    "- The name of the product that was purchased\n",
    "- The price of the product that was purchased\n",
    "- The number of units of the product purchased\n",
    "- The revenue of the purchase\n",
    "\n",
    "If privacy is an issue, we encourage customers to "
   ]
  },
  {
   "cell_type": "code",
   "execution_count": 79,
   "id": "3ec5b758",
   "metadata": {},
   "outputs": [
    {
     "data": {
      "text/html": [
       "<div>\n",
       "<style scoped>\n",
       "    .dataframe tbody tr th:only-of-type {\n",
       "        vertical-align: middle;\n",
       "    }\n",
       "\n",
       "    .dataframe tbody tr th {\n",
       "        vertical-align: top;\n",
       "    }\n",
       "\n",
       "    .dataframe thead th {\n",
       "        text-align: right;\n",
       "    }\n",
       "</style>\n",
       "<table border=\"1\" class=\"dataframe\">\n",
       "  <thead>\n",
       "    <tr style=\"text-align: right;\">\n",
       "      <th></th>\n",
       "      <th>id</th>\n",
       "      <th>product</th>\n",
       "      <th>revenue</th>\n",
       "      <th>volume</th>\n",
       "      <th>price</th>\n",
       "    </tr>\n",
       "  </thead>\n",
       "  <tbody>\n",
       "    <tr>\n",
       "      <th>0</th>\n",
       "      <td>d4a531d7-c73b-4d28-badf-e38d99d637f9</td>\n",
       "      <td>Starter</td>\n",
       "      <td>18.0</td>\n",
       "      <td>1</td>\n",
       "      <td>18.0</td>\n",
       "    </tr>\n",
       "    <tr>\n",
       "      <th>1</th>\n",
       "      <td>7b1ebf39-f6c6-4b8e-ba80-715b2a346413</td>\n",
       "      <td>Team</td>\n",
       "      <td>90.0</td>\n",
       "      <td>3</td>\n",
       "      <td>30.0</td>\n",
       "    </tr>\n",
       "    <tr>\n",
       "      <th>2</th>\n",
       "      <td>e350df96-c3f4-4768-be1e-86c4fd32f39d</td>\n",
       "      <td>Team</td>\n",
       "      <td>105.0</td>\n",
       "      <td>3</td>\n",
       "      <td>35.0</td>\n",
       "    </tr>\n",
       "    <tr>\n",
       "      <th>3</th>\n",
       "      <td>b4d3bcc4-4045-49b8-9639-d3082fd03cf1</td>\n",
       "      <td>Starter</td>\n",
       "      <td>18.0</td>\n",
       "      <td>2</td>\n",
       "      <td>9.0</td>\n",
       "    </tr>\n",
       "    <tr>\n",
       "      <th>4</th>\n",
       "      <td>1249c200-3688-4c28-8a77-57974d303578</td>\n",
       "      <td>Team</td>\n",
       "      <td>180.0</td>\n",
       "      <td>6</td>\n",
       "      <td>30.0</td>\n",
       "    </tr>\n",
       "  </tbody>\n",
       "</table>\n",
       "</div>"
      ],
      "text/plain": [
       "                                     id  product  revenue  volume  price\n",
       "0  d4a531d7-c73b-4d28-badf-e38d99d637f9  Starter     18.0       1   18.0\n",
       "1  7b1ebf39-f6c6-4b8e-ba80-715b2a346413     Team     90.0       3   30.0\n",
       "2  e350df96-c3f4-4768-be1e-86c4fd32f39d     Team    105.0       3   35.0\n",
       "3  b4d3bcc4-4045-49b8-9639-d3082fd03cf1  Starter     18.0       2    9.0\n",
       "4  1249c200-3688-4c28-8a77-57974d303578     Team    180.0       6   30.0"
      ]
     },
     "execution_count": 79,
     "metadata": {},
     "output_type": "execute_result"
    }
   ],
   "source": [
    "def import_data():\n",
    "    import pandas as pd\n",
    "    file_path = '/Users/patricksweeney/growth/07_Apps/Untitled Folder/Disaggregate models/Choice data 2.xlsx'\n",
    "    data = pd.read_excel(file_path)\n",
    "    return data\n",
    "\n",
    "data = import_data()\n",
    "data.head()"
   ]
  },
  {
   "cell_type": "markdown",
   "id": "8028c883-2fd4-4009-bd60-ccde1186537d",
   "metadata": {},
   "source": [
    "### Other inputs\n",
    "\n",
    "Apart from this data, we need a few additional pieces of info, and it's important we collect it in a user-friendly way:\n",
    "- Total revenue, customers, and users as of today (in case the sample is partial, need it for lift)\n",
    "- 'Order' of packages (i.e. which one is lowest priced, which one is highest price) — actually, probably can figure this out ourself\n",
    "- If they're deleting a package, which one are they deleting.\n",
    "- Which packages are self-serve, which ones are Enterprise."
   ]
  },
  {
   "cell_type": "markdown",
   "id": "62171f7e",
   "metadata": {},
   "source": [
    "### Check the data"
   ]
  },
  {
   "cell_type": "markdown",
   "id": "452b21e8-e669-4855-b4a0-67610ac47c84",
   "metadata": {},
   "source": [
    "We check the data to make sure nothing strange is going on. We want to confirm that:\n",
    "- All IDs are unique\n",
    "- $R = P \\times V$\n",
    "- $R > 0$\n",
    "- $P > 0$\n",
    "- $V > 0$"
   ]
  },
  {
   "cell_type": "code",
   "execution_count": 56,
   "id": "50c1962e-6a8b-47ad-9bad-f53f3f73c222",
   "metadata": {
    "collapsed": true,
    "jupyter": {
     "outputs_hidden": true,
     "source_hidden": true
    }
   },
   "outputs": [
    {
     "name": "stdout",
     "output_type": "stream",
     "text": [
      "All IDs are unique.\n",
      "Total Revenue equals total Price times Volume.\n",
      "All revenue values are greater than 0.\n",
      "All price values are greater than 0.\n",
      "All volume values are greater than 0.\n"
     ]
    }
   ],
   "source": [
    "def check_data(data):\n",
    "    # Check for unique IDs\n",
    "    total_rows = len(data)\n",
    "    duplicate_ids = total_rows - data['id'].nunique()\n",
    "    if duplicate_ids > 0:\n",
    "        duplicate_percentage = (duplicate_ids / total_rows) * 100\n",
    "        print(f\"Warning: {duplicate_percentage:.2f}% of the rows have duplicate IDs.\")\n",
    "    else:\n",
    "        print(\"All IDs are unique.\")\n",
    "\n",
    "    # Compare total sum of revenue to sumproduct of price and volume\n",
    "    total_revenue = data['revenue'].sum()\n",
    "    total_price_volume = (data['price'] * data['volume']).sum()\n",
    "    if total_revenue != total_price_volume:\n",
    "        difference = total_price_volume - total_revenue\n",
    "        percentage_difference = (difference / total_revenue) * 100\n",
    "        print(f\"Warning: Total P x V is {percentage_difference:.2f}% {'greater' if difference > 0 else 'less'} than total Revenue.\")\n",
    "    else:\n",
    "        print(\"Total Revenue equals total Price times Volume.\")\n",
    "\n",
    "    # Check if revenue, price, volume are greater than 0 and calculate percentages\n",
    "    for column in ['revenue', 'price', 'volume']:\n",
    "        incorrect_values = data[data[column] <= 0]\n",
    "        if not incorrect_values.empty:\n",
    "            incorrect_percentage = (len(incorrect_values) / total_rows) * 100\n",
    "            print(f\"Warning: {incorrect_percentage:.2f}% of {column} values are not greater than 0.\")\n",
    "        else:\n",
    "            print(f\"All {column} values are greater than 0.\")\n",
    "\n",
    "# Example usage\n",
    "check_data(data)\n"
   ]
  },
  {
   "cell_type": "markdown",
   "id": "2799d8a9",
   "metadata": {},
   "source": [
    "# Summary statistics"
   ]
  },
  {
   "cell_type": "markdown",
   "id": "84e93d30",
   "metadata": {},
   "source": [
    "### Business-level summary\n",
    "\n",
    "The business level summary gives the user a bird's eye view of their business. None of this information should be new to them, but it helps them have faith we've gotten the data properly.\n",
    "\n",
    "We want to show them a page which confirms the size and main statistics of the sample:\n",
    "\n",
    "- Total revenue\n",
    "- Total customers\n",
    "- Total users\n",
    "- ARPA\n",
    "- ARPU\n",
    "\n",
    "It's probably a good idea for them to enter their total revenue, so we can print all of this out as a percentage. This will also let us calculate lift down the line.  Or maybe we just ask them for everything?"
   ]
  },
  {
   "cell_type": "code",
   "execution_count": 41,
   "id": "a6b0d926-92a2-404e-af5a-979ef98bd266",
   "metadata": {
    "collapsed": true,
    "jupyter": {
     "outputs_hidden": true,
     "source_hidden": true
    }
   },
   "outputs": [
    {
     "name": "stdout",
     "output_type": "stream",
     "text": [
      "Total revenue: $776,904.33\n",
      "\n",
      "Total customers: 2974\n",
      "Average revenue per customer: $261.23\n",
      "\n",
      "Total users: 15186\n",
      "Average revenue per user: $51.16\n",
      "\n"
     ]
    }
   ],
   "source": [
    "def revenue_summary(data):\n",
    "    import pandas as pd\n",
    "\n",
    "    # Calculate total revenue\n",
    "    total_revenue = data['revenue'].sum()\n",
    "    print(f\"Total revenue: ${total_revenue:,.2f}\")\n",
    "    print()\n",
    "\n",
    "    # Calculate total number of distinct customers\n",
    "    total_customers = data['id'].nunique()\n",
    "    print(f\"Total customers: {total_customers}\")\n",
    "\n",
    "    # Calculate Average Revenue Per Account (ARPA)\n",
    "    if total_customers > 0:\n",
    "        arpa = total_revenue / total_customers\n",
    "        print(f\"Average revenue per customer: ${arpa:,.2f}\")\n",
    "    else:\n",
    "        print(\"Average revenue per customer: N/A\")\n",
    "    print()\n",
    "\n",
    "    # Calculate total volume\n",
    "    total_volume = data['volume'].sum()\n",
    "    print(f\"Total users: {total_volume}\")\n",
    "\n",
    "    # Calculate Average Revenue Per User Account (ARPUA)\n",
    "    if total_volume > 0:\n",
    "        arpua = total_revenue / total_volume\n",
    "        print(f\"Average revenue per user: ${arpua:,.2f}\")\n",
    "    else:\n",
    "        print(\"Average revenue per user: N/A\")\n",
    "    print()\n",
    "\n",
    "\n",
    "revenue_summary(data)\n"
   ]
  },
  {
   "cell_type": "markdown",
   "id": "91e0033c-08c5-4f1f-80bd-52bcd20f2c92",
   "metadata": {},
   "source": [
    "### Product-level summary\n",
    "\n",
    "Next, we want to go one level deeper and summarise each product with plots. For each product, we're after:\n",
    "\n",
    "- Revenue mix\n",
    "- Customer mix\n",
    "- User mix\n",
    "- ARPA\n",
    "- ARPU"
   ]
  },
  {
   "cell_type": "code",
   "execution_count": 43,
   "id": "590b81df-8a37-47d0-9823-13daef9aa6ff",
   "metadata": {
    "collapsed": true,
    "jupyter": {
     "outputs_hidden": true,
     "source_hidden": true
    }
   },
   "outputs": [
    {
     "data": {
      "image/png": "[encoded data removed]",
      "text/plain": [
       "<Figure size 640x480 with 1 Axes>"
      ]
     },
     "metadata": {},
     "output_type": "display_data"
    },
    {
     "data": {
      "image/png": "[encoded data removed]",
      "text/plain": [
       "<Figure size 640x480 with 1 Axes>"
      ]
     },
     "metadata": {},
     "output_type": "display_data"
    },
    {
     "data": {
      "image/png": "[encoded data removed]",
      "text/plain": [
       "<Figure size 640x480 with 1 Axes>"
      ]
     },
     "metadata": {},
     "output_type": "display_data"
    },
    {
     "data": {
      "image/png": "[encoded data removed]",
      "text/plain": [
       "<Figure size 640x480 with 1 Axes>"
      ]
     },
     "metadata": {},
     "output_type": "display_data"
    },
    {
     "data": {
      "image/png": "[encoded data removed]",
      "text/plain": [
       "<Figure size 640x480 with 1 Axes>"
      ]
     },
     "metadata": {},
     "output_type": "display_data"
    }
   ],
   "source": [
    "def package_summary(data):\n",
    "    import seaborn as sns\n",
    "    import matplotlib.pyplot as plt\n",
    "    \n",
    "    # Set Seaborn dark theme\n",
    "    sns.set_theme(style=\"darkgrid\")\n",
    "\n",
    "    # Helper function to plot bar chart\n",
    "    def plot_bar_chart(series, title, ylabel, value_format):\n",
    "        ax = sns.barplot(x=series.index, y=series.values)\n",
    "        ax.set_title(title)\n",
    "        ax.set_ylabel(ylabel)\n",
    "        for p in ax.patches:\n",
    "            ax.annotate(value_format.format(p.get_height()), \n",
    "                        (p.get_x() + p.get_width() / 2., p.get_height()), \n",
    "                        ha='center', va='center', \n",
    "                        xytext=(0, 9), \n",
    "                        textcoords='offset points')\n",
    "        plt.show()\n",
    "\n",
    "    # Percentage of revenue by product\n",
    "    revenue_percent = data.groupby('product')['revenue'].sum() / data['revenue'].sum() * 100\n",
    "    plot_bar_chart(revenue_percent, 'Percentage of Revenue by Product', 'Percentage', '{:.0f}%')\n",
    "\n",
    "    # Percentage of customers by product\n",
    "    customer_percent = data.groupby('product')['id'].nunique() / data['id'].nunique() * 100\n",
    "    plot_bar_chart(customer_percent, 'Percentage of Customers by Product', 'Percentage', '{:.0f}%')\n",
    "\n",
    "    # Percentage of users by product\n",
    "    user_percent = data.groupby('product')['volume'].sum() / data['volume'].sum() * 100\n",
    "    plot_bar_chart(user_percent, 'Percentage of Users by Product', 'Percentage', '{:.0f}%')\n",
    "\n",
    "    # ARPA by package\n",
    "    arpa_by_package = data.groupby('product')['revenue'].sum() / data.groupby('product')['id'].nunique()\n",
    "    plot_bar_chart(arpa_by_package, 'ARPA by Package', 'ARPA ($)', '${:.0f}')\n",
    "\n",
    "    # ARPU by package\n",
    "    arpu_by_package = data.groupby('product')['revenue'].sum() / data.groupby('product')['volume'].sum()\n",
    "    plot_bar_chart(arpu_by_package, 'ARPU by Package', 'ARPU ($)', '${:.0f}')\n",
    "\n",
    "package_summary(data)\n"
   ]
  },
  {
   "cell_type": "markdown",
   "id": "e844faa2-d2ff-4994-982a-751790d80fc7",
   "metadata": {},
   "source": [
    "### Statistical distributions\n",
    "\n",
    "We are interested in the best fitting distribution of price and volume to see how well-behaved the system we're dealing with is."
   ]
  },
  {
   "cell_type": "code",
   "execution_count": 60,
   "id": "45b782a1-928c-411f-9d40-8c188629e0c2",
   "metadata": {
    "collapsed": true,
    "jupyter": {
     "outputs_hidden": true,
     "source_hidden": true
    }
   },
   "outputs": [
    {
     "name": "stdout",
     "output_type": "stream",
     "text": [
      "Product: Starter, Price - CoV: 0.25, Normalized Entropy: 0.31, Best Fit: lognorm\n",
      "Product: Starter, Volume - CoV: 1.18, Normalized Entropy: 0.34, Best Fit: beta\n",
      "Product: Team, Price - CoV: 0.38, Normalized Entropy: 0.50, Best Fit: gamma\n",
      "Product: Team, Volume - CoV: 0.75, Normalized Entropy: 0.49, Best Fit: beta\n",
      "Product: Business, Price - CoV: 0.38, Normalized Entropy: 0.39, Best Fit: gamma\n",
      "Product: Business, Volume - CoV: 0.96, Normalized Entropy: 0.50, Best Fit: lognorm\n",
      "Product: Enterprise, Price - CoV: 0.70, Normalized Entropy: 0.67, Best Fit: gamma\n",
      "Product: Enterprise, Volume - CoV: 1.50, Normalized Entropy: 0.60, Best Fit: lognorm\n"
     ]
    }
   ],
   "source": [
    "def fit_distributions(data):\n",
    "    import pandas as pd\n",
    "    import numpy as np\n",
    "    from scipy.stats import entropy\n",
    "    from fitter import Fitter\n",
    "\n",
    "    def calculate_cov_and_normalized_entropy(data):\n",
    "        cv = np.std(data) / np.mean(data)\n",
    "        # Normalizing the entropy\n",
    "        sh_entropy = entropy(np.histogram(data, bins=30)[0], base=2)\n",
    "        max_entropy = np.log2(len(np.unique(data)))\n",
    "        normalized_entropy = sh_entropy / max_entropy if max_entropy > 0 else 0\n",
    "        return cv, normalized_entropy\n",
    "\n",
    "    def find_best_fit_distribution(data):\n",
    "        f = Fitter(data, distributions=['gamma', 'lognorm', 'beta', 'expon', 'norm'])\n",
    "        f.fit()\n",
    "        best_fit = f.get_best(method='sumsquare_error')\n",
    "        best_distr_name = list(best_fit.keys())[0]\n",
    "        return best_distr_name\n",
    "\n",
    "    products = data['product'].unique()\n",
    "\n",
    "    for product in products:\n",
    "        product_data = data[data['product'] == product]\n",
    "        \n",
    "        # Price Analysis\n",
    "        price_cv, price_normalized_entropy = calculate_cov_and_normalized_entropy(product_data['price'])\n",
    "        price_best_fit = find_best_fit_distribution(product_data['price'])\n",
    "        print(f'Product: {product}, Price - CoV: {price_cv:.2f}, Normalized Entropy: {price_normalized_entropy:.2f}, Best Fit: {price_best_fit}')\n",
    "\n",
    "        # Volume Analysis\n",
    "        volume_cv, volume_normalized_entropy = calculate_cov_and_normalized_entropy(product_data['volume'])\n",
    "        volume_best_fit = find_best_fit_distribution(product_data['volume'])\n",
    "        print(f'Product: {product}, Volume - CoV: {volume_cv:.2f}, Normalized Entropy: {volume_normalized_entropy:.2f}, Best Fit: {volume_best_fit}')\n",
    "\n",
    "fit_distributions(data)\n"
   ]
  },
  {
   "cell_type": "markdown",
   "id": "4a05f118-d5ea-4fdf-ba0a-fc0a60d512e0",
   "metadata": {},
   "source": [
    "# Data processing"
   ]
  },
  {
   "cell_type": "markdown",
   "id": "1f744967-f11d-4b74-8581-933fb5cd20cb",
   "metadata": {},
   "source": [
    "### Add the 'No-Purchase' option\n",
    "\n",
    "If a business has $N$ packages, this is not a MECE choice set as there is always the option to purchase nothing (or churn).  \n",
    "Therefore we require $N+1$ goods in the demand system.\n",
    "\n",
    "We can back out the proportion of 'No-purchase' directly from the business's paid conversion rate.  If we started with $n$ observed paid conversions (choices),\n",
    "\n",
    "$$Paid \\space CVR = \\dfrac{n}{N}$$\n",
    "\n",
    "$$N = \\dfrac{n}{ Paid \\space CVR}$$\n",
    "\n",
    "we can get the total number of choices (including no-purchase choices) by dividing $n$ by the paid conversion rate.\n"
   ]
  },
  {
   "cell_type": "code",
   "execution_count": 80,
   "id": "60d9c8af-7897-471f-ad93-b775b850ce0b",
   "metadata": {},
   "outputs": [
    {
     "name": "stdout",
     "output_type": "stream",
     "text": [
      "Total number of rows: 3097\n",
      "Number of unique IDs: 3097\n"
     ]
    },
    {
     "data": {
      "text/html": [
       "<div>\n",
       "<style scoped>\n",
       "    .dataframe tbody tr th:only-of-type {\n",
       "        vertical-align: middle;\n",
       "    }\n",
       "\n",
       "    .dataframe tbody tr th {\n",
       "        vertical-align: top;\n",
       "    }\n",
       "\n",
       "    .dataframe thead th {\n",
       "        text-align: right;\n",
       "    }\n",
       "</style>\n",
       "<table border=\"1\" class=\"dataframe\">\n",
       "  <thead>\n",
       "    <tr style=\"text-align: right;\">\n",
       "      <th></th>\n",
       "      <th>id</th>\n",
       "      <th>product</th>\n",
       "      <th>revenue</th>\n",
       "      <th>volume</th>\n",
       "      <th>price</th>\n",
       "    </tr>\n",
       "  </thead>\n",
       "  <tbody>\n",
       "    <tr>\n",
       "      <th>3092</th>\n",
       "      <td>f788aebb-f5e9-42d4-8ae3-672401248ae0</td>\n",
       "      <td>Other</td>\n",
       "      <td>NaN</td>\n",
       "      <td>1</td>\n",
       "      <td>0.0</td>\n",
       "    </tr>\n",
       "    <tr>\n",
       "      <th>3093</th>\n",
       "      <td>9382b80c-6912-45e7-9ac0-d4ad71f881ce</td>\n",
       "      <td>Other</td>\n",
       "      <td>NaN</td>\n",
       "      <td>1</td>\n",
       "      <td>0.0</td>\n",
       "    </tr>\n",
       "    <tr>\n",
       "      <th>3094</th>\n",
       "      <td>745b91c1-245b-46f1-9648-1af7d7b42d2c</td>\n",
       "      <td>Other</td>\n",
       "      <td>NaN</td>\n",
       "      <td>1</td>\n",
       "      <td>0.0</td>\n",
       "    </tr>\n",
       "    <tr>\n",
       "      <th>3095</th>\n",
       "      <td>62fe2fac-c6e6-414e-b22d-6d87cd3ecd66</td>\n",
       "      <td>Other</td>\n",
       "      <td>NaN</td>\n",
       "      <td>1</td>\n",
       "      <td>0.0</td>\n",
       "    </tr>\n",
       "    <tr>\n",
       "      <th>3096</th>\n",
       "      <td>844e3c86-bf5b-40b1-b992-fd7689ae7768</td>\n",
       "      <td>Other</td>\n",
       "      <td>NaN</td>\n",
       "      <td>1</td>\n",
       "      <td>0.0</td>\n",
       "    </tr>\n",
       "  </tbody>\n",
       "</table>\n",
       "</div>"
      ],
      "text/plain": [
       "                                        id product  revenue  volume  price\n",
       "3092  f788aebb-f5e9-42d4-8ae3-672401248ae0   Other      NaN       1    0.0\n",
       "3093  9382b80c-6912-45e7-9ac0-d4ad71f881ce   Other      NaN       1    0.0\n",
       "3094  745b91c1-245b-46f1-9648-1af7d7b42d2c   Other      NaN       1    0.0\n",
       "3095  62fe2fac-c6e6-414e-b22d-6d87cd3ecd66   Other      NaN       1    0.0\n",
       "3096  844e3c86-bf5b-40b1-b992-fd7689ae7768   Other      NaN       1    0.0"
      ]
     },
     "execution_count": 80,
     "metadata": {},
     "output_type": "execute_result"
    }
   ],
   "source": [
    "def add_nopurchase_option(data, paid_conversion_rate):\n",
    "    import pandas as pd\n",
    "    import numpy as np\n",
    "    import uuid\n",
    "    \n",
    "    # Calculate the number of 'Other' rows to add\n",
    "    current_count = len(data)\n",
    "    total_count_needed = current_count / paid_conversion_rate\n",
    "    other_count = int(total_count_needed - current_count)\n",
    "\n",
    "    # Create a DataFrame for 'Other' choices\n",
    "    other_data = pd.DataFrame({\n",
    "        'product': ['Other'] * other_count,\n",
    "        'price': [0] * other_count,\n",
    "        'volume': [1] * other_count,\n",
    "        # Add other columns as None\n",
    "    })\n",
    "\n",
    "    # Add other columns as None\n",
    "    for col in data.columns:\n",
    "        if col not in other_data:\n",
    "            other_data[col] = np.nan\n",
    "\n",
    "    # Generate unique UUIDs for the new rows\n",
    "    other_data['id'] = [str(uuid.uuid4()) for _ in range(other_count)]\n",
    "\n",
    "    # Append the 'Other' data to the original data\n",
    "    updated_data = pd.concat([data, other_data], ignore_index=True)\n",
    "\n",
    "    # Print the number of rows and the number of unique IDs\n",
    "    print(f\"Total number of rows: {len(updated_data)}\")\n",
    "    print(f\"Number of unique IDs: {updated_data['id'].nunique()}\")\n",
    "\n",
    "    return updated_data\n",
    "\n",
    "# Example usage\n",
    "data = add_nopurchase_option(data, 0.96)\n",
    "data.head()\n",
    "data.tail()"
   ]
  },
  {
   "cell_type": "markdown",
   "id": "bf5a5fce-18e0-46eb-8ea7-d8f1ee6924ec",
   "metadata": {},
   "source": [
    "### Duplicate choices with volume > 1\n",
    "\n",
    "We have two options for dealing with the fact that people purchase differing volumes of different packages:\n",
    "1. Fit a discrete model\n",
    "2. Treat incremental volume > 1 as a fresh choice which is repeated with no alternatives\n",
    "3. Treat incremental volume > 1 as a fresh choice which is repeated with no alternatives as an unbalanced panel\n",
    "\n",
    "We opt for option 2.\n"
   ]
  },
  {
   "cell_type": "code",
   "execution_count": 81,
   "id": "677ae1a4-142d-465b-b773-aa4c1fa12189",
   "metadata": {},
   "outputs": [
    {
     "name": "stdout",
     "output_type": "stream",
     "text": [
      "Total number of rows: 15309\n"
     ]
    }
   ],
   "source": [
    "def duplicate_volume_choices(data):\n",
    "    import pandas as pd\n",
    "    import uuid\n",
    "\n",
    "    # Ensure the original data has the 'available' column set to 1\n",
    "    data['available'] = 1\n",
    "\n",
    "    # Add a 'panel' column with unique UUIDs\n",
    "    data['panel'] = [uuid.uuid4() for _ in range(len(data))]\n",
    "\n",
    "    # Create an empty DataFrame to store the results\n",
    "    result_df = pd.DataFrame()\n",
    "\n",
    "    # Iterate over each row\n",
    "    for index, row in data.iterrows():\n",
    "        row_volume = row['volume']  # Directly reference the 'volume' column\n",
    "        \n",
    "        # Check if volume is greater than 1\n",
    "        if row_volume > 1:\n",
    "            # Duplicate the row volume - 1 times and set 'available' to 0\n",
    "            row_copy = row.copy()\n",
    "            row_copy['available'] = 1\n",
    "            duplicates = pd.DataFrame([row_copy] * (int(row_volume) - 1))\n",
    "            result_df = pd.concat([result_df, duplicates], ignore_index=True)\n",
    "    \n",
    "    # Combine the original data with the duplicated rows\n",
    "    return pd.concat([data, result_df], ignore_index=True)\n",
    "\n",
    "\n",
    "data = duplicate_volume_choices(data)\n",
    "data.head()\n",
    "print(f\"Total number of rows: {len(data)}\")\n"
   ]
  },
  {
   "cell_type": "markdown",
   "id": "32771823-a53c-41eb-ab83-e7dc86e1e920",
   "metadata": {},
   "source": [
    "### Duplicate choices to take account of alternatives\n",
    "\n",
    "Currently, each 'choice' (including incremental volume purchases) only has one row. We need to duplicate each choice to take account of the $J-1$ alternatives."
   ]
  },
  {
   "cell_type": "code",
   "execution_count": 82,
   "id": "75c240e1-8bda-4188-87bf-d2a96fd2cc37",
   "metadata": {},
   "outputs": [],
   "source": [
    "def declare_alternatives(data):\n",
    "    import pandas as pd\n",
    "\n",
    "    # Fixed column names\n",
    "    choice_column = 'product'\n",
    "    price_column = 'price'\n",
    "    volume_column = 'volume'\n",
    "\n",
    "    # Rename the 'product' column to 'choice'\n",
    "    data = data.rename(columns={choice_column: 'choice'})\n",
    "\n",
    "    # Calculate the average price for each choice\n",
    "    avg_price = data.groupby('choice')[price_column].mean()\n",
    "\n",
    "    # Get the unique choices\n",
    "    choices = data['choice'].unique()\n",
    "\n",
    "    # Create a price and volume column for each choice\n",
    "    for c in choices:\n",
    "        data[f'price_{c}'] = data.apply(lambda x: x[price_column] if x['choice'] == c else avg_price[c], axis=1)\n",
    "        data[f'volume_{c}'] = data[volume_column]\n",
    "\n",
    "    # Drop the original price and volume columns\n",
    "    data = data.drop(columns=[price_column, volume_column])\n",
    "\n",
    "    return data\n",
    "\n",
    "# Example usage\n",
    "data = declare_alternatives(data)\n"
   ]
  },
  {
   "cell_type": "markdown",
   "id": "e30f3ce7",
   "metadata": {},
   "source": [
    "### Pivot data long"
   ]
  },
  {
   "cell_type": "code",
   "execution_count": 83,
   "id": "681b0dcc",
   "metadata": {},
   "outputs": [],
   "source": [
    "def make_data_long(data):\n",
    "    from xlogit.utils import wide_to_long\n",
    "    import uuid\n",
    "\n",
    "    # Fixed column names\n",
    "    id_col = 'id'\n",
    "    choice = 'choice'\n",
    "\n",
    "    # Get unique alternatives from the choice column\n",
    "    alt_list = data[choice].unique().tolist()\n",
    "\n",
    "    # Convert the data from wide to long format\n",
    "    data_long = wide_to_long(data, id_col=id_col, alt_list=alt_list, \n",
    "                             varying=['price', 'volume'], alt_name='alt', sep='_', alt_is_prefix=False)\n",
    "\n",
    "    # Assign a unique identifier to each row in the workspace_id column\n",
    "    data_long[id_col] = [str(uuid.uuid4()) for _ in range(len(data_long))]\n",
    "\n",
    "    return data_long\n",
    "\n",
    "\n",
    "# Example usage\n",
    "data = make_data_long(data)\n"
   ]
  },
  {
   "cell_type": "markdown",
   "id": "15ced179-f2aa-491d-b74d-8dd2ce3bc58d",
   "metadata": {},
   "source": [
    "### Standardize price"
   ]
  },
  {
   "cell_type": "markdown",
   "id": "1f5cf599-f65c-4092-b453-134ecc329926",
   "metadata": {},
   "source": [
    "Let $P_o$ be the original price, $P_s$ be the standardized price, \n",
    "$\\mu_o$ be the mean of the original prices, and $\\sigma_o$ be the \n",
    "standard deviation of the original prices.\n",
    "\n",
    "The standardization transformation is defined as:\n",
    "$$ P_s = \\frac{P_o - \\mu_o}{\\sigma_o} $$\n",
    "\n",
    "To reverse this transformation and recover the original price, the following \n",
    "formula is used:\n",
    "$$ P_o = (P_s \\times \\sigma_o) + \\mu_o $$\n"
   ]
  },
  {
   "cell_type": "code",
   "execution_count": 87,
   "id": "33ffd786-f6e7-4e75-b600-dc411732c860",
   "metadata": {},
   "outputs": [
    {
     "name": "stdout",
     "output_type": "stream",
     "text": [
      "Mean (mu): 55.25, Standard Deviation (sigma): 53.87\n",
      "Price has been scaled by a factor of: -0.04\n"
     ]
    },
    {
     "data": {
      "text/html": [
       "<div>\n",
       "<style scoped>\n",
       "    .dataframe tbody tr th:only-of-type {\n",
       "        vertical-align: middle;\n",
       "    }\n",
       "\n",
       "    .dataframe tbody tr th {\n",
       "        vertical-align: top;\n",
       "    }\n",
       "\n",
       "    .dataframe thead th {\n",
       "        text-align: right;\n",
       "    }\n",
       "</style>\n",
       "<table border=\"1\" class=\"dataframe\">\n",
       "  <thead>\n",
       "    <tr style=\"text-align: right;\">\n",
       "      <th></th>\n",
       "      <th>id</th>\n",
       "      <th>alt</th>\n",
       "      <th>price</th>\n",
       "      <th>volume</th>\n",
       "      <th>choice</th>\n",
       "      <th>revenue</th>\n",
       "      <th>available</th>\n",
       "      <th>panel</th>\n",
       "    </tr>\n",
       "  </thead>\n",
       "  <tbody>\n",
       "    <tr>\n",
       "      <th>0</th>\n",
       "      <td>2d92e7e3-bf4d-44cd-87af-a799f56e7307</td>\n",
       "      <td>Starter</td>\n",
       "      <td>-0.691549</td>\n",
       "      <td>1</td>\n",
       "      <td>Starter</td>\n",
       "      <td>18.0</td>\n",
       "      <td>1</td>\n",
       "      <td>eabbb100-cf06-4300-8f48-b3f1f16f179c</td>\n",
       "    </tr>\n",
       "    <tr>\n",
       "      <th>1</th>\n",
       "      <td>38926d9e-86b6-4e3e-bf90-0bb3a8752805</td>\n",
       "      <td>Team</td>\n",
       "      <td>-0.237293</td>\n",
       "      <td>1</td>\n",
       "      <td>Starter</td>\n",
       "      <td>18.0</td>\n",
       "      <td>1</td>\n",
       "      <td>eabbb100-cf06-4300-8f48-b3f1f16f179c</td>\n",
       "    </tr>\n",
       "    <tr>\n",
       "      <th>2</th>\n",
       "      <td>7aa740a3-ab90-4a05-a791-31524700d10d</td>\n",
       "      <td>Business</td>\n",
       "      <td>0.249215</td>\n",
       "      <td>1</td>\n",
       "      <td>Starter</td>\n",
       "      <td>18.0</td>\n",
       "      <td>1</td>\n",
       "      <td>eabbb100-cf06-4300-8f48-b3f1f16f179c</td>\n",
       "    </tr>\n",
       "    <tr>\n",
       "      <th>3</th>\n",
       "      <td>29cb8124-7dfb-43e5-8d1f-fb566b99644b</td>\n",
       "      <td>Enterprise</td>\n",
       "      <td>1.722638</td>\n",
       "      <td>1</td>\n",
       "      <td>Starter</td>\n",
       "      <td>18.0</td>\n",
       "      <td>1</td>\n",
       "      <td>eabbb100-cf06-4300-8f48-b3f1f16f179c</td>\n",
       "    </tr>\n",
       "    <tr>\n",
       "      <th>4</th>\n",
       "      <td>4aa0edcb-cfb7-47b3-a9e6-d11d93abef55</td>\n",
       "      <td>Other</td>\n",
       "      <td>-1.025700</td>\n",
       "      <td>1</td>\n",
       "      <td>Starter</td>\n",
       "      <td>18.0</td>\n",
       "      <td>1</td>\n",
       "      <td>eabbb100-cf06-4300-8f48-b3f1f16f179c</td>\n",
       "    </tr>\n",
       "  </tbody>\n",
       "</table>\n",
       "</div>"
      ],
      "text/plain": [
       "                                     id         alt     price  volume  \\\n",
       "0  2d92e7e3-bf4d-44cd-87af-a799f56e7307     Starter -0.691549       1   \n",
       "1  38926d9e-86b6-4e3e-bf90-0bb3a8752805        Team -0.237293       1   \n",
       "2  7aa740a3-ab90-4a05-a791-31524700d10d    Business  0.249215       1   \n",
       "3  29cb8124-7dfb-43e5-8d1f-fb566b99644b  Enterprise  1.722638       1   \n",
       "4  4aa0edcb-cfb7-47b3-a9e6-d11d93abef55       Other -1.025700       1   \n",
       "\n",
       "    choice  revenue  available                                 panel  \n",
       "0  Starter     18.0          1  eabbb100-cf06-4300-8f48-b3f1f16f179c  \n",
       "1  Starter     18.0          1  eabbb100-cf06-4300-8f48-b3f1f16f179c  \n",
       "2  Starter     18.0          1  eabbb100-cf06-4300-8f48-b3f1f16f179c  \n",
       "3  Starter     18.0          1  eabbb100-cf06-4300-8f48-b3f1f16f179c  \n",
       "4  Starter     18.0          1  eabbb100-cf06-4300-8f48-b3f1f16f179c  "
      ]
     },
     "execution_count": 87,
     "metadata": {},
     "output_type": "execute_result"
    }
   ],
   "source": [
    "def standardize_price(data):\n",
    "    import pandas as pd\n",
    "    \n",
    "    if 'price' not in data.columns:\n",
    "        raise ValueError(\"The 'price' column is not found in the data.\")\n",
    "\n",
    "    mean_price = data['price'].mean()\n",
    "    std_price = data['price'].std()\n",
    "\n",
    "    # Avoid division by zero in case of constant price\n",
    "    if std_price == 0:\n",
    "        raise ValueError(\"Standard deviation of 'price' is zero. Cannot standardize a constant variable.\")\n",
    "\n",
    "    old_price_sample = data['price'].iloc[0]  # Take a sample price for comparison\n",
    "    data['price'] = (data['price'] - mean_price) / std_price\n",
    "    new_price_sample = data['price'].iloc[0]  # Corresponding standardized price\n",
    "\n",
    "    # Calculate the scaling factor\n",
    "    scaling_factor = new_price_sample / old_price_sample if old_price_sample != 0 else 0\n",
    "\n",
    "    print(f\"Mean (mu): {mean_price:.2f}, Standard Deviation (sigma): {std_price:.2f}\")\n",
    "    print(f\"Price has been scaled by a factor of: {scaling_factor:.2f}\")\n",
    "\n",
    "    return data, scaling_factor, mean_price, std_price\n",
    "\n",
    "# Example usage\n",
    "data, scaling_factor, scaler_mu, scaler_sigma = standardize_price(data)\n",
    "\n",
    "data.head()\n"
   ]
  },
  {
   "cell_type": "code",
   "execution_count": null,
   "id": "a6c738fe-e087-4c1c-b22e-1bd2ba23ba4e",
   "metadata": {},
   "outputs": [],
   "source": []
  },
  {
   "cell_type": "markdown",
   "id": "41678487-5166-4780-966d-490a1d18e1ee",
   "metadata": {},
   "source": [
    "# xlogit"
   ]
  },
  {
   "cell_type": "markdown",
   "id": "1461b742-7eda-44a0-ab4f-c39bf0fdacf2",
   "metadata": {},
   "source": [
    "### Multinomial logit"
   ]
  },
  {
   "cell_type": "code",
   "execution_count": 72,
   "id": "a73ebfbd-1045-4d9f-b66d-560aaacbe6e4",
   "metadata": {},
   "outputs": [
    {
     "name": "stdout",
     "output_type": "stream",
     "text": [
      "Optimization terminated successfully.\n",
      "    Message: The gradients are close to zero\n",
      "    Iterations: 5\n",
      "    Function evaluations: 6\n",
      "Estimation time= 0.1 seconds\n",
      "---------------------------------------------------------------------------\n",
      "Coefficient              Estimate      Std.Err.         z-val         P>|z|\n",
      "---------------------------------------------------------------------------\n",
      "price                  -0.0891272     0.0085594   -10.4128208      2.63e-25 ***\n",
      "---------------------------------------------------------------------------\n",
      "Significance:  0 '***' 0.001 '**' 0.01 '*' 0.05 '.' 0.1 ' ' 1\n",
      "\n",
      "Log-Likelihood= -24582.798\n",
      "AIC= 49167.596\n",
      "BIC= 49175.232\n"
     ]
    }
   ],
   "source": [
    "def estimate_mnl_model(data):\n",
    "    from xlogit import MultinomialLogit\n",
    "    varnames = ['price']\n",
    "\n",
    "    model = MultinomialLogit()\n",
    "\n",
    "    model.fit(X = data[varnames], y = data['choice'], varnames=varnames,\n",
    "              alts=data['alt'], ids=data['id'],  \n",
    "              fit_intercept=False)\n",
    "\n",
    "    model.summary()\n",
    "    \n",
    "    return model\n",
    "\n",
    "mnl_model = estimate_mnl_model(data)"
   ]
  },
  {
   "cell_type": "markdown",
   "id": "50877524-3eaa-4d95-b833-b5df5fee4366",
   "metadata": {},
   "source": [
    "### Mixed logit"
   ]
  },
  {
   "cell_type": "code",
   "execution_count": 88,
   "id": "87a3eb76-3e79-4734-8a33-451b908cd815",
   "metadata": {},
   "outputs": [
    {
     "name": "stdout",
     "output_type": "stream",
     "text": [
      "Optimization terminated successfully.\n",
      "    Message: CONVERGENCE: REL_REDUCTION_OF_F_<=_FACTR*EPSMCH\n",
      "    Iterations: 24\n",
      "    Function evaluations: 28\n",
      "Estimation time= 75.9 seconds\n",
      "---------------------------------------------------------------------------\n",
      "Coefficient              Estimate      Std.Err.         z-val         P>|z|\n",
      "---------------------------------------------------------------------------\n",
      "_intercept.Enterpri     1.5379867     0.0603543    25.4826190     2.54e-140 ***\n",
      "_intercept.Other        2.5918716     0.0996118    26.0197124     4.36e-146 ***\n",
      "_intercept.Starter      2.9618956     0.1497917    19.7734239      5.95e-86 ***\n",
      "_intercept.Team        -4.9144808     0.1083712   -45.3485729             0 ***\n",
      "price                  -2.7352404     0.1027242   -26.6270297     9.71e-153 ***\n",
      "sd.price                1.6406472     0.0686995    23.8815168     8.66e-124 ***\n",
      "---------------------------------------------------------------------------\n",
      "Significance:  0 '***' 0.001 '**' 0.01 '*' 0.05 '.' 0.1 ' ' 1\n",
      "\n",
      "Log-Likelihood= -19956.674\n",
      "AIC= 39925.348\n",
      "BIC= 39971.165\n"
     ]
    }
   ],
   "source": [
    "def estimate_mixed_logit_model(data):\n",
    "    from xlogit import MixedLogit\n",
    "    varnames = ['price']\n",
    "\n",
    "    model = MixedLogit()\n",
    "\n",
    "    model.fit(X = data[varnames], y = data['choice'], varnames=varnames,\n",
    "              alts=data['alt'], ids=data['id'], avail=data['available'],\n",
    "              #panels = data['panel'],\n",
    "              panels = None,\n",
    "              randvars={'price': 'n'}, \n",
    "              #maxiter = 1000, n_draws=3500, \n",
    "              num_hess = True,\n",
    "              fit_intercept=True,\n",
    "              optim_method='L-BFGS-B')\n",
    "\n",
    "    model.summary()\n",
    "\n",
    "    return model\n",
    "\n",
    "ml_model = estimate_mixed_logit_model(data)"
   ]
  },
  {
   "cell_type": "markdown",
   "id": "5e3026c9-d51e-4b7a-a953-d10005745cce",
   "metadata": {},
   "source": [
    "# Dummy data creation\n",
    "- ID column\n",
    "- Price column\n",
    "- Available\n",
    "\n",
    "Plus we need a row for each alt.\n"
   ]
  },
  {
   "cell_type": "code",
   "execution_count": 105,
   "id": "bff86780-9714-4ab8-8566-3b8f9e878508",
   "metadata": {},
   "outputs": [
    {
     "data": {
      "text/html": [
       "<div>\n",
       "<style scoped>\n",
       "    .dataframe tbody tr th:only-of-type {\n",
       "        vertical-align: middle;\n",
       "    }\n",
       "\n",
       "    .dataframe tbody tr th {\n",
       "        vertical-align: top;\n",
       "    }\n",
       "\n",
       "    .dataframe thead th {\n",
       "        text-align: right;\n",
       "    }\n",
       "</style>\n",
       "<table border=\"1\" class=\"dataframe\">\n",
       "  <thead>\n",
       "    <tr style=\"text-align: right;\">\n",
       "      <th></th>\n",
       "      <th>id</th>\n",
       "      <th>alt</th>\n",
       "      <th>price</th>\n",
       "    </tr>\n",
       "  </thead>\n",
       "  <tbody>\n",
       "    <tr>\n",
       "      <th>0</th>\n",
       "      <td>c7d3ee3c-2de4-4624-82c7-da39c79c3b9e</td>\n",
       "      <td>Starter</td>\n",
       "      <td>-0.710113</td>\n",
       "    </tr>\n",
       "    <tr>\n",
       "      <th>1</th>\n",
       "      <td>c7d3ee3c-2de4-4624-82c7-da39c79c3b9e</td>\n",
       "      <td>Team</td>\n",
       "      <td>-0.246013</td>\n",
       "    </tr>\n",
       "    <tr>\n",
       "      <th>2</th>\n",
       "      <td>c7d3ee3c-2de4-4624-82c7-da39c79c3b9e</td>\n",
       "      <td>Business</td>\n",
       "      <td>0.236650</td>\n",
       "    </tr>\n",
       "    <tr>\n",
       "      <th>3</th>\n",
       "      <td>c7d3ee3c-2de4-4624-82c7-da39c79c3b9e</td>\n",
       "      <td>Enterprise</td>\n",
       "      <td>1.721768</td>\n",
       "    </tr>\n",
       "    <tr>\n",
       "      <th>4</th>\n",
       "      <td>c7d3ee3c-2de4-4624-82c7-da39c79c3b9e</td>\n",
       "      <td>Other</td>\n",
       "      <td>-1.025700</td>\n",
       "    </tr>\n",
       "  </tbody>\n",
       "</table>\n",
       "</div>"
      ],
      "text/plain": [
       "                                     id         alt     price\n",
       "0  c7d3ee3c-2de4-4624-82c7-da39c79c3b9e     Starter -0.710113\n",
       "1  c7d3ee3c-2de4-4624-82c7-da39c79c3b9e        Team -0.246013\n",
       "2  c7d3ee3c-2de4-4624-82c7-da39c79c3b9e    Business  0.236650\n",
       "3  c7d3ee3c-2de4-4624-82c7-da39c79c3b9e  Enterprise  1.721768\n",
       "4  c7d3ee3c-2de4-4624-82c7-da39c79c3b9e       Other -1.025700"
      ]
     },
     "execution_count": 105,
     "metadata": {},
     "output_type": "execute_result"
    }
   ],
   "source": [
    "import pandas as pd\n",
    "import uuid\n",
    "\n",
    "def create_dummy(N, prices, names):\n",
    "    # Check if the length of prices and names match\n",
    "    if len(prices) != len(names):\n",
    "        raise ValueError(\"Length of 'prices' and 'names' must be the same.\")\n",
    "\n",
    "    # Create a list of unique IDs\n",
    "    unique_ids = [str(uuid.uuid4()) for _ in range(N)]\n",
    "\n",
    "    # Create a list to hold the data for the DataFrame\n",
    "    data = []\n",
    "\n",
    "    # Loop through unique IDs and names to create rows\n",
    "    for uid in unique_ids:\n",
    "        for name, price in zip(names, prices):\n",
    "            data.append({'id': uid, 'alt': name, 'price': price})\n",
    "\n",
    "    # Create the DataFrame\n",
    "    data_dummy = pd.DataFrame(data)\n",
    "\n",
    "    return data_dummy\n",
    "\n",
    "# Example usage:\n",
    "N = 17000  # Number of unique IDs\n",
    "prices = ([10, 30, 90, 150, 0] - scaler_mu) / scaler_sigma # Prices corresponding to names\n",
    "names = ['Starter', 'Team', 'Business', 'Enterprise', 'Other']  # Alternative product names\n",
    "\n",
    "# data_dummy = create_dummy(N, prices, names)\n",
    "data_dummy_new = create_dummy(N, prices, names)\n",
    "\n",
    "\n",
    "data_dummy.head()\n"
   ]
  },
  {
   "cell_type": "markdown",
   "id": "eabe0f34-5b49-400d-af3f-9d47a76fead7",
   "metadata": {},
   "source": [
    "# xlogit prediction"
   ]
  },
  {
   "cell_type": "code",
   "execution_count": 110,
   "id": "d0d6d646-25fe-4505-833d-3ec160d9b248",
   "metadata": {},
   "outputs": [
    {
     "ename": "UFuncTypeError",
     "evalue": "ufunc 'add' did not contain a loop with signature matching types (dtype('<U10'), dtype('float64')) -> None",
     "output_type": "error",
     "traceback": [
      "\u001b[0;31m---------------------------------------------------------------------------\u001b[0m",
      "\u001b[0;31mUFuncTypeError\u001b[0m                            Traceback (most recent call last)",
      "Cell \u001b[0;32mIn[110], line 22\u001b[0m\n\u001b[1;32m     19\u001b[0m         percent \u001b[38;5;241m=\u001b[39m mean_probas[col] \u001b[38;5;241m*\u001b[39m \u001b[38;5;241m100\u001b[39m\n\u001b[1;32m     20\u001b[0m         \u001b[38;5;28mprint\u001b[39m(\u001b[38;5;124mf\u001b[39m\u001b[38;5;124m\"\u001b[39m\u001b[38;5;132;01m{\u001b[39;00mcol\u001b[38;5;132;01m}\u001b[39;00m\u001b[38;5;124m: \u001b[39m\u001b[38;5;132;01m{\u001b[39;00mpercent\u001b[38;5;132;01m:\u001b[39;00m\u001b[38;5;124m.0f\u001b[39m\u001b[38;5;132;01m}\u001b[39;00m\u001b[38;5;124m%\u001b[39m\u001b[38;5;124m\"\u001b[39m)\n\u001b[0;32m---> 22\u001b[0m predict(ml_model, data_dummy)\n",
      "Cell \u001b[0;32mIn[110], line 15\u001b[0m, in \u001b[0;36mpredict\u001b[0;34m(model, data)\u001b[0m\n\u001b[1;32m     12\u001b[0m     proba \u001b[38;5;241m=\u001b[39m pd\u001b[38;5;241m.\u001b[39mDataFrame(proba)\n\u001b[1;32m     14\u001b[0m \u001b[38;5;66;03m# Calculate mean of each column\u001b[39;00m\n\u001b[0;32m---> 15\u001b[0m mean_probas \u001b[38;5;241m=\u001b[39m proba\u001b[38;5;241m.\u001b[39mmean()\n\u001b[1;32m     17\u001b[0m \u001b[38;5;66;03m# Convert to percentages and format\u001b[39;00m\n\u001b[1;32m     18\u001b[0m \u001b[38;5;28;01mfor\u001b[39;00m col \u001b[38;5;129;01min\u001b[39;00m mean_probas\u001b[38;5;241m.\u001b[39mindex:\n",
      "File \u001b[0;32m~/anaconda3/lib/python3.11/site-packages/pandas/core/generic.py:11556\u001b[0m, in \u001b[0;36mNDFrame._add_numeric_operations.<locals>.mean\u001b[0;34m(self, axis, skipna, numeric_only, **kwargs)\u001b[0m\n\u001b[1;32m  11539\u001b[0m \u001b[38;5;129m@doc\u001b[39m(\n\u001b[1;32m  11540\u001b[0m     _num_doc,\n\u001b[1;32m  11541\u001b[0m     desc\u001b[38;5;241m=\u001b[39m\u001b[38;5;124m\"\u001b[39m\u001b[38;5;124mReturn the mean of the values over the requested axis.\u001b[39m\u001b[38;5;124m\"\u001b[39m,\n\u001b[0;32m   (...)\u001b[0m\n\u001b[1;32m  11554\u001b[0m     \u001b[38;5;241m*\u001b[39m\u001b[38;5;241m*\u001b[39mkwargs,\n\u001b[1;32m  11555\u001b[0m ):\n\u001b[0;32m> 11556\u001b[0m     \u001b[38;5;28;01mreturn\u001b[39;00m NDFrame\u001b[38;5;241m.\u001b[39mmean(\u001b[38;5;28mself\u001b[39m, axis, skipna, numeric_only, \u001b[38;5;241m*\u001b[39m\u001b[38;5;241m*\u001b[39mkwargs)\n",
      "File \u001b[0;32m~/anaconda3/lib/python3.11/site-packages/pandas/core/generic.py:11201\u001b[0m, in \u001b[0;36mNDFrame.mean\u001b[0;34m(self, axis, skipna, numeric_only, **kwargs)\u001b[0m\n\u001b[1;32m  11194\u001b[0m \u001b[38;5;28;01mdef\u001b[39;00m \u001b[38;5;21mmean\u001b[39m(\n\u001b[1;32m  11195\u001b[0m     \u001b[38;5;28mself\u001b[39m,\n\u001b[1;32m  11196\u001b[0m     axis: Axis \u001b[38;5;241m|\u001b[39m \u001b[38;5;28;01mNone\u001b[39;00m \u001b[38;5;241m=\u001b[39m \u001b[38;5;241m0\u001b[39m,\n\u001b[0;32m   (...)\u001b[0m\n\u001b[1;32m  11199\u001b[0m     \u001b[38;5;241m*\u001b[39m\u001b[38;5;241m*\u001b[39mkwargs,\n\u001b[1;32m  11200\u001b[0m ) \u001b[38;5;241m-\u001b[39m\u001b[38;5;241m>\u001b[39m Series \u001b[38;5;241m|\u001b[39m \u001b[38;5;28mfloat\u001b[39m:\n\u001b[0;32m> 11201\u001b[0m     \u001b[38;5;28;01mreturn\u001b[39;00m \u001b[38;5;28mself\u001b[39m\u001b[38;5;241m.\u001b[39m_stat_function(\n\u001b[1;32m  11202\u001b[0m         \u001b[38;5;124m\"\u001b[39m\u001b[38;5;124mmean\u001b[39m\u001b[38;5;124m\"\u001b[39m, nanops\u001b[38;5;241m.\u001b[39mnanmean, axis, skipna, numeric_only, \u001b[38;5;241m*\u001b[39m\u001b[38;5;241m*\u001b[39mkwargs\n\u001b[1;32m  11203\u001b[0m     )\n",
      "File \u001b[0;32m~/anaconda3/lib/python3.11/site-packages/pandas/core/generic.py:11158\u001b[0m, in \u001b[0;36mNDFrame._stat_function\u001b[0;34m(self, name, func, axis, skipna, numeric_only, **kwargs)\u001b[0m\n\u001b[1;32m  11154\u001b[0m     nv\u001b[38;5;241m.\u001b[39mvalidate_stat_func((), kwargs, fname\u001b[38;5;241m=\u001b[39mname)\n\u001b[1;32m  11156\u001b[0m validate_bool_kwarg(skipna, \u001b[38;5;124m\"\u001b[39m\u001b[38;5;124mskipna\u001b[39m\u001b[38;5;124m\"\u001b[39m, none_allowed\u001b[38;5;241m=\u001b[39m\u001b[38;5;28;01mFalse\u001b[39;00m)\n\u001b[0;32m> 11158\u001b[0m \u001b[38;5;28;01mreturn\u001b[39;00m \u001b[38;5;28mself\u001b[39m\u001b[38;5;241m.\u001b[39m_reduce(\n\u001b[1;32m  11159\u001b[0m     func, name\u001b[38;5;241m=\u001b[39mname, axis\u001b[38;5;241m=\u001b[39maxis, skipna\u001b[38;5;241m=\u001b[39mskipna, numeric_only\u001b[38;5;241m=\u001b[39mnumeric_only\n\u001b[1;32m  11160\u001b[0m )\n",
      "File \u001b[0;32m~/anaconda3/lib/python3.11/site-packages/pandas/core/frame.py:10519\u001b[0m, in \u001b[0;36mDataFrame._reduce\u001b[0;34m(self, op, name, axis, skipna, numeric_only, filter_type, **kwds)\u001b[0m\n\u001b[1;32m  10515\u001b[0m     df \u001b[38;5;241m=\u001b[39m df\u001b[38;5;241m.\u001b[39mT\n\u001b[1;32m  10517\u001b[0m \u001b[38;5;66;03m# After possibly _get_data and transposing, we are now in the\u001b[39;00m\n\u001b[1;32m  10518\u001b[0m \u001b[38;5;66;03m#  simple case where we can use BlockManager.reduce\u001b[39;00m\n\u001b[0;32m> 10519\u001b[0m res \u001b[38;5;241m=\u001b[39m df\u001b[38;5;241m.\u001b[39m_mgr\u001b[38;5;241m.\u001b[39mreduce(blk_func)\n\u001b[1;32m  10520\u001b[0m out \u001b[38;5;241m=\u001b[39m df\u001b[38;5;241m.\u001b[39m_constructor(res)\u001b[38;5;241m.\u001b[39miloc[\u001b[38;5;241m0\u001b[39m]\n\u001b[1;32m  10521\u001b[0m \u001b[38;5;28;01mif\u001b[39;00m out_dtype \u001b[38;5;129;01mis\u001b[39;00m \u001b[38;5;129;01mnot\u001b[39;00m \u001b[38;5;28;01mNone\u001b[39;00m:\n",
      "File \u001b[0;32m~/anaconda3/lib/python3.11/site-packages/pandas/core/internals/managers.py:1534\u001b[0m, in \u001b[0;36mBlockManager.reduce\u001b[0;34m(self, func)\u001b[0m\n\u001b[1;32m   1532\u001b[0m res_blocks: \u001b[38;5;28mlist\u001b[39m[Block] \u001b[38;5;241m=\u001b[39m []\n\u001b[1;32m   1533\u001b[0m \u001b[38;5;28;01mfor\u001b[39;00m blk \u001b[38;5;129;01min\u001b[39;00m \u001b[38;5;28mself\u001b[39m\u001b[38;5;241m.\u001b[39mblocks:\n\u001b[0;32m-> 1534\u001b[0m     nbs \u001b[38;5;241m=\u001b[39m blk\u001b[38;5;241m.\u001b[39mreduce(func)\n\u001b[1;32m   1535\u001b[0m     res_blocks\u001b[38;5;241m.\u001b[39mextend(nbs)\n\u001b[1;32m   1537\u001b[0m index \u001b[38;5;241m=\u001b[39m Index([\u001b[38;5;28;01mNone\u001b[39;00m])  \u001b[38;5;66;03m# placeholder\u001b[39;00m\n",
      "File \u001b[0;32m~/anaconda3/lib/python3.11/site-packages/pandas/core/internals/blocks.py:339\u001b[0m, in \u001b[0;36mBlock.reduce\u001b[0;34m(self, func)\u001b[0m\n\u001b[1;32m    333\u001b[0m \u001b[38;5;129m@final\u001b[39m\n\u001b[1;32m    334\u001b[0m \u001b[38;5;28;01mdef\u001b[39;00m \u001b[38;5;21mreduce\u001b[39m(\u001b[38;5;28mself\u001b[39m, func) \u001b[38;5;241m-\u001b[39m\u001b[38;5;241m>\u001b[39m \u001b[38;5;28mlist\u001b[39m[Block]:\n\u001b[1;32m    335\u001b[0m     \u001b[38;5;66;03m# We will apply the function and reshape the result into a single-row\u001b[39;00m\n\u001b[1;32m    336\u001b[0m     \u001b[38;5;66;03m#  Block with the same mgr_locs; squeezing will be done at a higher level\u001b[39;00m\n\u001b[1;32m    337\u001b[0m     \u001b[38;5;28;01massert\u001b[39;00m \u001b[38;5;28mself\u001b[39m\u001b[38;5;241m.\u001b[39mndim \u001b[38;5;241m==\u001b[39m \u001b[38;5;241m2\u001b[39m\n\u001b[0;32m--> 339\u001b[0m     result \u001b[38;5;241m=\u001b[39m func(\u001b[38;5;28mself\u001b[39m\u001b[38;5;241m.\u001b[39mvalues)\n\u001b[1;32m    341\u001b[0m     \u001b[38;5;28;01mif\u001b[39;00m \u001b[38;5;28mself\u001b[39m\u001b[38;5;241m.\u001b[39mvalues\u001b[38;5;241m.\u001b[39mndim \u001b[38;5;241m==\u001b[39m \u001b[38;5;241m1\u001b[39m:\n\u001b[1;32m    342\u001b[0m         \u001b[38;5;66;03m# TODO(EA2D): special case not needed with 2D EAs\u001b[39;00m\n\u001b[1;32m    343\u001b[0m         res_values \u001b[38;5;241m=\u001b[39m np\u001b[38;5;241m.\u001b[39marray([[result]])\n",
      "File \u001b[0;32m~/anaconda3/lib/python3.11/site-packages/pandas/core/frame.py:10482\u001b[0m, in \u001b[0;36mDataFrame._reduce.<locals>.blk_func\u001b[0;34m(values, axis)\u001b[0m\n\u001b[1;32m  10480\u001b[0m     \u001b[38;5;28;01mreturn\u001b[39;00m values\u001b[38;5;241m.\u001b[39m_reduce(name, skipna\u001b[38;5;241m=\u001b[39mskipna, \u001b[38;5;241m*\u001b[39m\u001b[38;5;241m*\u001b[39mkwds)\n\u001b[1;32m  10481\u001b[0m \u001b[38;5;28;01melse\u001b[39;00m:\n\u001b[0;32m> 10482\u001b[0m     \u001b[38;5;28;01mreturn\u001b[39;00m op(values, axis\u001b[38;5;241m=\u001b[39maxis, skipna\u001b[38;5;241m=\u001b[39mskipna, \u001b[38;5;241m*\u001b[39m\u001b[38;5;241m*\u001b[39mkwds)\n",
      "File \u001b[0;32m~/anaconda3/lib/python3.11/site-packages/pandas/core/nanops.py:96\u001b[0m, in \u001b[0;36mdisallow.__call__.<locals>._f\u001b[0;34m(*args, **kwargs)\u001b[0m\n\u001b[1;32m     94\u001b[0m \u001b[38;5;28;01mtry\u001b[39;00m:\n\u001b[1;32m     95\u001b[0m     \u001b[38;5;28;01mwith\u001b[39;00m np\u001b[38;5;241m.\u001b[39merrstate(invalid\u001b[38;5;241m=\u001b[39m\u001b[38;5;124m\"\u001b[39m\u001b[38;5;124mignore\u001b[39m\u001b[38;5;124m\"\u001b[39m):\n\u001b[0;32m---> 96\u001b[0m         \u001b[38;5;28;01mreturn\u001b[39;00m f(\u001b[38;5;241m*\u001b[39margs, \u001b[38;5;241m*\u001b[39m\u001b[38;5;241m*\u001b[39mkwargs)\n\u001b[1;32m     97\u001b[0m \u001b[38;5;28;01mexcept\u001b[39;00m \u001b[38;5;167;01mValueError\u001b[39;00m \u001b[38;5;28;01mas\u001b[39;00m e:\n\u001b[1;32m     98\u001b[0m     \u001b[38;5;66;03m# we want to transform an object array\u001b[39;00m\n\u001b[1;32m     99\u001b[0m     \u001b[38;5;66;03m# ValueError message to the more typical TypeError\u001b[39;00m\n\u001b[1;32m    100\u001b[0m     \u001b[38;5;66;03m# e.g. this is normally a disallowed function on\u001b[39;00m\n\u001b[1;32m    101\u001b[0m     \u001b[38;5;66;03m# object arrays that contain strings\u001b[39;00m\n\u001b[1;32m    102\u001b[0m     \u001b[38;5;28;01mif\u001b[39;00m is_object_dtype(args[\u001b[38;5;241m0\u001b[39m]):\n",
      "File \u001b[0;32m~/anaconda3/lib/python3.11/site-packages/pandas/core/nanops.py:158\u001b[0m, in \u001b[0;36mbottleneck_switch.__call__.<locals>.f\u001b[0;34m(values, axis, skipna, **kwds)\u001b[0m\n\u001b[1;32m    156\u001b[0m         result \u001b[38;5;241m=\u001b[39m alt(values, axis\u001b[38;5;241m=\u001b[39maxis, skipna\u001b[38;5;241m=\u001b[39mskipna, \u001b[38;5;241m*\u001b[39m\u001b[38;5;241m*\u001b[39mkwds)\n\u001b[1;32m    157\u001b[0m \u001b[38;5;28;01melse\u001b[39;00m:\n\u001b[0;32m--> 158\u001b[0m     result \u001b[38;5;241m=\u001b[39m alt(values, axis\u001b[38;5;241m=\u001b[39maxis, skipna\u001b[38;5;241m=\u001b[39mskipna, \u001b[38;5;241m*\u001b[39m\u001b[38;5;241m*\u001b[39mkwds)\n\u001b[1;32m    160\u001b[0m \u001b[38;5;28;01mreturn\u001b[39;00m result\n",
      "File \u001b[0;32m~/anaconda3/lib/python3.11/site-packages/pandas/core/nanops.py:421\u001b[0m, in \u001b[0;36m_datetimelike_compat.<locals>.new_func\u001b[0;34m(values, axis, skipna, mask, **kwargs)\u001b[0m\n\u001b[1;32m    418\u001b[0m \u001b[38;5;28;01mif\u001b[39;00m datetimelike \u001b[38;5;129;01mand\u001b[39;00m mask \u001b[38;5;129;01mis\u001b[39;00m \u001b[38;5;28;01mNone\u001b[39;00m:\n\u001b[1;32m    419\u001b[0m     mask \u001b[38;5;241m=\u001b[39m isna(values)\n\u001b[0;32m--> 421\u001b[0m result \u001b[38;5;241m=\u001b[39m func(values, axis\u001b[38;5;241m=\u001b[39maxis, skipna\u001b[38;5;241m=\u001b[39mskipna, mask\u001b[38;5;241m=\u001b[39mmask, \u001b[38;5;241m*\u001b[39m\u001b[38;5;241m*\u001b[39mkwargs)\n\u001b[1;32m    423\u001b[0m \u001b[38;5;28;01mif\u001b[39;00m datetimelike:\n\u001b[1;32m    424\u001b[0m     result \u001b[38;5;241m=\u001b[39m _wrap_results(result, orig_values\u001b[38;5;241m.\u001b[39mdtype, fill_value\u001b[38;5;241m=\u001b[39miNaT)\n",
      "File \u001b[0;32m~/anaconda3/lib/python3.11/site-packages/pandas/core/nanops.py:727\u001b[0m, in \u001b[0;36mnanmean\u001b[0;34m(values, axis, skipna, mask)\u001b[0m\n\u001b[1;32m    724\u001b[0m     dtype_count \u001b[38;5;241m=\u001b[39m dtype\n\u001b[1;32m    726\u001b[0m count \u001b[38;5;241m=\u001b[39m _get_counts(values\u001b[38;5;241m.\u001b[39mshape, mask, axis, dtype\u001b[38;5;241m=\u001b[39mdtype_count)\n\u001b[0;32m--> 727\u001b[0m the_sum \u001b[38;5;241m=\u001b[39m _ensure_numeric(values\u001b[38;5;241m.\u001b[39msum(axis, dtype\u001b[38;5;241m=\u001b[39mdtype_sum))\n\u001b[1;32m    729\u001b[0m \u001b[38;5;28;01mif\u001b[39;00m axis \u001b[38;5;129;01mis\u001b[39;00m \u001b[38;5;129;01mnot\u001b[39;00m \u001b[38;5;28;01mNone\u001b[39;00m \u001b[38;5;129;01mand\u001b[39;00m \u001b[38;5;28mgetattr\u001b[39m(the_sum, \u001b[38;5;124m\"\u001b[39m\u001b[38;5;124mndim\u001b[39m\u001b[38;5;124m\"\u001b[39m, \u001b[38;5;28;01mFalse\u001b[39;00m):\n\u001b[1;32m    730\u001b[0m     count \u001b[38;5;241m=\u001b[39m cast(np\u001b[38;5;241m.\u001b[39mndarray, count)\n",
      "File \u001b[0;32m~/anaconda3/lib/python3.11/site-packages/numpy/core/_methods.py:49\u001b[0m, in \u001b[0;36m_sum\u001b[0;34m(a, axis, dtype, out, keepdims, initial, where)\u001b[0m\n\u001b[1;32m     47\u001b[0m \u001b[38;5;28;01mdef\u001b[39;00m \u001b[38;5;21m_sum\u001b[39m(a, axis\u001b[38;5;241m=\u001b[39m\u001b[38;5;28;01mNone\u001b[39;00m, dtype\u001b[38;5;241m=\u001b[39m\u001b[38;5;28;01mNone\u001b[39;00m, out\u001b[38;5;241m=\u001b[39m\u001b[38;5;28;01mNone\u001b[39;00m, keepdims\u001b[38;5;241m=\u001b[39m\u001b[38;5;28;01mFalse\u001b[39;00m,\n\u001b[1;32m     48\u001b[0m          initial\u001b[38;5;241m=\u001b[39m_NoValue, where\u001b[38;5;241m=\u001b[39m\u001b[38;5;28;01mTrue\u001b[39;00m):\n\u001b[0;32m---> 49\u001b[0m     \u001b[38;5;28;01mreturn\u001b[39;00m umr_sum(a, axis, dtype, out, keepdims, initial, where)\n",
      "\u001b[0;31mUFuncTypeError\u001b[0m: ufunc 'add' did not contain a loop with signature matching types (dtype('<U10'), dtype('float64')) -> None"
     ]
    }
   ],
   "source": [
    "import pandas as pd\n",
    "\n",
    "def predict(model, data):\n",
    "    varnames = ['price']\n",
    "    \n",
    "    # Generate probabilities\n",
    "    proba = model.predict(X=data[varnames], varnames=varnames, ids=data['id'],\n",
    "                          alts=data['alt'], return_proba=True)\n",
    "\n",
    "    # Convert proba to a DataFrame if it's not already one\n",
    "    if not isinstance(proba, pd.DataFrame):\n",
    "        proba = pd.DataFrame(proba)\n",
    "\n",
    "    # Calculate mean of each column\n",
    "    mean_probas = proba.mean()\n",
    "\n",
    "    # Convert to percentages and format\n",
    "    for col in mean_probas.index:\n",
    "        percent = mean_probas[col] * 100\n",
    "        print(f\"{col}: {percent:.0f}%\")\n",
    "\n",
    "predict(ml_model, data_dummy)\n"
   ]
  },
  {
   "cell_type": "markdown",
   "id": "981dde19-0bb2-406a-9c0b-0970edf26dc9",
   "metadata": {},
   "source": [
    "# Manual prediction"
   ]
  },
  {
   "cell_type": "markdown",
   "id": "fd09175b-533e-4b4a-b696-1e86ecd0992a",
   "metadata": {},
   "source": [
    "\n",
    "Given $\\beta_n$, the probability that person $n$ chooses alternative $i$ is given by the standard logit formula:\n",
    "$$\n",
    "L_{ni}(\\beta_n) = \\frac{e^{\\beta_n X_{ni}}}{\\sum_{j} e^{\\beta_n X_{nj}}}\n",
    "$$\n",
    "\n",
    "However, since $\\beta_n$ is random and not known, the unconditional choice probability is the integral of this logit formula over the density of $\\beta_n$, which we assume is normally distributed with parameters $\\mu$ and $\\sigma$:\n",
    "$$\n",
    "P_{ni} = \\int L_{ni}(\\beta) f(\\beta | \\theta) d\\beta\n",
    "$$\n",
    "\n",
    "\n",
    "Because there is no closed form for the integral that enters the choice probability, we must simulate $P_n$. There are four basic steps to follow:\n",
    "\n",
    "1. Take a draw from the probability density function that you specified for the 'taste' coefficients. That is, take a draw from $f(\\beta | \\theta)$ and label the draw $\\beta^r$, for $r=1$ representing the first draw.\n",
    "2. Calculate $L_n(\\beta^r)$. (The conditional probability.)\n",
    "3. Repeat many times, for $r=2, \\ldots, R$.\n",
    "4. Average the results.\n",
    "\n",
    "\n",
    "Then the formula for the simulation looks like the following,\n",
    "$$\n",
    "\\tilde{P}_{ni} = \\frac{\\sum_{r} L_{ni}(\\beta^r)}{R}\n",
    "$$\n",
    "where $R$ is the total number of draws taken from the distribution, and $r$ is one draw.\n",
    "\n",
    "Once this is done, you will have a value for the probability of each alternative $i$ for each respondent $n$.\n",
    "\n",
    "Finally, we average over all $n$ probabilites to get the aggregated share across the entire customer-base.\n",
    "\n",
    "\n"
   ]
  },
  {
   "cell_type": "code",
   "execution_count": 97,
   "id": "72c06e99-f1d2-47be-bf1e-0f0f212a102f",
   "metadata": {},
   "outputs": [
    {
     "name": "stdout",
     "output_type": "stream",
     "text": [
      "37%\n",
      "0%\n",
      "0%\n",
      "2%\n",
      "60%\n"
     ]
    }
   ],
   "source": [
    "import numpy as np\n",
    "\n",
    "def simulate_choice_probabilities(prices, choice_constants, mu, sigma, R, N):\n",
    "    \"\"\"\n",
    "    Simulate choice probabilities for a mixed logit model with choice-specific constants,\n",
    "    standardizing the prices first.\n",
    "\n",
    "    :param prices: A 2D array of shape (N, num_choices), representing the prices for each choice for each individual.\n",
    "    :param choice_constants: An array of constants for each choice.\n",
    "    :param mu: Mean of the normal distribution for the random coefficient beta.\n",
    "    :param sigma: Standard deviation of the normal distribution for beta.\n",
    "    :param R: Number of simulation draws.\n",
    "    :param N: Number of individuals.\n",
    "    :param scaler_mu: Mean used for standardizing the prices.\n",
    "    :param scaler_sigma: Standard deviation used for standardizing the prices.\n",
    "    :return: An array of simulated choice probabilities for each choice.\n",
    "    \"\"\"\n",
    "    num_choices = prices.shape[1]\n",
    "    simulated_probabilities = np.zeros((N, num_choices))\n",
    "\n",
    "    for n in range(N):\n",
    "        # Simulate R draws for the random coefficient\n",
    "        beta_draws = np.random.normal(mu, sigma, R)\n",
    "\n",
    "        # Calculate the utility for each choice for each draw, using standardized prices\n",
    "        utility = choice_constants + beta_draws[:, np.newaxis] * prices[n]\n",
    "        \n",
    "        # Calculate conditional choice probabilities for each draw\n",
    "        exp_utility = np.exp(utility)\n",
    "        conditional_probs = exp_utility / np.sum(exp_utility, axis=1, keepdims=True)\n",
    "\n",
    "        # Average over R draws to approximate unconditional choice probability\n",
    "        simulated_probabilities[n] = np.mean(conditional_probs, axis=0)\n",
    "\n",
    "    # Aggregate probabilities over all individuals\n",
    "    aggregated_probabilities = np.mean(simulated_probabilities, axis=0)\n",
    "\n",
    "    # Print choice probabilities as XX%\n",
    "    formatted_probabilities = [\"{:.0f}%\".format(prob * 100) for prob in aggregated_probabilities]\n",
    "    for prob in formatted_probabilities:\n",
    "        print(prob)\n",
    "\n",
    "\n",
    "# Example usage\n",
    "mu = -2.7352404      # Mean of beta\n",
    "sigma = 1.6406472   # Standard deviation of beta\n",
    "R = 1000    # Number of simulation draws\n",
    "N = 10000     # Number of individuals\n",
    "\n",
    "prices = np.array([([17, 42, 68, 148, 0] - scaler_mu) / scaler_sigma] * N)  \n",
    "choice_constants = np.array([2.9618956, -4.9144808, 0, 1.5379867, 2.5918716])  # Constants for each choice\n",
    "\n",
    "# Simulating choice probabilities\n",
    "choice_probabilities  = simulate_choice_probabilities(prices, choice_constants, mu, sigma, R, N)\n",
    "\n"
   ]
  },
  {
   "cell_type": "markdown",
   "id": "21568d5a-395d-4d0b-b3dc-8d918705d567",
   "metadata": {},
   "source": [
    "### Plot ground truth choices"
   ]
  },
  {
   "cell_type": "code",
   "execution_count": 23,
   "id": "e7f8c43b-540c-4288-8e33-5fd3eff4d08b",
   "metadata": {},
   "outputs": [
    {
     "data": {
      "text/html": [
       "<div>\n",
       "<style scoped>\n",
       "    .dataframe tbody tr th:only-of-type {\n",
       "        vertical-align: middle;\n",
       "    }\n",
       "\n",
       "    .dataframe tbody tr th {\n",
       "        vertical-align: top;\n",
       "    }\n",
       "\n",
       "    .dataframe thead th {\n",
       "        text-align: right;\n",
       "    }\n",
       "</style>\n",
       "<table border=\"1\" class=\"dataframe\">\n",
       "  <thead>\n",
       "    <tr style=\"text-align: right;\">\n",
       "      <th></th>\n",
       "      <th>id</th>\n",
       "      <th>product</th>\n",
       "      <th>revenue</th>\n",
       "      <th>volume</th>\n",
       "      <th>price</th>\n",
       "    </tr>\n",
       "  </thead>\n",
       "  <tbody>\n",
       "    <tr>\n",
       "      <th>2969</th>\n",
       "      <td>50b7db38-d44c-4f1b-80a1-436e773eb714</td>\n",
       "      <td>Team</td>\n",
       "      <td>300.000000</td>\n",
       "      <td>5</td>\n",
       "      <td>60.000000</td>\n",
       "    </tr>\n",
       "    <tr>\n",
       "      <th>2970</th>\n",
       "      <td>28107f54-4ffb-43fa-b8e4-a677e6f1a089</td>\n",
       "      <td>Business</td>\n",
       "      <td>2400.000000</td>\n",
       "      <td>20</td>\n",
       "      <td>120.000000</td>\n",
       "    </tr>\n",
       "    <tr>\n",
       "      <th>2971</th>\n",
       "      <td>160d5bfb-7f9f-423d-afc1-5184d8a48053</td>\n",
       "      <td>Team</td>\n",
       "      <td>300.000000</td>\n",
       "      <td>5</td>\n",
       "      <td>60.000000</td>\n",
       "    </tr>\n",
       "    <tr>\n",
       "      <th>2972</th>\n",
       "      <td>57c0cff4-492e-48b1-a074-e10fed8931b9</td>\n",
       "      <td>Team</td>\n",
       "      <td>445.000000</td>\n",
       "      <td>7</td>\n",
       "      <td>63.571429</td>\n",
       "    </tr>\n",
       "    <tr>\n",
       "      <th>2973</th>\n",
       "      <td>7959c274-8890-4183-adfb-80ff9d969b4c</td>\n",
       "      <td>Enterprise</td>\n",
       "      <td>24383.333333</td>\n",
       "      <td>310</td>\n",
       "      <td>78.655914</td>\n",
       "    </tr>\n",
       "  </tbody>\n",
       "</table>\n",
       "</div>"
      ],
      "text/plain": [
       "                                        id     product       revenue  volume  \\\n",
       "2969  50b7db38-d44c-4f1b-80a1-436e773eb714        Team    300.000000       5   \n",
       "2970  28107f54-4ffb-43fa-b8e4-a677e6f1a089    Business   2400.000000      20   \n",
       "2971  160d5bfb-7f9f-423d-afc1-5184d8a48053        Team    300.000000       5   \n",
       "2972  57c0cff4-492e-48b1-a074-e10fed8931b9        Team    445.000000       7   \n",
       "2973  7959c274-8890-4183-adfb-80ff9d969b4c  Enterprise  24383.333333     310   \n",
       "\n",
       "           price  \n",
       "2969   60.000000  \n",
       "2970  120.000000  \n",
       "2971   60.000000  \n",
       "2972   63.571429  \n",
       "2973   78.655914  "
      ]
     },
     "execution_count": 23,
     "metadata": {},
     "output_type": "execute_result"
    }
   ],
   "source": [
    "data.tail()"
   ]
  },
  {
   "cell_type": "code",
   "execution_count": 57,
   "id": "47a330a3-739b-44a1-b9b6-b89459f3f965",
   "metadata": {},
   "outputs": [
    {
     "name": "stdout",
     "output_type": "stream",
     "text": [
      "Price Summary by Choice:\n",
      "Team - Median: $35, Mean: $42\n",
      "Starter - Median: $18, Mean: $17\n",
      "Business - Median: $60, Mean: $68\n",
      "Enterprise - Median: $107, Mean: $148\n",
      "Other - Median: $0, Mean: $0\n"
     ]
    },
    {
     "data": {
      "image/png": "[encoded data removed]",
      "text/plain": [
       "<Figure size 1800x500 with 3 Axes>"
      ]
     },
     "metadata": {},
     "output_type": "display_data"
    }
   ],
   "source": [
    "def plot_variability_with_boxplot(data, scaler_mu, scaler_sigma):\n",
    "    import matplotlib.pyplot as plt\n",
    "    import numpy as np\n",
    "\n",
    "    # Reverse the standardization of price\n",
    "    if 'price' in data.columns:\n",
    "        data = data.copy()\n",
    "        data['price'] = (data['price'] * scaler_sigma) + scaler_mu\n",
    "    else:\n",
    "        print(\"The 'price' column is not in the dataset.\")\n",
    "        return\n",
    "\n",
    "    fig, axes = plt.subplots(nrows=1, ncols=3, figsize=(18, 5))\n",
    "\n",
    "    # Plotting the histogram for 'price'\n",
    "    axes[0].hist(data['price'], bins=20, edgecolor='black', color='blue')\n",
    "    axes[0].set_title('Histogram of Price')\n",
    "    axes[0].set_xlabel('Price')\n",
    "    axes[0].set_ylabel('Frequency')\n",
    "\n",
    "    # Plotting the bar plot for 'choice' where 'choice' and 'alt' are equal\n",
    "    if 'choice' in data.columns and 'alt' in data.columns:\n",
    "        filtered_data = data[data['choice'] == data['alt']]\n",
    "        choice_counts = filtered_data['choice'].value_counts()\n",
    "        total = choice_counts.sum()\n",
    "        percentages = (choice_counts / total) * 100\n",
    "\n",
    "        bars = axes[1].bar(percentages.index, percentages.values, color='green')\n",
    "\n",
    "        for bar in bars:\n",
    "            yval = bar.get_height()\n",
    "            axes[1].text(bar.get_x() + bar.get_width()/2, yval, f'{yval:.2f}%', va='bottom', ha='center')\n",
    "\n",
    "        axes[1].set_title('Bar Plot of Choice (Choice = Alt)')\n",
    "        axes[1].set_xlabel('Choice')\n",
    "        axes[1].set_ylabel('Percentage')\n",
    "\n",
    "        # Boxplot of price by choice where choice is equal to alt\n",
    "        boxplot_data = [filtered_data.loc[filtered_data['choice'] == choice, 'price'] for choice in choice_counts.index]\n",
    "        axes[2].boxplot(boxplot_data, labels=choice_counts.index)\n",
    "        axes[2].set_title('Boxplot of Price by Choice (Choice = Alt)')\n",
    "        axes[2].set_xlabel('Choice')\n",
    "        axes[2].set_ylabel('Price')\n",
    "\n",
    "        # Print median and mean prices for each choice\n",
    "        print(\"Price Summary by Choice:\")\n",
    "        for i, choice in enumerate(choice_counts.index):\n",
    "            median_price = np.median(boxplot_data[i])\n",
    "            mean_price = np.mean(boxplot_data[i])\n",
    "            print(f\"{choice} - Median: ${int(median_price)}, Mean: ${int(mean_price)}\")\n",
    "    else:\n",
    "        print(\"The 'choice' and/or 'alt' column is not in the dataset.\")\n",
    "\n",
    "    plt.tight_layout()\n",
    "    plt.show()\n",
    "\n",
    "# Example usage\n",
    "plot_variability_with_boxplot(data, scaler_mu, scaler_sigma)\n"
   ]
  },
  {
   "cell_type": "markdown",
   "id": "04168e28-4788-4157-bf7a-a06f4db3f6c0",
   "metadata": {},
   "source": [
    "# Endogeneity check"
   ]
  },
  {
   "cell_type": "markdown",
   "id": "4294e371-b98d-4c6f-99d8-6d71f9032ecc",
   "metadata": {},
   "source": [
    "### Hausman test\n",
    "\n",
    "### Instrumental variables"
   ]
  },
  {
   "cell_type": "markdown",
   "id": "74e5f0a7-a573-4499-b99b-89d4af061e99",
   "metadata": {},
   "source": [
    "# Calibration"
   ]
  },
  {
   "cell_type": "markdown",
   "id": "99565d89-c845-4320-98c6-992ecf3f7d47",
   "metadata": {},
   "source": [
    "# Demand curves"
   ]
  },
  {
   "cell_type": "markdown",
   "id": "f9a706f9-4ebd-4f0a-93ed-9f7ede2d531d",
   "metadata": {},
   "source": [
    "# Revenue maximisation (CoBiT)"
   ]
  },
  {
   "cell_type": "markdown",
   "id": "c3217987-32ac-4ec9-a048-3efa0e07a4f5",
   "metadata": {},
   "source": [
    "In the interdependent case, a given product's demand $D_i$ is a function of all other product's prices.\n"
   ]
  },
  {
   "cell_type": "markdown",
   "id": "5db4048e-a7ed-4ae2-a08e-f20538f131fd",
   "metadata": {},
   "source": [
    "$$\\begin{equation}\n",
    "   \\max R = \\sum_{i=1}^N p_i \\cdot D_i(p_1, p_2, \\ldots, p_N)\n",
    "\\end{equation}$$\n",
    "\n",
    "Optimal prices are when all elements of the revenue Jacobian with respect to each price equal zero.\n",
    "\n",
    "$$\\begin{equation}\n",
    "    \\frac{\\partial R}{\\partial p_i} = 0 \\quad \\text{for each} \\quad i = 1, 2, \\ldots, N\n",
    "\\end{equation}$$\n",
    "\n",
    "\n",
    "\\begin{equation}\n",
    "    \\frac{\\partial R}{\\partial p_i} = D_i(p_1, \\ldots, p_N) + p_i \\cdot \\frac{\\partial D_i(p_1, \\ldots, p_N)}{\\partial p_i} + \\sum_{\\substack{j=1 \\\\ j \\neq i}}^N \\left( p_j \\cdot \\frac{\\partial D_j(p_1, \\ldots, p_N)}{\\partial p_i} \\right)\n",
    "\\end{equation}\n",
    "\n",
    "\n"
   ]
  },
  {
   "cell_type": "markdown",
   "id": "500aa53a-e548-4552-838e-f60c0051c0a8",
   "metadata": {},
   "source": [
    "Marandi, A., & Lurkin, V. (2023). An exact algorithm for the static pricing problem under discrete mixed logit demand. EURO Journal on Computational Optimization, 11, 100073.\n",
    "\n",
    "https://arxiv.org/pdf/2005.07482.pdf\n"
   ]
  },
  {
   "cell_type": "markdown",
   "id": "b2f5831d-d607-4d0d-a80b-04e19ed926ac",
   "metadata": {},
   "source": [
    "Yan, Z., Natarajan, K., Teo, C. P., & Cheng, C. (2022). A representative consumer model in data-driven multiproduct pricing optimization. Management Science, 68(8), 5798-5827."
   ]
  },
  {
   "cell_type": "code",
   "execution_count": null,
   "id": "38039354-26c2-4f95-a50e-1df6763f3d7a",
   "metadata": {
    "collapsed": true,
    "jupyter": {
     "outputs_hidden": true
    }
   },
   "outputs": [],
   "source": []
  },
  {
   "cell_type": "markdown",
   "id": "6c8aabbd-52a2-4510-817b-fba91a00442c",
   "metadata": {},
   "source": [
    "# Outputs"
   ]
  },
  {
   "cell_type": "markdown",
   "id": "c1ac5b46-23a2-450a-b2ac-713802773cc5",
   "metadata": {},
   "source": [
    "### Pseudo-lift"
   ]
  },
  {
   "cell_type": "markdown",
   "id": "2a9d1005-a48d-44cc-b95a-12d01cbc53c8",
   "metadata": {},
   "source": [
    "**Revenue lift**  \n",
    "**Customer lift (and churn)**  \n",
    "**ARPA lift**"
   ]
  },
  {
   "cell_type": "markdown",
   "id": "4d3f8908-2103-4b7e-87f9-803808b07efc",
   "metadata": {},
   "source": [
    "### PVM"
   ]
  },
  {
   "cell_type": "markdown",
   "id": "dfcfc8cc-cd79-4abb-88d0-73b3a6a0f80e",
   "metadata": {},
   "source": [
    "### Customer-level distributions"
   ]
  },
  {
   "cell_type": "markdown",
   "id": "fd007ab5-392b-4fc2-bc1f-a29498dcc34e",
   "metadata": {},
   "source": [
    "### Product-level distributions"
   ]
  },
  {
   "cell_type": "code",
   "execution_count": null,
   "id": "78d565ff-712d-4408-b2d5-bcb4c88b2cf7",
   "metadata": {
    "collapsed": true,
    "jupyter": {
     "outputs_hidden": true
    }
   },
   "outputs": [],
   "source": []
  },
  {
   "cell_type": "markdown",
   "id": "03f8b2e6-6a4c-45d6-84f2-a59c935442c6",
   "metadata": {},
   "source": [
    "# Simulation function improvement lab"
   ]
  },
  {
   "cell_type": "code",
   "execution_count": 51,
   "id": "ac068ccd-ce3b-4419-a1f9-e6f20a3b8ee1",
   "metadata": {},
   "outputs": [
    {
     "name": "stdout",
     "output_type": "stream",
     "text": [
      "Simulation Results:\n",
      "\n",
      "Choice Shares (Original Prices):\n",
      "Starter: 37%\n",
      "Team: 0%\n",
      "Business: 0%\n",
      "Enterprise: 3%\n",
      "Other: 60%\n",
      "\n",
      "Choice Shares (New Prices):\n",
      "Starter: 37%\n",
      "Team: 0%\n",
      "Business: 0%\n",
      "Enterprise: 3%\n",
      "Other: 60%\n",
      "\n",
      "Original Revenue: $220,848\n",
      "New Revenue: $220,671\n"
     ]
    }
   ],
   "source": [
    "import numpy as np\n",
    "import pandas as pd\n",
    "from scipy.stats import norm\n",
    "\n",
    "def simulate(intercepts, original_prices, new_prices, beta_mean, beta_std, N, product_names, scaler_mu, scaler_sigma, R=1000):\n",
    "    num_goods = len(intercepts)\n",
    "\n",
    "    # Standardize prices\n",
    "    standardized_original_prices = (original_prices - scaler_mu) / scaler_sigma\n",
    "    standardized_new_prices = (new_prices - scaler_mu) / scaler_sigma\n",
    "\n",
    "    def choice_probability(beta_sample, prices):\n",
    "        utilities = np.array([intercepts[i] + beta_sample * prices[i] for i in range(num_goods)])\n",
    "        exp_utilities = np.exp(utilities - np.max(utilities))  # Log-Sum-Exp trick\n",
    "        return utilities, exp_utilities / np.sum(exp_utilities)\n",
    "\n",
    "    def simulate_individual_shares(prices):\n",
    "        shares = np.zeros(num_goods)\n",
    "        utilities_list = []\n",
    "        choice_probs_list = []\n",
    "\n",
    "        for _ in range(N):\n",
    "            avg_shares = np.zeros(num_goods)\n",
    "            avg_utilities = np.zeros(num_goods)\n",
    "            avg_choice_probs = np.zeros(num_goods)\n",
    "            for _ in range(R):\n",
    "                beta_sample = np.random.normal(beta_mean, beta_std)\n",
    "                utilities, choice_probs = choice_probability(beta_sample, prices)\n",
    "                avg_utilities += utilities\n",
    "                avg_choice_probs += choice_probs\n",
    "                avg_shares += choice_probs\n",
    "            avg_utilities /= R\n",
    "            avg_choice_probs /= R\n",
    "            avg_shares /= R\n",
    "\n",
    "            shares += avg_shares\n",
    "            utilities_list.append(avg_utilities)\n",
    "            choice_probs_list.append(avg_choice_probs)\n",
    "\n",
    "        utilities_df = pd.DataFrame(utilities_list, columns=product_names)\n",
    "        choice_probs_df = pd.DataFrame(choice_probs_list, columns=product_names)\n",
    "        return shares / N, utilities_df, choice_probs_df\n",
    "\n",
    "    # Calculate choice shares and revenues\n",
    "    original_shares, original_utilities_df, original_choice_probs_df = simulate_individual_shares(standardized_original_prices)\n",
    "    new_shares, new_utilities_df, new_choice_probs_df = simulate_individual_shares(standardized_new_prices)\n",
    "\n",
    "    original_revenue = N * np.sum(original_shares * original_prices)\n",
    "    new_revenue = N * np.sum(new_shares * new_prices)\n",
    "\n",
    "    # Prepare output\n",
    "    results = {\n",
    "        \"Original Shares\": dict(zip(product_names, original_shares)),\n",
    "        \"New Shares\": dict(zip(product_names, new_shares)),\n",
    "        \"Original Revenue\": original_revenue,\n",
    "        \"New Revenue\": new_revenue\n",
    "    }\n",
    "\n",
    "    # Print Output (optional)\n",
    "    print(\"Simulation Results:\")\n",
    "    print(\"\\nChoice Shares (Original Prices):\")\n",
    "    for product, share in zip(product_names, original_shares):\n",
    "        print(f\"{product}: {share * 100:.0f}%\")\n",
    "    print(\"\\nChoice Shares (New Prices):\")\n",
    "    for product, share in zip(product_names, new_shares):\n",
    "        print(f\"{product}: {share * 100:.0f}%\")\n",
    "    print(f\"\\nOriginal Revenue: ${original_revenue:,.0f}\")\n",
    "    print(f\"New Revenue: ${new_revenue:,.0f}\")\n",
    "\n",
    "    return results, original_utilities_df, original_choice_probs_df, new_utilities_df, new_choice_probs_df\n",
    "\n",
    "# Example usage\n",
    "product_names = ['Starter', 'Team', 'Business', 'Enterprise', 'Other']\n",
    "intercepts = [2.9618956, -4.9144808, 0, 1.5379867, 2.5918716]\n",
    "original_prices = [17, 43, 75, 226, 0]  # Added a price for 'Other'\n",
    "new_prices = [17, 43, 75, 226, 0]       # Added a price for 'Other'\n",
    "beta_mean = -2.7352404\n",
    "beta_std = 1.6406472\n",
    "N = 17000\n",
    "\n",
    "results, original_utilities_df, original_choice_probs_df, new_utilities_df, new_choice_probs_df = simulate(intercepts, original_prices, new_prices, beta_mean, beta_std, N, product_names, scaler_mu, scaler_sigma)\n"
   ]
  },
  {
   "cell_type": "markdown",
   "id": "def127b8-975d-40f9-8b69-d145faf4d4d0",
   "metadata": {},
   "source": [
    "# Improvement lab 2"
   ]
  },
  {
   "cell_type": "code",
   "execution_count": 53,
   "id": "3cc8e8c3-3a33-4816-bb58-54701839284b",
   "metadata": {},
   "outputs": [
    {
     "name": "stdout",
     "output_type": "stream",
     "text": [
      "37%\n",
      "0%\n",
      "0%\n",
      "2%\n",
      "60%\n",
      "Unstandardized Prices:\n",
      "[[ 17.  42.  68. 148.   0.]\n",
      " [ 17.  42.  68. 148.   0.]\n",
      " [ 17.  42.  68. 148.   0.]\n",
      " ...\n",
      " [ 17.  42.  68. 148.   0.]\n",
      " [ 17.  42.  68. 148.   0.]\n",
      " [ 17.  42.  68. 148.   0.]]\n"
     ]
    }
   ],
   "source": []
  },
  {
   "cell_type": "code",
   "execution_count": null,
   "id": "2f29c728-7da1-46cd-8b6a-954d9be9ca25",
   "metadata": {},
   "outputs": [],
   "source": []
  }
 ],
 "metadata": {
  "kernelspec": {
   "display_name": "Python (EconML)",
   "language": "python",
   "name": "econml"
  },
  "language_info": {
   "codemirror_mode": {
    "name": "ipython",
    "version": 3
   },
   "file_extension": ".py",
   "mimetype": "text/x-python",
   "name": "python",
   "nbconvert_exporter": "python",
   "pygments_lexer": "ipython3",
   "version": "3.11.5"
  }
 },
 "nbformat": 4,
 "nbformat_minor": 5
}
