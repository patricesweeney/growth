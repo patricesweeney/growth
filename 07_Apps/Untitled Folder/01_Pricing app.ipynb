{
 "cells": [
  {
   "cell_type": "markdown",
   "id": "a79e3f34",
   "metadata": {},
   "source": [
    "# Pricing app"
   ]
  },
  {
   "cell_type": "markdown",
   "id": "ca2e28ca",
   "metadata": {},
   "source": [
    "# Setup"
   ]
  },
  {
   "cell_type": "markdown",
   "id": "211d59ea",
   "metadata": {},
   "source": [
    "### Import data\n",
    "\n",
    "Firstly, we bring in our data. We require five variables:\n",
    "- A unique identifier for the customer\n",
    "- The name of the product that was purchased\n",
    "- The price of the product that was purchased\n",
    "- The number of units of the product purchased\n",
    "- The revenue of the purchase"
   ]
  },
  {
   "cell_type": "code",
   "execution_count": 32,
   "id": "3ec5b758",
   "metadata": {},
   "outputs": [
    {
     "data": {
      "text/html": [
       "<div>\n",
       "<style scoped>\n",
       "    .dataframe tbody tr th:only-of-type {\n",
       "        vertical-align: middle;\n",
       "    }\n",
       "\n",
       "    .dataframe tbody tr th {\n",
       "        vertical-align: top;\n",
       "    }\n",
       "\n",
       "    .dataframe thead th {\n",
       "        text-align: right;\n",
       "    }\n",
       "</style>\n",
       "<table border=\"1\" class=\"dataframe\">\n",
       "  <thead>\n",
       "    <tr style=\"text-align: right;\">\n",
       "      <th></th>\n",
       "      <th>id</th>\n",
       "      <th>product</th>\n",
       "      <th>revenue</th>\n",
       "      <th>volume</th>\n",
       "      <th>price</th>\n",
       "    </tr>\n",
       "  </thead>\n",
       "  <tbody>\n",
       "    <tr>\n",
       "      <th>0</th>\n",
       "      <td>d4a531d7-c73b-4d28-badf-e38d99d637f9</td>\n",
       "      <td>Starter</td>\n",
       "      <td>18.0</td>\n",
       "      <td>1</td>\n",
       "      <td>18.0</td>\n",
       "    </tr>\n",
       "    <tr>\n",
       "      <th>1</th>\n",
       "      <td>7b1ebf39-f6c6-4b8e-ba80-715b2a346413</td>\n",
       "      <td>Team</td>\n",
       "      <td>90.0</td>\n",
       "      <td>3</td>\n",
       "      <td>30.0</td>\n",
       "    </tr>\n",
       "    <tr>\n",
       "      <th>2</th>\n",
       "      <td>e350df96-c3f4-4768-be1e-86c4fd32f39d</td>\n",
       "      <td>Team</td>\n",
       "      <td>105.0</td>\n",
       "      <td>3</td>\n",
       "      <td>35.0</td>\n",
       "    </tr>\n",
       "    <tr>\n",
       "      <th>3</th>\n",
       "      <td>b4d3bcc4-4045-49b8-9639-d3082fd03cf1</td>\n",
       "      <td>Starter</td>\n",
       "      <td>18.0</td>\n",
       "      <td>2</td>\n",
       "      <td>9.0</td>\n",
       "    </tr>\n",
       "    <tr>\n",
       "      <th>4</th>\n",
       "      <td>1249c200-3688-4c28-8a77-57974d303578</td>\n",
       "      <td>Team</td>\n",
       "      <td>180.0</td>\n",
       "      <td>6</td>\n",
       "      <td>30.0</td>\n",
       "    </tr>\n",
       "  </tbody>\n",
       "</table>\n",
       "</div>"
      ],
      "text/plain": [
       "                                     id  product  revenue  volume  price\n",
       "0  d4a531d7-c73b-4d28-badf-e38d99d637f9  Starter     18.0       1   18.0\n",
       "1  7b1ebf39-f6c6-4b8e-ba80-715b2a346413     Team     90.0       3   30.0\n",
       "2  e350df96-c3f4-4768-be1e-86c4fd32f39d     Team    105.0       3   35.0\n",
       "3  b4d3bcc4-4045-49b8-9639-d3082fd03cf1  Starter     18.0       2    9.0\n",
       "4  1249c200-3688-4c28-8a77-57974d303578     Team    180.0       6   30.0"
      ]
     },
     "execution_count": 32,
     "metadata": {},
     "output_type": "execute_result"
    }
   ],
   "source": [
    "def import_data():\n",
    "    import pandas as pd\n",
    "    file_path = '/Users/patricksweeney/growth/07_Apps/Untitled Folder/Disaggregate models/Choice data 2.xlsx'\n",
    "    data = pd.read_excel(file_path)\n",
    "    return data\n",
    "\n",
    "data = import_data()\n",
    "data.head()"
   ]
  },
  {
   "cell_type": "markdown",
   "id": "62171f7e",
   "metadata": {},
   "source": [
    "### Check the data"
   ]
  },
  {
   "cell_type": "markdown",
   "id": "452b21e8-e669-4855-b4a0-67610ac47c84",
   "metadata": {},
   "source": [
    "As a precautionary measure, we check that:\n",
    "- All IDs are unique\n",
    "- $R = P \\times V$\n",
    "- $R > 0$\n",
    "- $P > 0$\n",
    "- $V > 0$"
   ]
  },
  {
   "cell_type": "code",
   "execution_count": 35,
   "id": "50c1962e-6a8b-47ad-9bad-f53f3f73c222",
   "metadata": {},
   "outputs": [
    {
     "name": "stdout",
     "output_type": "stream",
     "text": [
      "All IDs are unique.\n",
      "Total Revenue equals total Price times Volume.\n",
      "All revenue values are greater than 0.\n",
      "Warning: 96.00% of price values are not greater than 0.\n",
      "All volume values are greater than 0.\n"
     ]
    }
   ],
   "source": [
    "def check_data(data):\n",
    "    # Check for unique IDs\n",
    "    total_rows = len(data)\n",
    "    duplicate_ids = total_rows - data['id'].nunique()\n",
    "    if duplicate_ids > 0:\n",
    "        duplicate_percentage = (duplicate_ids / total_rows) * 100\n",
    "        print(f\"Warning: {duplicate_percentage:.2f}% of the rows have duplicate IDs.\")\n",
    "    else:\n",
    "        print(\"All IDs are unique.\")\n",
    "\n",
    "    # Compare total sum of revenue to sumproduct of price and volume\n",
    "    total_revenue = data['revenue'].sum()\n",
    "    total_price_volume = (data['price'] * data['volume']).sum()\n",
    "    if total_revenue != total_price_volume:\n",
    "        difference = total_price_volume - total_revenue\n",
    "        percentage_difference = (difference / total_revenue) * 100\n",
    "        print(f\"Warning: Total P x V is {percentage_difference:.2f}% {'greater' if difference > 0 else 'less'} than total Revenue.\")\n",
    "    else:\n",
    "        print(\"Total Revenue equals total Price times Volume.\")\n",
    "\n",
    "    # Check if revenue, price, volume are greater than 0 and calculate percentages\n",
    "    for column in ['revenue', 'price', 'volume']:\n",
    "        incorrect_values = data[data[column] <= 0]\n",
    "        if not incorrect_values.empty:\n",
    "            incorrect_percentage = (len(incorrect_values) / total_rows) * 100\n",
    "            print(f\"Warning: {incorrect_percentage:.2f}% of {column} values are not greater than 0.\")\n",
    "        else:\n",
    "            print(f\"All {column} values are greater than 0.\")\n",
    "\n",
    "# Example usage\n",
    "check_data(data)\n"
   ]
  },
  {
   "cell_type": "markdown",
   "id": "1f744967-f11d-4b74-8581-933fb5cd20cb",
   "metadata": {},
   "source": [
    "### Add the 'No-Purchase' option"
   ]
  },
  {
   "cell_type": "code",
   "execution_count": 34,
   "id": "60d9c8af-7897-471f-ad93-b775b850ce0b",
   "metadata": {},
   "outputs": [
    {
     "name": "stdout",
     "output_type": "stream",
     "text": [
      "Total number of rows: 74350\n",
      "Number of unique IDs: 74350\n"
     ]
    },
    {
     "data": {
      "text/html": [
       "<div>\n",
       "<style scoped>\n",
       "    .dataframe tbody tr th:only-of-type {\n",
       "        vertical-align: middle;\n",
       "    }\n",
       "\n",
       "    .dataframe tbody tr th {\n",
       "        vertical-align: top;\n",
       "    }\n",
       "\n",
       "    .dataframe thead th {\n",
       "        text-align: right;\n",
       "    }\n",
       "</style>\n",
       "<table border=\"1\" class=\"dataframe\">\n",
       "  <thead>\n",
       "    <tr style=\"text-align: right;\">\n",
       "      <th></th>\n",
       "      <th>id</th>\n",
       "      <th>product</th>\n",
       "      <th>revenue</th>\n",
       "      <th>volume</th>\n",
       "      <th>price</th>\n",
       "    </tr>\n",
       "  </thead>\n",
       "  <tbody>\n",
       "    <tr>\n",
       "      <th>0</th>\n",
       "      <td>d4a531d7-c73b-4d28-badf-e38d99d637f9</td>\n",
       "      <td>Starter</td>\n",
       "      <td>18.0</td>\n",
       "      <td>1</td>\n",
       "      <td>18.0</td>\n",
       "    </tr>\n",
       "    <tr>\n",
       "      <th>1</th>\n",
       "      <td>7b1ebf39-f6c6-4b8e-ba80-715b2a346413</td>\n",
       "      <td>Team</td>\n",
       "      <td>90.0</td>\n",
       "      <td>3</td>\n",
       "      <td>30.0</td>\n",
       "    </tr>\n",
       "    <tr>\n",
       "      <th>2</th>\n",
       "      <td>e350df96-c3f4-4768-be1e-86c4fd32f39d</td>\n",
       "      <td>Team</td>\n",
       "      <td>105.0</td>\n",
       "      <td>3</td>\n",
       "      <td>35.0</td>\n",
       "    </tr>\n",
       "    <tr>\n",
       "      <th>3</th>\n",
       "      <td>b4d3bcc4-4045-49b8-9639-d3082fd03cf1</td>\n",
       "      <td>Starter</td>\n",
       "      <td>18.0</td>\n",
       "      <td>2</td>\n",
       "      <td>9.0</td>\n",
       "    </tr>\n",
       "    <tr>\n",
       "      <th>4</th>\n",
       "      <td>1249c200-3688-4c28-8a77-57974d303578</td>\n",
       "      <td>Team</td>\n",
       "      <td>180.0</td>\n",
       "      <td>6</td>\n",
       "      <td>30.0</td>\n",
       "    </tr>\n",
       "  </tbody>\n",
       "</table>\n",
       "</div>"
      ],
      "text/plain": [
       "                                     id  product  revenue  volume  price\n",
       "0  d4a531d7-c73b-4d28-badf-e38d99d637f9  Starter     18.0       1   18.0\n",
       "1  7b1ebf39-f6c6-4b8e-ba80-715b2a346413     Team     90.0       3   30.0\n",
       "2  e350df96-c3f4-4768-be1e-86c4fd32f39d     Team    105.0       3   35.0\n",
       "3  b4d3bcc4-4045-49b8-9639-d3082fd03cf1  Starter     18.0       2    9.0\n",
       "4  1249c200-3688-4c28-8a77-57974d303578     Team    180.0       6   30.0"
      ]
     },
     "execution_count": 34,
     "metadata": {},
     "output_type": "execute_result"
    }
   ],
   "source": [
    "def add_nopurchase_option(data, paid_conversion_rate):\n",
    "    import pandas as pd\n",
    "    import numpy as np\n",
    "    import uuid\n",
    "    \n",
    "    # Calculate the number of 'Other' rows to add\n",
    "    current_count = len(data)\n",
    "    total_count_needed = current_count / paid_conversion_rate\n",
    "    other_count = int(total_count_needed - current_count)\n",
    "\n",
    "    # Create a DataFrame for 'Other' choices\n",
    "    other_data = pd.DataFrame({\n",
    "        'product': ['Other'] * other_count,\n",
    "        'price': [0] * other_count,\n",
    "        'volume': [1] * other_count,\n",
    "        # Add other columns as None\n",
    "    })\n",
    "\n",
    "    # Add other columns as None\n",
    "    for col in data.columns:\n",
    "        if col not in other_data:\n",
    "            other_data[col] = np.nan\n",
    "\n",
    "    # Generate unique UUIDs for the new rows\n",
    "    other_data['id'] = [str(uuid.uuid4()) for _ in range(other_count)]\n",
    "\n",
    "    # Append the 'Other' data to the original data\n",
    "    updated_data = pd.concat([data, other_data], ignore_index=True)\n",
    "\n",
    "    # Print the number of rows and the number of unique IDs\n",
    "    print(f\"Total number of rows: {len(updated_data)}\")\n",
    "    print(f\"Number of unique IDs: {updated_data['id'].nunique()}\")\n",
    "\n",
    "    return updated_data\n",
    "\n",
    "# Example usage\n",
    "data = add_nopurchase_option(data, 0.04)\n",
    "data.head()\n",
    "data.tail()"
   ]
  },
  {
   "cell_type": "markdown",
   "id": "e30f3ce7",
   "metadata": {},
   "source": [
    "### Declare variables and data preprocessing"
   ]
  },
  {
   "cell_type": "code",
   "execution_count": null,
   "id": "681b0dcc",
   "metadata": {
    "jupyter": {
     "source_hidden": true
    }
   },
   "outputs": [],
   "source": []
  },
  {
   "cell_type": "markdown",
   "id": "2799d8a9",
   "metadata": {},
   "source": [
    "# Summary statistics"
   ]
  },
  {
   "cell_type": "markdown",
   "id": "84e93d30",
   "metadata": {},
   "source": [
    "**Total Revenue**  \n",
    "\n",
    "**Total Customers**  \n",
    "**ARPA**  \n",
    "\n",
    "**Total Seats**  \n",
    "**ARPU**  \n",
    "\n",
    "\n",
    "\n",
    "**Revenue mix**  \n",
    "**Customer mix**  \n",
    "**Seat mix**  \n",
    "\n",
    "**Package ARPA**  \n",
    "**Package ARPU**  \n"
   ]
  },
  {
   "cell_type": "markdown",
   "id": "69482aa1-3978-41ee-a8fe-1a25ba5eede8",
   "metadata": {},
   "source": [
    "# Discrete choice and random utility models\n",
    "\n",
    "Discrete choice models the probability of a consumer choosing $j$ MECE choices as a function of some attribute. A natural attribute is price.\n",
    "In the context product choice, this usually means an $N+1$-dimesional demand system with $N$ inside goods and 1 additional 'Other' or 'No purchase' option.\n",
    "\n",
    "In the eyes of the decision maker, each choice $j$ is associated with a utility $U_j$. The decision maker will choose the alternative with the highest $U$.\n",
    "\n",
    "However, $U$ is not entirely determinstic. Total utility $U$ can be decomposed into a determinsitic component $V_j$ (observable to researcher), and an unobserved random variable $\\epsilon_j$ which is Gumbel distributed.\n",
    "\n"
   ]
  },
  {
   "cell_type": "markdown",
   "id": "f9a706f9-4ebd-4f0a-93ed-9f7ede2d531d",
   "metadata": {},
   "source": [
    "# Revenue maximisation"
   ]
  },
  {
   "cell_type": "markdown",
   "id": "c3217987-32ac-4ec9-a048-3efa0e07a4f5",
   "metadata": {},
   "source": [
    "In the interdependent case, a given product's demand $D_i$ is a function of all other product's prices.\n"
   ]
  },
  {
   "cell_type": "markdown",
   "id": "5db4048e-a7ed-4ae2-a08e-f20538f131fd",
   "metadata": {},
   "source": [
    "$$\\begin{equation}\n",
    "   \\max R = \\sum_{i=1}^N p_i \\cdot D_i(p_1, p_2, \\ldots, p_N)\n",
    "\\end{equation}$$\n",
    "\n",
    "Optimal prices are when all elements of the revenue Jacobian with respect to each price equal zero.\n",
    "\n",
    "$$\\begin{equation}\n",
    "    \\frac{\\partial R}{\\partial p_i} = 0 \\quad \\text{for each} \\quad i = 1, 2, \\ldots, N\n",
    "\\end{equation}$$\n",
    "\n",
    "\n",
    "\\begin{equation}\n",
    "    \\frac{\\partial R}{\\partial p_i} = D_i(p_1, \\ldots, p_N) + p_i \\cdot \\frac{\\partial D_i(p_1, \\ldots, p_N)}{\\partial p_i} + \\sum_{\\substack{j=1 \\\\ j \\neq i}}^N \\left( p_j \\cdot \\frac{\\partial D_j(p_1, \\ldots, p_N)}{\\partial p_i} \\right)\n",
    "\\end{equation}\n",
    "\n",
    "\n"
   ]
  },
  {
   "cell_type": "code",
   "execution_count": null,
   "id": "38039354-26c2-4f95-a50e-1df6763f3d7a",
   "metadata": {
    "jupyter": {
     "source_hidden": true
    }
   },
   "outputs": [],
   "source": []
  },
  {
   "cell_type": "markdown",
   "id": "6c8aabbd-52a2-4510-817b-fba91a00442c",
   "metadata": {},
   "source": [
    "# Outputs"
   ]
  },
  {
   "cell_type": "markdown",
   "id": "c1ac5b46-23a2-450a-b2ac-713802773cc5",
   "metadata": {},
   "source": [
    "### Pseudo-lift"
   ]
  },
  {
   "cell_type": "markdown",
   "id": "2a9d1005-a48d-44cc-b95a-12d01cbc53c8",
   "metadata": {},
   "source": [
    "**Revenue lift**  \n",
    "**Customer lift (and churn)**  \n",
    "**ARPA lift**"
   ]
  },
  {
   "cell_type": "markdown",
   "id": "4d3f8908-2103-4b7e-87f9-803808b07efc",
   "metadata": {},
   "source": [
    "### PVM"
   ]
  },
  {
   "cell_type": "markdown",
   "id": "dfcfc8cc-cd79-4abb-88d0-73b3a6a0f80e",
   "metadata": {},
   "source": [
    "### Customer-level distributions"
   ]
  },
  {
   "cell_type": "markdown",
   "id": "fd007ab5-392b-4fc2-bc1f-a29498dcc34e",
   "metadata": {},
   "source": [
    "### Product-level distributions"
   ]
  },
  {
   "cell_type": "code",
   "execution_count": null,
   "id": "78d565ff-712d-4408-b2d5-bcb4c88b2cf7",
   "metadata": {
    "jupyter": {
     "source_hidden": true
    }
   },
   "outputs": [],
   "source": []
  }
 ],
 "metadata": {
  "kernelspec": {
   "display_name": "Python (EconML)",
   "language": "python",
   "name": "econml"
  },
  "language_info": {
   "codemirror_mode": {
    "name": "ipython",
    "version": 3
   },
   "file_extension": ".py",
   "mimetype": "text/x-python",
   "name": "python",
   "nbconvert_exporter": "python",
   "pygments_lexer": "ipython3",
   "version": "3.11.5"
  }
 },
 "nbformat": 4,
 "nbformat_minor": 5
}
