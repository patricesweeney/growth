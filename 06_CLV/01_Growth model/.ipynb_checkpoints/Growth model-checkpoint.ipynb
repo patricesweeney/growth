{
 "cells": [
  {
   "cell_type": "markdown",
   "id": "9c4691bd-aa15-4e33-898e-35912d41385a",
   "metadata": {},
   "source": [
    "# Quantitive growth model"
   ]
  },
  {
   "cell_type": "markdown",
   "id": "910ce497-9659-4c3c-bbdd-5f0e4204aea1",
   "metadata": {},
   "source": [
    "The quantitative growth model breaks growth down into its constituent pieces and quantifies the causal driver of each piece.\n",
    "\n",
    "Customer equity is the sum of individual customer's CLV, representing the present value of cash flows from current and future customers.\n",
    "\n",
    "$$\\text{CE} = \\sum_{i = 1}^N \\frac{P_i \\times V_i \\times r_i}{1 + \\text{WACC} - r_i}$$\n",
    "\n",
    "The pieces are:\n",
    "- $N$: total number of customers\n",
    "- $P$: seat price\n",
    "- $V$: seat volume\n",
    "- $r$: retention rate\n",
    "- $WACC$: weighted-average cost of capital"
   ]
  },
  {
   "cell_type": "code",
   "execution_count": null,
   "id": "d182e2eb-a297-4906-a6f5-b58f9a217b14",
   "metadata": {},
   "outputs": [],
   "source": [
    "# Create DAG style network:\n",
    "\n",
    "#N -> CE\n",
    "#P -> CE\n",
    "#V -> CE\n",
    "#r -> CE\n",
    "\n",
    "\n",
    "#P -> V\n",
    "#N -> V\n",
    "#V -> r\n",
    "#P -> r"
   ]
  }
 ],
 "metadata": {
  "kernelspec": {
   "display_name": "Python (EconML)",
   "language": "python",
   "name": "econml"
  },
  "language_info": {
   "codemirror_mode": {
    "name": "ipython",
    "version": 3
   },
   "file_extension": ".py",
   "mimetype": "text/x-python",
   "name": "python",
   "nbconvert_exporter": "python",
   "pygments_lexer": "ipython3",
   "version": "3.11.5"
  }
 },
 "nbformat": 4,
 "nbformat_minor": 5
}
