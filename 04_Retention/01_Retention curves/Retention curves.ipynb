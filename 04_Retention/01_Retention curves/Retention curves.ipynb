{
 "cells": [
  {
   "cell_type": "markdown",
   "id": "c94dacda-367a-42b5-b827-2b77591cfc5e",
   "metadata": {},
   "source": [
    "# Data required\n",
    "\n",
    "- Conversion date [date]\n",
    "- Product [string]\n",
    "- Churn [bool]\n",
    "- Duration [int]\n",
    "- Covariates [float]"
   ]
  },
  {
   "cell_type": "markdown",
   "id": "fde771b3-3079-427f-8a1e-587298cb4b7d",
   "metadata": {},
   "source": [
    "# Import data"
   ]
  },
  {
   "cell_type": "code",
   "execution_count": null,
   "id": "7f7e408b-1431-48ac-92c3-32a13acb7e4b",
   "metadata": {},
   "outputs": [],
   "source": []
  },
  {
   "cell_type": "markdown",
   "id": "9837f0fd-22fd-4ce5-95b2-2dac7d5dc52c",
   "metadata": {},
   "source": [
    "# Create quarterly cohorts"
   ]
  },
  {
   "cell_type": "code",
   "execution_count": null,
   "id": "c8b73066-8fe1-43e5-8070-0d4e50da1b10",
   "metadata": {},
   "outputs": [],
   "source": []
  },
  {
   "cell_type": "markdown",
   "id": "6fc63fc3-9709-4f90-884f-bf07087b34dd",
   "metadata": {},
   "source": [
    "# Survival curves"
   ]
  },
  {
   "cell_type": "code",
   "execution_count": null,
   "id": "25504c3c-828e-4929-9393-d90faeca25d4",
   "metadata": {},
   "outputs": [],
   "source": []
  }
 ],
 "metadata": {
  "kernelspec": {
   "display_name": "Python (EconML)",
   "language": "python",
   "name": "econml"
  },
  "language_info": {
   "codemirror_mode": {
    "name": "ipython",
    "version": 3
   },
   "file_extension": ".py",
   "mimetype": "text/x-python",
   "name": "python",
   "nbconvert_exporter": "python",
   "pygments_lexer": "ipython3",
   "version": "3.11.5"
  }
 },
 "nbformat": 4,
 "nbformat_minor": 5
}
