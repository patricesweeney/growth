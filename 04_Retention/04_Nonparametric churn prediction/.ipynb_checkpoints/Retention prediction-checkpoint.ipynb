{
 "cells": [
  {
   "cell_type": "markdown",
   "id": "9f921b8f-312a-4d7b-bea9-14325d2a5f1e",
   "metadata": {},
   "source": [
    "# Problem: Retention"
   ]
  },
  {
   "cell_type": "markdown",
   "id": "802a4709-4b36-4b6f-bbd1-73fed34ad813",
   "metadata": {},
   "source": [
    "As a Series A company, achieving and demonstrating consistent, predictable revenue growth is crucial. High churn rates directly undermine this by eroding the customer base and revenue.\n",
    "\n",
    "Knowing which customers are more likely to churn allows for smarter allocation of support and service resources.\n",
    "Prioritizing high-risk customers with tailored engagement can improve retention rates effectively.\n",
    "\n"
   ]
  },
  {
   "cell_type": "markdown",
   "id": "7f8a660d-9997-48c4-a840-41e269b726f9",
   "metadata": {},
   "source": [
    "# Solution: Classification model"
   ]
  },
  {
   "cell_type": "markdown",
   "id": "3525ad5b-0d49-4c67-8b06-c613ae17b000",
   "metadata": {},
   "source": [
    "\n",
    "Gradient boosting is a machine learning technique commonly used for binary classification tasks like churn prediction. It builds a predictive model in a stage-wise fashion and is optimized for a binary classification loss function.\n",
    "\n",
    "**Basic Idea for Binary Classification**:\n",
    "- Aim: Predict whether a customer will churn (1) or not (0).\n",
    "- Combine several weak predictive models (typically decision trees) to create a strong predictive model.\n",
    "\n",
    "**xgBoost explained**:\n",
    "- Each decision tree in the ensemble focuses on the customers that previous trees predicted incorrectly.\n",
    "- The loss function typically used is the logistic loss, which is suitable for binary outcomes.\n",
    "- Regularization techniques (like controlling the number of trees, tree depth, and learning rate) are crucial to avoid overfitting.\n",
    "- The output can be transformed into a probability of churn using the logistic function.\n",
    "\n",
    "**Algorithm**:\n",
    "1. Initialize the model with a constant value:\n",
    "   $$ F_0(x) = \\arg\\min_{\\gamma} \\sum_{i=1}^{N} L(y_i, \\gamma) $$\n",
    "   where $F_0$ is the initial model, $L$ is the binary classification loss function (like logistic loss), $y_i$ are the true binary labels, and $N$ is the number of data points.\n",
    "\n",
    "2. For each stage $m = 1$ to $M$ (where $M$ is the number of boosting stages):\n",
    "   a. Compute the negative gradient (pseudo-residuals) for the binary classification loss function:\n",
    "      $$ r_{im} = -\\left[ \\frac{\\partial L(y_i, F(x_i))}{\\partial F(x_i)} \\right]_{F(x)=F_{m-1}(x)} \\quad \\text{for } i=1,2,\\dots,N $$\n",
    "   b. Fit a weak learner (e.g., a decision tree) to these pseudo-residuals.\n",
    "   c. Compute the multiplier $\\gamma_m$ for the weak learner by solving:\n",
    "      $$ \\gamma_m = \\arg\\min_{\\gamma} \\sum_{i=1}^{N} L(y_i, F_{m-1}(x_i) + \\gamma h_m(x_i)) $$\n",
    "      where $h_m(x_i)$ is the weak learner.\n",
    "   d. Update the model:\n",
    "      $$ F_m(x) = F_{m-1}(x) + \\gamma_m h_m(x) $$\n",
    "\n",
    "3. The final model is:\n",
    "   $$ F_M(x) = F_0(x) + \\sum_{m=1}^{M} \\gamma_m h_m(x) $$\n",
    "\n"
   ]
  },
  {
   "cell_type": "markdown",
   "id": "b35727f1-ad80-4326-9c36-c09e59a63d85",
   "metadata": {},
   "source": [
    "# Data required"
   ]
  },
  {
   "cell_type": "markdown",
   "id": "e8220345-1a1e-4a35-b037-c47a6d15e4ba",
   "metadata": {},
   "source": [
    "### $y$-variable\n",
    "- Churn status [bool]\n",
    "\n",
    "\n",
    "### $x$-variables\n",
    "\n",
    "**Billing information**\n",
    "- Product [str]\n",
    "- Annual billing cadence [bool]\n",
    "- Seats [int]\n",
    "- % Expansion [float]\n",
    "- Duration (current if live, until churn date if churned) [int]\n",
    "\n",
    "**Product RFM data**\n",
    "- Frequency [float] (average count per day): Projects, Transcriptions, Notes, Highlights, Tags, Comments, Invites, Shared Objects, Reels, Reel Views\n",
    "- Recency [int] (days since last activity): Projects, Transcriptions, Notes, Highlights, Tags, Comments, Invites, Shared Objects, Reels, Reel Views\n",
    "- MRR [float]\n",
    "\n",
    "Recency and frequency data should sample a specific period.\n",
    "\n",
    "*Monthly Customers:* \n",
    "- If churned, converted date to churn date - 15 days\n",
    "- If retained, converted date to min(current_date, next renewal date - 15 days)\n",
    "\n",
    "\n",
    "$$\\text{Data period starts}_m = \\text{Conversion date}_m$$\n",
    "$$\\text{Data period ends}_m = \\min(\\text{Current date}, \\text{Next renewal date - 15}_m)$$\n",
    "\n",
    "*Monthly Customers:* \n",
    "- If churned, converted date to churn date - 90 days\n",
    "- If retained, converted date to min(current_date, next renewal date - 90 days)\n",
    "\n",
    "\n",
    "$$\\text{Data period starts}_a = \\text{Conversion date}_a$$\n",
    "$$\\text{Data period ends}_a = \\min(\\text{Current date}, \\text{Next renewal date - 90}_a)$$\n",
    "\n",
    "### Additional features\n",
    "- ID\n",
    "- Name\n",
    "- Next billing date (if applicable)"
   ]
  },
  {
   "cell_type": "markdown",
   "id": "048405c8-6374-474f-8348-ba0b94d60254",
   "metadata": {},
   "source": [
    "# Import"
   ]
  },
  {
   "cell_type": "code",
   "execution_count": 1,
   "id": "1a6c8891-a44b-4cdf-94fa-9bfba4e57972",
   "metadata": {},
   "outputs": [],
   "source": [
    "def import_data_local_csv():\n",
    "    import pandas as pd\n",
    "    file_path = '/Users/patricksweeney/growth/04_Retention/04_Nonparametric churn prediction/Retention training.csv'\n",
    "    data = pd.read_csv(file_path)\n",
    "    return data"
   ]
  },
  {
   "cell_type": "code",
   "execution_count": 2,
   "id": "62e15e89-6652-41d5-b91a-275b0f9316c9",
   "metadata": {},
   "outputs": [],
   "source": [
    "def drop_variables(data, variables):\n",
    "    # Ensure 'variables' is a list\n",
    "    if not isinstance(variables, list):\n",
    "        raise ValueError(\"The 'variables' parameter should be a list of column names.\")\n",
    "\n",
    "    # Drop the specified columns\n",
    "    data = data.drop(columns=variables, errors='ignore')\n",
    "\n",
    "    return data"
   ]
  },
  {
   "cell_type": "markdown",
   "id": "0d5f7303-9abc-4ce8-8d0a-c4579103c519",
   "metadata": {},
   "source": [
    "# Check data"
   ]
  },
  {
   "cell_type": "code",
   "execution_count": 3,
   "id": "1420084b-9cb5-41e0-9d1b-f6cb034fb92a",
   "metadata": {},
   "outputs": [],
   "source": [
    "def find_missing_values(data):\n",
    "    missing_values = data.isnull().sum()\n",
    "    print(\"Features with missing values are...\")\n",
    "    print(missing_values)"
   ]
  },
  {
   "cell_type": "code",
   "execution_count": 4,
   "id": "153f2d70-07d1-462c-aaf2-502aeb69aedf",
   "metadata": {},
   "outputs": [],
   "source": [
    "def impute_missing_values(data):\n",
    "    import numpy as np\n",
    "    import pandas as pd\n",
    "    from sklearn.impute import SimpleImputer\n",
    "\n",
    "    # Create an imputer instance with median strategy\n",
    "    imputer = SimpleImputer(strategy='median')\n",
    "\n",
    "    # Extract numerical columns\n",
    "    data_num = data.select_dtypes(include=[np.number])\n",
    "\n",
    "    # Fit the imputer to the numerical data\n",
    "    imputer.fit(data_num)\n",
    "\n",
    "    # Transform the numerical data with the imputer\n",
    "    data_num_imputed = imputer.transform(data_num)\n",
    "\n",
    "    # Convert the imputed data back to a DataFrame\n",
    "    data_num_imputed_df = pd.DataFrame(data_num_imputed, columns=data_num.columns)\n",
    "\n",
    "    # Replace the original numerical columns with the imputed ones\n",
    "    data[data_num.columns] = data_num_imputed_df\n",
    "\n",
    "    return data"
   ]
  },
  {
   "cell_type": "markdown",
   "id": "89b18f06-50fb-4e34-ada2-dfc918ece153",
   "metadata": {},
   "source": [
    "# Feature engineering"
   ]
  },
  {
   "cell_type": "code",
   "execution_count": 5,
   "id": "ef629260-e57a-4b47-9aad-7cf3254e88ae",
   "metadata": {},
   "outputs": [],
   "source": [
    "def one_hot_encode(data, variables):\n",
    "    import pandas as pd\n",
    "    # Check if the input is a list of variables. If not, convert it to a list\n",
    "    if not isinstance(variables, list):\n",
    "        variables = [variables]\n",
    "    # Perform one-hot encoding only on the specified variables\n",
    "    for var in variables:\n",
    "        if var in data.columns:\n",
    "            # Get one-hot encoded dataframe with numeric type and drop the original column\n",
    "            one_hot = pd.get_dummies(data[var], prefix=var, dtype=int)\n",
    "            data = data.drop(var, axis=1)\n",
    "            data = data.join(one_hot)\n",
    "    return data\n",
    "\n",
    "# Variables to one-hot encode\n",
    "variables_to_encode = ['product', 'annual']\n"
   ]
  },
  {
   "cell_type": "code",
   "execution_count": 6,
   "id": "b873971d-995d-4f71-a5b9-9d0563697e17",
   "metadata": {},
   "outputs": [],
   "source": [
    "def gradient_boosting(data, y_variable):\n",
    "    # Separate the features and target variable (also drop not numeric X features)\n",
    "    X = data.drop(columns=[y_variable]).select_dtypes(include=np.number)\n",
    "    y = data[y_variable]"
   ]
  },
  {
   "cell_type": "markdown",
   "id": "468d4901-a48e-4b96-9925-552b05547afc",
   "metadata": {},
   "source": [
    "# Train and test Gradient Boosting"
   ]
  },
  {
   "cell_type": "code",
   "execution_count": 7,
   "id": "2fcf5488-8eb6-466e-b395-b34f071e3e9f",
   "metadata": {},
   "outputs": [],
   "source": [
    "def gradient_boosting(data, y_variable):\n",
    "    from sklearn.ensemble import GradientBoostingClassifier\n",
    "    from sklearn.model_selection import train_test_split, cross_val_score, StratifiedKFold\n",
    "    from sklearn.metrics import classification_report, confusion_matrix, roc_curve, auc, precision_recall_curve, cohen_kappa_score, brier_score_loss\n",
    "    from sklearn.calibration import calibration_curve\n",
    "    import matplotlib.pyplot as plt\n",
    "    import numpy as np\n",
    "    import pandas as pd\n",
    "\n",
    "    random_state = 1\n",
    "\n",
    "    # Separate the features and target variable (also drop not numeric X features)\n",
    "    X = data.drop(columns=[y_variable]).select_dtypes(include=np.number)\n",
    "    y = data[y_variable]\n",
    "\n",
    "    # Split data\n",
    "    X_train, X_test, y_train, y_test = train_test_split(X, y, test_size=0.2, random_state=random_state)\n",
    "\n",
    "    # 1. Train model\n",
    "    model = GradientBoostingClassifier()\n",
    "    model.fit(X_train, y_train)\n",
    "\n",
    "    # 2. Test model\n",
    "    cv = StratifiedKFold(n_splits=10)\n",
    "    cross_val_scores = cross_val_score(model, X, y, cv=cv)\n",
    "    print(\"Cross-validation scores:\", cross_val_scores)\n",
    "\n",
    "    # Predictions\n",
    "    y_pred = model.predict(X_test)\n",
    "    y_proba = model.predict_proba(X_test)[:, 1]\n",
    "\n",
    "    # 3. Calibration plot\n",
    "    prob_true, prob_pred = calibration_curve(y_test, y_proba, n_bins=10)\n",
    "    plt.plot(prob_pred, prob_true, \"s-\")\n",
    "    plt.plot([0, 1], [0, 1], \"k--\")\n",
    "    plt.xlabel(\"Mean Predicted Probability\")\n",
    "    plt.ylabel(\"True Probability\")\n",
    "    plt.title(\"Calibration Plot\")\n",
    "    plt.show()\n",
    "\n",
    "    # 4. Classification report\n",
    "    print(classification_report(y_test, y_pred))\n",
    "\n",
    "    # 5. Confusion matrix\n",
    "    print(\"Confusion matrix:\")\n",
    "    print(confusion_matrix(y_test, y_pred))\n",
    "\n",
    "    # 6. ROC and AUC\n",
    "    fpr, tpr, _ = roc_curve(y_test, y_proba)\n",
    "    roc_auc = auc(fpr, tpr)\n",
    "    plt.plot(fpr, tpr, label='AUC = %0.2f' % roc_auc)\n",
    "    plt.xlabel('False Positive Rate')\n",
    "    plt.ylabel('True Positive Rate')\n",
    "    plt.title('Receiver Operating Characteristic (ROC)')\n",
    "    plt.legend(loc=\"lower right\")\n",
    "    plt.show()\n",
    "\n",
    "    # 7. Precision recall curve\n",
    "    precision, recall, _ = precision_recall_curve(y_test, y_proba)\n",
    "    plt.plot(recall, precision)\n",
    "    plt.xlabel('Recall')\n",
    "    plt.ylabel('Precision')\n",
    "    plt.title('Precision-Recall Curve')\n",
    "    plt.show()\n",
    "\n",
    "    # 8. Cross-validation score\n",
    "    print(\"Average cross-validation score:\", np.mean(cross_val_scores))\n",
    "\n",
    "    # 11. Cohen's Kappa\n",
    "    kappa = cohen_kappa_score(y_test, y_pred)\n",
    "    print(\"Cohen's Kappa:\", kappa)\n",
    "\n",
    "    # 11.5 Brier Score\n",
    "    brier_score = brier_score_loss(y_test, y_proba)\n",
    "    print(f\"Brier Score: {brier_score}\")\n",
    "    \n",
    "    return model"
   ]
  },
  {
   "cell_type": "markdown",
   "id": "3edd183b-686c-4434-861d-88069f05246f",
   "metadata": {},
   "source": [
    "# Save model"
   ]
  },
  {
   "cell_type": "code",
   "execution_count": 7,
   "id": "569050d0-2945-4652-9553-df030ceb4ad1",
   "metadata": {},
   "outputs": [],
   "source": [
    "def save_model(model, filename):\n",
    "    import pickle\n",
    "    with open(filename, 'wb') as file:\n",
    "         pickle.dump(model, file)"
   ]
  },
  {
   "cell_type": "code",
   "execution_count": 8,
   "id": "0f828a02-a835-4c54-956a-e898c3113336",
   "metadata": {},
   "outputs": [],
   "source": [
    "def save_model_joblib(model, filename):\n",
    "    import joblib\n",
    "    # Save the model using joblib\n",
    "    joblib.dump(model, filename)"
   ]
  },
  {
   "cell_type": "markdown",
   "id": "8b08834b-ad96-4156-bafb-3f3490fd0122",
   "metadata": {},
   "source": [
    "# Return predictions"
   ]
  },
  {
   "cell_type": "code",
   "execution_count": 9,
   "id": "31129122-929d-41f4-a112-979122e5f028",
   "metadata": {},
   "outputs": [],
   "source": [
    "def get_predictions(data, model, y_variable):\n",
    "    import pandas as pd\n",
    "    import numpy as np\n",
    "\n",
    "    # Filter data where churn equals 0\n",
    "    churn_data = data[data[y_variable] == 0]\n",
    "\n",
    "    # Separate the features and retain the index\n",
    "    X_churn = churn_data.drop(columns=[y_variable]).select_dtypes(include=np.number)\n",
    "\n",
    "    # Make predictions\n",
    "    predictions = model.predict(X_churn)\n",
    "    probabilities = model.predict_proba(X_churn)[:, 1]\n",
    "\n",
    "    # Append predictions and probabilities to the original data\n",
    "    data.loc[churn_data.index, 'Prediction'] = predictions\n",
    "    data.loc[churn_data.index, 'Probability'] = probabilities\n",
    "\n",
    "    # Calculate and append the 'value_at_risk' by multiplying MRR with Probability\n",
    "    # Replace 'MRR' with the actual name of your MRR column in the data\n",
    "    data.loc[churn_data.index, 'value_at_risk'] = data.loc[churn_data.index, 'mrr'] * 12 * data.loc[churn_data.index, 'Probability']\n",
    "\n",
    "    return data"
   ]
  },
  {
   "cell_type": "code",
   "execution_count": 10,
   "id": "272aed6b-8577-4403-88c2-700bb80901ed",
   "metadata": {},
   "outputs": [],
   "source": [
    "def save_predictions(predictions, filename):\n",
    "    import pandas as pd\n",
    "\n",
    "    # Ensure the filename ends with '.xlsx'\n",
    "    if not filename.endswith('.xlsx'):\n",
    "        filename += '.xlsx'\n",
    "\n",
    "    # Save to Excel\n",
    "    predictions.to_excel(filename, index=False)"
   ]
  },
  {
   "cell_type": "markdown",
   "id": "4b17fd87-b8fd-4df5-8dec-292b1e97ef77",
   "metadata": {},
   "source": [
    "# Main"
   ]
  },
  {
   "cell_type": "markdown",
   "id": "77f37360-15d4-4da4-8679-c692e5e472f3",
   "metadata": {},
   "source": [
    "**Precision** of churn is the percentage of identified churners who actually churn.\n",
    "\n",
    "**Recall** is the percenters of churners who are identified.\n",
    "\n",
    "**Cohen's kappa** quantifies the agreement between the predictions and the actual outcomes, correcting for chance agreement.\n",
    "\n",
    "**Brier score** is the mean squared difference between predicted probabilities and the actual outcomes"
   ]
  },
  {
   "cell_type": "code",
   "execution_count": 8,
   "id": "44b6730d-f001-4a85-a6eb-8cc91dbd798b",
   "metadata": {},
   "outputs": [
    {
     "data": {
      "text/html": [
       "<div>\n",
       "<style scoped>\n",
       "    .dataframe tbody tr th:only-of-type {\n",
       "        vertical-align: middle;\n",
       "    }\n",
       "\n",
       "    .dataframe tbody tr th {\n",
       "        vertical-align: top;\n",
       "    }\n",
       "\n",
       "    .dataframe thead th {\n",
       "        text-align: right;\n",
       "    }\n",
       "</style>\n",
       "<table border=\"1\" class=\"dataframe\">\n",
       "  <thead>\n",
       "    <tr style=\"text-align: right;\">\n",
       "      <th></th>\n",
       "      <th>workspace_id</th>\n",
       "      <th>mrr_converted</th>\n",
       "      <th>mrr</th>\n",
       "      <th>expansion</th>\n",
       "      <th>churned</th>\n",
       "      <th>start_date</th>\n",
       "      <th>end_date</th>\n",
       "      <th>project_count_r</th>\n",
       "      <th>transcription_count_r</th>\n",
       "      <th>note_count_r</th>\n",
       "      <th>...</th>\n",
       "      <th>shared_object_tag_count_f</th>\n",
       "      <th>shared_object_insight_count_f</th>\n",
       "      <th>comment_count_f</th>\n",
       "      <th>reel_viewed_count_f</th>\n",
       "      <th>product_Business</th>\n",
       "      <th>product_Enterprise</th>\n",
       "      <th>product_Starter</th>\n",
       "      <th>product_Team</th>\n",
       "      <th>annual_0.0</th>\n",
       "      <th>annual_1.0</th>\n",
       "    </tr>\n",
       "  </thead>\n",
       "  <tbody>\n",
       "    <tr>\n",
       "      <th>0</th>\n",
       "      <td>02deacf1-5198-483d-9bca-376ad30c22dd</td>\n",
       "      <td>250.0</td>\n",
       "      <td>350.0</td>\n",
       "      <td>0.40</td>\n",
       "      <td>0.0</td>\n",
       "      <td>2022-02-11</td>\n",
       "      <td>2023-12-27</td>\n",
       "      <td>6.0</td>\n",
       "      <td>7.0</td>\n",
       "      <td>6.0</td>\n",
       "      <td>...</td>\n",
       "      <td>0.00731</td>\n",
       "      <td>0.097953</td>\n",
       "      <td>0.0</td>\n",
       "      <td>0.067251</td>\n",
       "      <td>0</td>\n",
       "      <td>0</td>\n",
       "      <td>0</td>\n",
       "      <td>1</td>\n",
       "      <td>1</td>\n",
       "      <td>0</td>\n",
       "    </tr>\n",
       "    <tr>\n",
       "      <th>1</th>\n",
       "      <td>2f32ad80-80cf-454c-83b1-55d40e9c684b</td>\n",
       "      <td>18.0</td>\n",
       "      <td>18.0</td>\n",
       "      <td>0.00</td>\n",
       "      <td>1.0</td>\n",
       "      <td>2022-12-09</td>\n",
       "      <td>2023-03-08</td>\n",
       "      <td>27.0</td>\n",
       "      <td>20.0</td>\n",
       "      <td>19.0</td>\n",
       "      <td>...</td>\n",
       "      <td>0.00000</td>\n",
       "      <td>0.000000</td>\n",
       "      <td>0.0</td>\n",
       "      <td>0.000000</td>\n",
       "      <td>0</td>\n",
       "      <td>0</td>\n",
       "      <td>1</td>\n",
       "      <td>0</td>\n",
       "      <td>1</td>\n",
       "      <td>0</td>\n",
       "    </tr>\n",
       "    <tr>\n",
       "      <th>2</th>\n",
       "      <td>2f671c70-030b-4202-a5fd-d6cb53b410a9</td>\n",
       "      <td>25.0</td>\n",
       "      <td>25.0</td>\n",
       "      <td>0.00</td>\n",
       "      <td>0.0</td>\n",
       "      <td>2023-11-03</td>\n",
       "      <td>2024-01-04</td>\n",
       "      <td>62.0</td>\n",
       "      <td>20.0</td>\n",
       "      <td>20.0</td>\n",
       "      <td>...</td>\n",
       "      <td>0.00000</td>\n",
       "      <td>0.000000</td>\n",
       "      <td>0.0</td>\n",
       "      <td>0.016129</td>\n",
       "      <td>0</td>\n",
       "      <td>0</td>\n",
       "      <td>1</td>\n",
       "      <td>0</td>\n",
       "      <td>0</td>\n",
       "      <td>1</td>\n",
       "    </tr>\n",
       "    <tr>\n",
       "      <th>3</th>\n",
       "      <td>2fa16073-c492-45fe-8158-84ee254ff324</td>\n",
       "      <td>200.0</td>\n",
       "      <td>270.0</td>\n",
       "      <td>0.35</td>\n",
       "      <td>1.0</td>\n",
       "      <td>2021-10-01</td>\n",
       "      <td>2023-07-03</td>\n",
       "      <td>264.0</td>\n",
       "      <td>259.0</td>\n",
       "      <td>259.0</td>\n",
       "      <td>...</td>\n",
       "      <td>0.00000</td>\n",
       "      <td>0.001825</td>\n",
       "      <td>0.0</td>\n",
       "      <td>0.000000</td>\n",
       "      <td>0</td>\n",
       "      <td>0</td>\n",
       "      <td>0</td>\n",
       "      <td>1</td>\n",
       "      <td>0</td>\n",
       "      <td>1</td>\n",
       "    </tr>\n",
       "    <tr>\n",
       "      <th>4</th>\n",
       "      <td>38a47213-69f6-483d-8bf6-7d89d6951e7d</td>\n",
       "      <td>50.0</td>\n",
       "      <td>50.0</td>\n",
       "      <td>0.00</td>\n",
       "      <td>0.0</td>\n",
       "      <td>2023-05-08</td>\n",
       "      <td>2023-12-24</td>\n",
       "      <td>52.0</td>\n",
       "      <td>83.0</td>\n",
       "      <td>6.0</td>\n",
       "      <td>...</td>\n",
       "      <td>0.00000</td>\n",
       "      <td>0.008696</td>\n",
       "      <td>0.0</td>\n",
       "      <td>0.000000</td>\n",
       "      <td>0</td>\n",
       "      <td>0</td>\n",
       "      <td>1</td>\n",
       "      <td>0</td>\n",
       "      <td>1</td>\n",
       "      <td>0</td>\n",
       "    </tr>\n",
       "  </tbody>\n",
       "</table>\n",
       "<p>5 rows × 41 columns</p>\n",
       "</div>"
      ],
      "text/plain": [
       "                           workspace_id  mrr_converted    mrr  expansion  \\\n",
       "0  02deacf1-5198-483d-9bca-376ad30c22dd          250.0  350.0       0.40   \n",
       "1  2f32ad80-80cf-454c-83b1-55d40e9c684b           18.0   18.0       0.00   \n",
       "2  2f671c70-030b-4202-a5fd-d6cb53b410a9           25.0   25.0       0.00   \n",
       "3  2fa16073-c492-45fe-8158-84ee254ff324          200.0  270.0       0.35   \n",
       "4  38a47213-69f6-483d-8bf6-7d89d6951e7d           50.0   50.0       0.00   \n",
       "\n",
       "   churned  start_date    end_date  project_count_r  transcription_count_r  \\\n",
       "0      0.0  2022-02-11  2023-12-27              6.0                    7.0   \n",
       "1      1.0  2022-12-09  2023-03-08             27.0                   20.0   \n",
       "2      0.0  2023-11-03  2024-01-04             62.0                   20.0   \n",
       "3      1.0  2021-10-01  2023-07-03            264.0                  259.0   \n",
       "4      0.0  2023-05-08  2023-12-24             52.0                   83.0   \n",
       "\n",
       "   note_count_r  ...  shared_object_tag_count_f  \\\n",
       "0           6.0  ...                    0.00731   \n",
       "1          19.0  ...                    0.00000   \n",
       "2          20.0  ...                    0.00000   \n",
       "3         259.0  ...                    0.00000   \n",
       "4           6.0  ...                    0.00000   \n",
       "\n",
       "   shared_object_insight_count_f  comment_count_f  reel_viewed_count_f  \\\n",
       "0                       0.097953              0.0             0.067251   \n",
       "1                       0.000000              0.0             0.000000   \n",
       "2                       0.000000              0.0             0.016129   \n",
       "3                       0.001825              0.0             0.000000   \n",
       "4                       0.008696              0.0             0.000000   \n",
       "\n",
       "   product_Business  product_Enterprise  product_Starter  product_Team  \\\n",
       "0                 0                   0                0             1   \n",
       "1                 0                   0                1             0   \n",
       "2                 0                   0                1             0   \n",
       "3                 0                   0                0             1   \n",
       "4                 0                   0                1             0   \n",
       "\n",
       "   annual_0.0  annual_1.0  \n",
       "0           1           0  \n",
       "1           1           0  \n",
       "2           0           1  \n",
       "3           0           1  \n",
       "4           1           0  \n",
       "\n",
       "[5 rows x 41 columns]"
      ]
     },
     "execution_count": 8,
     "metadata": {},
     "output_type": "execute_result"
    }
   ],
   "source": [
    "#Import\n",
    "data = import_data_local_csv()\n",
    "data = drop_variables(data, ['t'])\n",
    "\n",
    "#Preprocess\n",
    "data = impute_missing_values(data)\n",
    "data = one_hot_encode(data, variables_to_encode)\n",
    "data.head()\n"
   ]
  },
  {
   "cell_type": "code",
   "execution_count": 12,
   "id": "5900cb6b",
   "metadata": {},
   "outputs": [
    {
     "name": "stdout",
     "output_type": "stream",
     "text": [
      "Cross-validation scores: [0.91084695 0.92273403 0.91964286 0.91964286 0.94047619 0.93452381\n",
      " 0.92113095 0.91815476 0.92410714 0.90625   ]\n"
     ]
    },
    {
     "data": {
      "image/png": "[encoded data removed]",
      "text/plain": [
       "<Figure size 640x480 with 1 Axes>"
      ]
     },
     "metadata": {},
     "output_type": "display_data"
    },
    {
     "name": "stdout",
     "output_type": "stream",
     "text": [
      "              precision    recall  f1-score   support\n",
      "\n",
      "         0.0       0.93      0.96      0.94       814\n",
      "         1.0       0.93      0.89      0.91       531\n",
      "\n",
      "    accuracy                           0.93      1345\n",
      "   macro avg       0.93      0.92      0.93      1345\n",
      "weighted avg       0.93      0.93      0.93      1345\n",
      "\n",
      "Confusion matrix:\n",
      "[[781  33]\n",
      " [ 61 470]]\n"
     ]
    },
    {
     "data": {
      "image/png": "[encoded data removed]",
      "text/plain": [
       "<Figure size 640x480 with 1 Axes>"
      ]
     },
     "metadata": {},
     "output_type": "display_data"
    },
    {
     "data": {
      "image/png": "[encoded data removed]",
      "text/plain": [
       "<Figure size 640x480 with 1 Axes>"
      ]
     },
     "metadata": {},
     "output_type": "display_data"
    },
    {
     "name": "stdout",
     "output_type": "stream",
     "text": [
      "Average cross-validation score: 0.9217509552112079\n",
      "Cohen's Kappa: 0.8523952067844734\n",
      "Brier Score: 0.05660692757493624\n"
     ]
    }
   ],
   "source": [
    "\n",
    "#Train and test\n",
    "model = gradient_boosting(data, 'churned')\n",
    "\n",
    "#Predict\n",
    "predictions = get_predictions(data, model, 'churned')\n",
    "\n",
    "#Save\n",
    "save_model(model, 'gradient_boosting_churn.pkl')\n",
    "save_model_joblib(model, 'gradient_boosting_churn.joblib')\n",
    "\n",
    "save_predictions(predictions, 'predictions.xlsx')"
   ]
  }
 ],
 "metadata": {
  "kernelspec": {
   "display_name": "Python (EconML)",
   "language": "python",
   "name": "econml"
  },
  "language_info": {
   "codemirror_mode": {
    "name": "ipython",
    "version": 3
   },
   "file_extension": ".py",
   "mimetype": "text/x-python",
   "name": "python",
   "nbconvert_exporter": "python",
   "pygments_lexer": "ipython3",
   "version": "3.11.5"
  }
 },
 "nbformat": 4,
 "nbformat_minor": 5
}
